{
 "cells": [
  {
   "cell_type": "markdown",
   "metadata": {},
   "source": [
    "# 1. Importing libraries"
   ]
  },
  {
   "cell_type": "code",
   "execution_count": 1,
   "metadata": {},
   "outputs": [],
   "source": [
    "import matplotlib.pyplot as plt\n",
    "import numpy as np\n",
    "import pandas as pd\n",
    "import scipy.stats as st"
   ]
  },
  {
   "cell_type": "markdown",
   "metadata": {},
   "source": [
    "# 2. Reading in dataset"
   ]
  },
  {
   "cell_type": "code",
   "execution_count": 2,
   "metadata": {},
   "outputs": [
    {
     "data": {
      "text/html": [
       "<div>\n",
       "<style scoped>\n",
       "    .dataframe tbody tr th:only-of-type {\n",
       "        vertical-align: middle;\n",
       "    }\n",
       "\n",
       "    .dataframe tbody tr th {\n",
       "        vertical-align: top;\n",
       "    }\n",
       "\n",
       "    .dataframe thead th {\n",
       "        text-align: right;\n",
       "    }\n",
       "</style>\n",
       "<table border=\"1\" class=\"dataframe\">\n",
       "  <thead>\n",
       "    <tr style=\"text-align: right;\">\n",
       "      <th></th>\n",
       "      <th>Longitude</th>\n",
       "      <th>Latitude</th>\n",
       "      <th>Status</th>\n",
       "      <th>Address Type</th>\n",
       "      <th>Severity Description</th>\n",
       "      <th>Collision Type</th>\n",
       "      <th>Number of People Involved</th>\n",
       "      <th>Number of Pedestrians Involved</th>\n",
       "      <th>Number of Bicycles Involved</th>\n",
       "      <th>Number of Vehicles Involved</th>\n",
       "      <th>...</th>\n",
       "      <th>Month</th>\n",
       "      <th>Date</th>\n",
       "      <th>Hour</th>\n",
       "      <th>Minute</th>\n",
       "      <th>Speed</th>\n",
       "      <th>Road Congestion</th>\n",
       "      <th>Road Length</th>\n",
       "      <th>Neighborhood</th>\n",
       "      <th>Num People Square</th>\n",
       "      <th>Day of the Week</th>\n",
       "    </tr>\n",
       "  </thead>\n",
       "  <tbody>\n",
       "    <tr>\n",
       "      <th>0</th>\n",
       "      <td>-122.292141</td>\n",
       "      <td>47.536087</td>\n",
       "      <td>Matched</td>\n",
       "      <td>Block</td>\n",
       "      <td>Not Severe</td>\n",
       "      <td>Sideswipe</td>\n",
       "      <td>2</td>\n",
       "      <td>0</td>\n",
       "      <td>0</td>\n",
       "      <td>2</td>\n",
       "      <td>...</td>\n",
       "      <td>12</td>\n",
       "      <td>12</td>\n",
       "      <td>15</td>\n",
       "      <td>49</td>\n",
       "      <td>48.0</td>\n",
       "      <td>2.36674</td>\n",
       "      <td>0.56104</td>\n",
       "      <td>Riverton</td>\n",
       "      <td>4</td>\n",
       "      <td>Wednesday</td>\n",
       "    </tr>\n",
       "    <tr>\n",
       "      <th>1</th>\n",
       "      <td>-122.335422</td>\n",
       "      <td>47.598752</td>\n",
       "      <td>Matched</td>\n",
       "      <td>Block</td>\n",
       "      <td>Not Severe</td>\n",
       "      <td>Other</td>\n",
       "      <td>1</td>\n",
       "      <td>0</td>\n",
       "      <td>0</td>\n",
       "      <td>1</td>\n",
       "      <td>...</td>\n",
       "      <td>12</td>\n",
       "      <td>16</td>\n",
       "      <td>2</td>\n",
       "      <td>44</td>\n",
       "      <td>85.0</td>\n",
       "      <td>-1.00000</td>\n",
       "      <td>0.36276</td>\n",
       "      <td>Seattle</td>\n",
       "      <td>1</td>\n",
       "      <td>Sunday</td>\n",
       "    </tr>\n",
       "    <tr>\n",
       "      <th>2</th>\n",
       "      <td>-122.331579</td>\n",
       "      <td>47.598746</td>\n",
       "      <td>Matched</td>\n",
       "      <td>Block</td>\n",
       "      <td>Not Severe</td>\n",
       "      <td>Sideswipe</td>\n",
       "      <td>2</td>\n",
       "      <td>0</td>\n",
       "      <td>0</td>\n",
       "      <td>2</td>\n",
       "      <td>...</td>\n",
       "      <td>12</td>\n",
       "      <td>17</td>\n",
       "      <td>13</td>\n",
       "      <td>26</td>\n",
       "      <td>13.0</td>\n",
       "      <td>-1.00000</td>\n",
       "      <td>0.36276</td>\n",
       "      <td>Seattle</td>\n",
       "      <td>4</td>\n",
       "      <td>Monday</td>\n",
       "    </tr>\n",
       "    <tr>\n",
       "      <th>3</th>\n",
       "      <td>-122.334188</td>\n",
       "      <td>47.571578</td>\n",
       "      <td>Matched</td>\n",
       "      <td>Block</td>\n",
       "      <td>Not Severe</td>\n",
       "      <td>Other</td>\n",
       "      <td>2</td>\n",
       "      <td>0</td>\n",
       "      <td>0</td>\n",
       "      <td>1</td>\n",
       "      <td>...</td>\n",
       "      <td>12</td>\n",
       "      <td>20</td>\n",
       "      <td>2</td>\n",
       "      <td>25</td>\n",
       "      <td>58.0</td>\n",
       "      <td>0.00000</td>\n",
       "      <td>1.73291</td>\n",
       "      <td>Seattle</td>\n",
       "      <td>4</td>\n",
       "      <td>Thursday</td>\n",
       "    </tr>\n",
       "    <tr>\n",
       "      <th>5</th>\n",
       "      <td>-122.337348</td>\n",
       "      <td>47.520472</td>\n",
       "      <td>Matched</td>\n",
       "      <td>Block</td>\n",
       "      <td>Not Severe</td>\n",
       "      <td>Sideswipe</td>\n",
       "      <td>2</td>\n",
       "      <td>0</td>\n",
       "      <td>0</td>\n",
       "      <td>2</td>\n",
       "      <td>...</td>\n",
       "      <td>12</td>\n",
       "      <td>14</td>\n",
       "      <td>17</td>\n",
       "      <td>33</td>\n",
       "      <td>55.0</td>\n",
       "      <td>1.57819</td>\n",
       "      <td>0.74738</td>\n",
       "      <td>White Center</td>\n",
       "      <td>4</td>\n",
       "      <td>Friday</td>\n",
       "    </tr>\n",
       "  </tbody>\n",
       "</table>\n",
       "<p>5 rows × 33 columns</p>\n",
       "</div>"
      ],
      "text/plain": [
       "    Longitude   Latitude   Status Address Type Severity Description  \\\n",
       "0 -122.292141  47.536087  Matched        Block           Not Severe   \n",
       "1 -122.335422  47.598752  Matched        Block           Not Severe   \n",
       "2 -122.331579  47.598746  Matched        Block           Not Severe   \n",
       "3 -122.334188  47.571578  Matched        Block           Not Severe   \n",
       "5 -122.337348  47.520472  Matched        Block           Not Severe   \n",
       "\n",
       "  Collision Type  Number of People Involved  Number of Pedestrians Involved  \\\n",
       "0      Sideswipe                          2                               0   \n",
       "1          Other                          1                               0   \n",
       "2      Sideswipe                          2                               0   \n",
       "3          Other                          2                               0   \n",
       "5      Sideswipe                          2                               0   \n",
       "\n",
       "   Number of Bicycles Involved  Number of Vehicles Involved  ...  Month  Date  \\\n",
       "0                            0                            2  ...     12    12   \n",
       "1                            0                            1  ...     12    16   \n",
       "2                            0                            2  ...     12    17   \n",
       "3                            0                            1  ...     12    20   \n",
       "5                            0                            2  ...     12    14   \n",
       "\n",
       "   Hour Minute Speed Road Congestion Road Length  Neighborhood  \\\n",
       "0    15     49  48.0         2.36674     0.56104      Riverton   \n",
       "1     2     44  85.0        -1.00000     0.36276       Seattle   \n",
       "2    13     26  13.0        -1.00000     0.36276       Seattle   \n",
       "3     2     25  58.0         0.00000     1.73291       Seattle   \n",
       "5    17     33  55.0         1.57819     0.74738  White Center   \n",
       "\n",
       "  Num People Square Day of the Week  \n",
       "0                 4       Wednesday  \n",
       "1                 1          Sunday  \n",
       "2                 4          Monday  \n",
       "3                 4        Thursday  \n",
       "5                 4          Friday  \n",
       "\n",
       "[5 rows x 33 columns]"
      ]
     },
     "execution_count": 2,
     "metadata": {},
     "output_type": "execute_result"
    }
   ],
   "source": [
    "df = pd.read_csv('df_binary.csv',index_col=0)\n",
    "df.head()"
   ]
  },
  {
   "cell_type": "markdown",
   "metadata": {},
   "source": [
    "# 3. Inference for comparing categorical variables using Chi-squared distribution"
   ]
  },
  {
   "cell_type": "markdown",
   "metadata": {},
   "source": [
    "Since the chi-squared distribution is used to test the hypothesis whether two categorical variables are independent, we can use this statistical method for comparing every categorical explanatory variable in our dataset with the severity target variable in order to establish an inference. "
   ]
  },
  {
   "cell_type": "markdown",
   "metadata": {},
   "source": [
    "### a. Day of the Week and Severity"
   ]
  },
  {
   "cell_type": "markdown",
   "metadata": {},
   "source": [
    "**Question**: Is there a relation between the hour variable and severity. Can the pattern of collisions during the day explain the variability in severity? \n",
    "\n",
    "**Null hypothesis**: Severity and rate of collisions during certain days of the week are independent. \n",
    "\n",
    "**Alternatve hypothesis**: Severity and rate of collisions during certain days of the week are not independent.\n",
    "\n",
    "For our analysis, we pick a confidence level of 5% or 0.05. \n",
    "\n",
    "**Significance level**: 5%\n",
    "\n",
    "Here we will analyze the given sample data to compute\n",
    "\n",
    "- Degree of freedom\n",
    "- Expected Frequency Count of sample variable\n",
    "- Calculate Chi-Square test static value"
   ]
  },
  {
   "cell_type": "markdown",
   "metadata": {},
   "source": [
    "Below we create a function that takes in a categorical variable from the dataset to be compared with the severity variable using a chi-squared hypothesis test for independence. The function creates a contingency table for the two categorical variables. \n",
    "\n",
    "From the contingency table, the degrees of freedom and expected values can be determined. The function finally returns the degrees of freedom and the chi-squared statistic which can be further used to calculate the p-value for statistical inference. "
   ]
  },
  {
   "cell_type": "markdown",
   "metadata": {},
   "source": [
    "**Degrees of freedom (df)**: (r-1) x (c-1)\n",
    "\n",
    "*r*: number of rows in the table above\n",
    "\n",
    "*c*: number of columns in the table above\n",
    "\n",
    "df = 6\n",
    "\n",
    "*Eij (expected values)* = (ith row total X jth column total) / grand total"
   ]
  },
  {
   "cell_type": "markdown",
   "metadata": {},
   "source": [
    "**Calculating Chi-squares**\n",
    "\n",
    "Summation(((Oi-Ei)^2)/Ei)\n",
    "\n",
    "Χ² = Σ [ (Oi,j — Ei,j)² / Ei,j ]\n",
    "\n",
    "O: Observed value\n",
    "E: Expected value"
   ]
  },
  {
   "cell_type": "code",
   "execution_count": 3,
   "metadata": {},
   "outputs": [],
   "source": [
    "def chi_sq_cat(var):\n",
    "    df_pivot = pd.pivot_table(df[[var,'Severity Description','Latitude']],index=var,columns='Severity Description',aggfunc='count')\n",
    "    df_pivot['Row Total'] = df_pivot[('Latitude','Not Severe')] + df_pivot[('Latitude','Severe')]\n",
    "    new_row = df_pivot.apply(sum)\n",
    "    df_pivot = df_pivot.append(pd.DataFrame([new_row]))\n",
    "    print (df_pivot)\n",
    "    print ()\n",
    "    \n",
    "    dof = (df_pivot.shape[0]-2)*(df_pivot.shape[1]-2)\n",
    "\n",
    "    exp_vals = []\n",
    "    for i in range(df_pivot.shape[0]):\n",
    "        for j in range(df_pivot.shape[1]):\n",
    "            exp_vals.append((df_pivot.iloc[i,df_pivot.shape[1]-1]*df_pivot.iloc[df_pivot.shape[0]-1,j])/205394)\n",
    "\n",
    "    exp_vals = np.array(exp_vals).reshape(df_pivot.shape[0],df_pivot.shape[1])\n",
    "    print (\"Expected values: \",exp_vals)\n",
    "    print ()\n",
    "\n",
    "    chi = []\n",
    "    for i in range(df_pivot.shape[0]):\n",
    "        for j in range(df_pivot.shape[1]):\n",
    "            chi.append(np.square((df_pivot.iloc[i,j] - exp_vals[i,j]))/exp_vals[i,j])\n",
    "    chi = np.sum(chi)\n",
    "    print (\"Chi-squared value: \",chi)\n",
    "    print (\"Degrees of freedom: \",dof)\n",
    "    return dof,chi"
   ]
  },
  {
   "cell_type": "code",
   "execution_count": 4,
   "metadata": {},
   "outputs": [
    {
     "name": "stdout",
     "output_type": "stream",
     "text": [
      "                       Latitude        Row Total\n",
      "Severity Description Not Severe Severe          \n",
      "Friday                    33307    544     33851\n",
      "Monday                    27517    414     27931\n",
      "Saturday                  28302    442     28744\n",
      "Sunday                    22650    384     23034\n",
      "Thursday                  30562    518     31080\n",
      "Tuesday                   29714    469     30183\n",
      "Wednesday                 30107    464     30571\n",
      "0                        202159   3235    205394\n",
      "\n",
      "Expected values:  [[ 33317.83941595    533.16058405  33851.        ]\n",
      " [ 27491.08069856    439.91930144  27931.        ]\n",
      " [ 28291.27577242    452.72422758  28744.        ]\n",
      " [ 22671.20950953    362.79049047  23034.        ]\n",
      " [ 30590.48326631    489.51673369  31080.        ]\n",
      " [ 29707.61121065    475.38878935  30183.        ]\n",
      " [ 30089.50012659    481.49987341  30571.        ]\n",
      " [202159.           3235.         205394.        ]]\n",
      "\n",
      "Chi-squared value:  5.710652518990452\n",
      "Degrees of freedom:  6\n"
     ]
    },
    {
     "data": {
      "text/plain": [
       "(6, 5.710652518990452)"
      ]
     },
     "execution_count": 4,
     "metadata": {},
     "output_type": "execute_result"
    }
   ],
   "source": [
    "#Retrieving the chi-squared value and degrees of freedom using the chi_sq_cat function\n",
    "chi,dof = chi_sq_cat(\"Day of the Week\")\n",
    "chi,dof"
   ]
  },
  {
   "cell_type": "markdown",
   "metadata": {},
   "source": [
    "The P-Value is 0.456377 and was determined using an online chi-square calculator. This can also be determined manually and using Python. "
   ]
  },
  {
   "cell_type": "markdown",
   "metadata": {},
   "source": [
    "Since our p-value is not significant (more than 0.05), we cannot reject the null hypothesis. There is no sufficient evidence to indicate that severity is not independent of day of the week. "
   ]
  },
  {
   "cell_type": "code",
   "execution_count": 8,
   "metadata": {},
   "outputs": [],
   "source": [
    "#plt.plot(st.chi2)"
   ]
  },
  {
   "cell_type": "markdown",
   "metadata": {},
   "source": [
    "### b. Month vs Severity "
   ]
  },
  {
   "cell_type": "code",
   "execution_count": 9,
   "metadata": {},
   "outputs": [
    {
     "name": "stdout",
     "output_type": "stream",
     "text": [
      "                       Latitude        Row Total\n",
      "Severity Description Not Severe Severe          \n",
      "1                         16769    266     17035\n",
      "2                         14773    216     14989\n",
      "3                         16692    285     16977\n",
      "4                         16661    246     16907\n",
      "5                         17734    262     17996\n",
      "6                         17467    257     17724\n",
      "7                         17482    326     17808\n",
      "8                         17321    326     17647\n",
      "9                         16203    258     16461\n",
      "10                        17986    294     18280\n",
      "11                        16805    268     17073\n",
      "12                        16266    231     16497\n",
      "0                        202159   3235    205394\n",
      "\n",
      "Expected values:  [[ 16766.69505925    268.30494075  17035.        ]\n",
      " [ 14752.92000253    236.07999747  14989.        ]\n",
      " [ 16709.60857182    267.39142818  16977.        ]\n",
      " [ 16640.71108698    266.28891302  16907.        ]\n",
      " [ 17712.55910104    283.44089896  17996.        ]\n",
      " [ 17444.84315998    279.15684002  17724.        ]\n",
      " [ 17527.52014178    280.47985822  17808.        ]\n",
      " [ 17369.05592666    277.94407334  17647.        ]\n",
      " [ 16201.73568361    259.26431639  16461.        ]\n",
      " [ 17992.08603951    287.91396049  18280.        ]\n",
      " [ 16804.09655102    268.90344898  17073.        ]\n",
      " [ 16237.16867581    259.83132419  16497.        ]\n",
      " [202159.           3235.         205394.        ]]\n",
      "\n",
      "Chi-squared value:  27.276680716343627\n",
      "Degrees of freedom:  11\n"
     ]
    },
    {
     "data": {
      "text/plain": [
       "(11, 27.276680716343627)"
      ]
     },
     "execution_count": 9,
     "metadata": {},
     "output_type": "execute_result"
    }
   ],
   "source": [
    "chi,dof = chi_sq_cat(\"Month\")\n",
    "chi,dof"
   ]
  },
  {
   "cell_type": "markdown",
   "metadata": {},
   "source": [
    "p-value: 0.004\n",
    "\n",
    "A p-value less than the significance level indicates that severity and collision patterns across months are not independent. This would indicate that there could be some relation between severity and month. "
   ]
  },
  {
   "cell_type": "markdown",
   "metadata": {},
   "source": [
    "### c. Hour vs Severity"
   ]
  },
  {
   "cell_type": "code",
   "execution_count": 10,
   "metadata": {},
   "outputs": [
    {
     "name": "stdout",
     "output_type": "stream",
     "text": [
      "                       Latitude        Row Total\n",
      "Severity Description Not Severe Severe          \n",
      "0                         52119    585     52704\n",
      "1                          3201     96      3297\n",
      "2                          3369     83      3452\n",
      "3                          1533     41      1574\n",
      "4                          1128     30      1158\n",
      "5                          1514     34      1548\n",
      "6                          2966     80      3046\n",
      "7                          6061    121      6182\n",
      "8                          7933    107      8040\n",
      "9                          7485    106      7591\n",
      "10                         6935     95      7030\n",
      "11                         7662    114      7776\n",
      "12                         9692    133      9825\n",
      "13                         9646    136      9782\n",
      "14                        10009    159     10168\n",
      "15                        10858    169     11027\n",
      "16                        11434    204     11638\n",
      "17                        12166    233     12399\n",
      "18                         9131    206      9337\n",
      "19                         6822    103      6925\n",
      "20                         5836     99      5935\n",
      "21                         5233    122      5355\n",
      "22                         5117     86      5203\n",
      "23                         4309     93      4402\n",
      "0                        202159   3235    205394\n",
      "\n",
      "Expected values:  [[5.18739006e+04 8.30099419e+02 5.27040000e+04]\n",
      " [3.24507154e+03 5.19284643e+01 3.29700000e+03]\n",
      " [3.39763025e+03 5.43697479e+01 3.45200000e+03]\n",
      " [1.54920916e+03 2.47908410e+01 1.57400000e+03]\n",
      " [1.13976125e+03 1.82387509e+01 1.15800000e+03]\n",
      " [1.52361866e+03 2.43813354e+01 1.54800000e+03]\n",
      " [2.99802484e+03 4.79751599e+01 3.04600000e+03]\n",
      " [6.08463216e+03 9.73678394e+01 6.18200000e+03]\n",
      " [7.91336826e+03 1.26631742e+02 8.04000000e+03]\n",
      " [7.47144011e+03 1.19559895e+02 7.59100000e+03]\n",
      " [6.91927598e+03 1.10724023e+02 7.03000000e+03]\n",
      " [7.65352632e+03 1.22473685e+02 7.77600000e+03]\n",
      " [9.67025412e+03 1.54745879e+02 9.82500000e+03]\n",
      " [9.62793138e+03 1.54068619e+02 9.78200000e+03]\n",
      " [1.00078518e+04 1.60148203e+02 1.01680000e+04]\n",
      " [1.08533224e+04 1.73677639e+02 1.10270000e+04]\n",
      " [1.14546990e+04 1.83301021e+02 1.16380000e+04]\n",
      " [1.22037131e+04 1.95286936e+02 1.23990000e+04]\n",
      " [9.18994023e+03 1.47059773e+02 9.33700000e+03]\n",
      " [6.81592975e+03 1.09070250e+02 6.92500000e+03]\n",
      " [5.84152246e+03 9.34775359e+01 5.93500000e+03]\n",
      " [5.27065759e+03 8.43424102e+01 5.35500000e+03]\n",
      " [5.12105162e+03 8.19483773e+01 5.20300000e+03]\n",
      " [4.33266755e+03 6.93324537e+01 4.40200000e+03]\n",
      " [2.02159000e+05 3.23500000e+03 2.05394000e+05]]\n",
      "\n",
      "Chi-squared value:  249.58026356351564\n",
      "Degrees of freedom:  23\n"
     ]
    },
    {
     "data": {
      "text/plain": [
       "(23, 249.58026356351564)"
      ]
     },
     "execution_count": 10,
     "metadata": {},
     "output_type": "execute_result"
    }
   ],
   "source": [
    "chi,dof = chi_sq_cat(\"Hour\")\n",
    "chi,dof"
   ]
  },
  {
   "cell_type": "markdown",
   "metadata": {},
   "source": [
    "The P-Value is < .00001\n",
    "\n",
    "For the hour variable, the p-value has a very low value indicating that the alternate hypothesis in this case is statistically significant, which in return indicates a possible strong relationship between severity and hour. "
   ]
  },
  {
   "cell_type": "markdown",
   "metadata": {},
   "source": [
    "### d. Date vs Severity"
   ]
  },
  {
   "cell_type": "code",
   "execution_count": 11,
   "metadata": {},
   "outputs": [
    {
     "name": "stdout",
     "output_type": "stream",
     "text": [
      "                       Latitude        Row Total\n",
      "Severity Description Not Severe Severe          \n",
      "1                          6892    121      7013\n",
      "2                          6747    101      6848\n",
      "3                          6623    106      6729\n",
      "4                          6563    111      6674\n",
      "5                          6865    111      6976\n",
      "6                          6747    106      6853\n",
      "7                          6698     93      6791\n",
      "8                          6831    102      6933\n",
      "9                          6810     98      6908\n",
      "10                         6785    114      6899\n",
      "11                         6663    121      6784\n",
      "12                         6708    104      6812\n",
      "13                         6792    114      6906\n",
      "14                         6688    105      6793\n",
      "15                         6936    116      7052\n",
      "16                         6558     95      6653\n",
      "17                         6548    114      6662\n",
      "18                         6639     99      6738\n",
      "19                         6580    104      6684\n",
      "20                         6676    104      6780\n",
      "21                         6514    103      6617\n",
      "22                         6643    100      6743\n",
      "23                         6548    102      6650\n",
      "24                         6268    104      6372\n",
      "25                         6189     91      6280\n",
      "26                         6364    108      6472\n",
      "27                         6530    100      6630\n",
      "28                         6642    112      6754\n",
      "29                         6160    110      6270\n",
      "30                         5984     97      6081\n",
      "31                         3968     69      4037\n",
      "0                        202159   3235    205394\n",
      "\n",
      "Expected values:  [[6.90254373e+03 1.10456269e+02 7.01300000e+03]\n",
      " [6.74014252e+03 1.07857484e+02 6.84800000e+03]\n",
      " [6.62301679e+03 1.05983208e+02 6.72900000e+03]\n",
      " [6.56888305e+03 1.05116946e+02 6.67400000e+03]\n",
      " [6.86612649e+03 1.09873511e+02 6.97600000e+03]\n",
      " [6.74506377e+03 1.07936235e+02 6.85300000e+03]\n",
      " [6.68404028e+03 1.06959721e+02 6.79100000e+03]\n",
      " [6.82380375e+03 1.09196252e+02 6.93300000e+03]\n",
      " [6.79919750e+03 1.08802497e+02 6.90800000e+03]\n",
      " [6.79033926e+03 1.08660745e+02 6.89900000e+03]\n",
      " [6.67715053e+03 1.06849470e+02 6.78400000e+03]\n",
      " [6.70470952e+03 1.07290476e+02 6.81200000e+03]\n",
      " [6.79722900e+03 1.08770996e+02 6.90600000e+03]\n",
      " [6.68600878e+03 1.06991222e+02 6.79300000e+03]\n",
      " [6.94092947e+03 1.11070528e+02 7.05200000e+03]\n",
      " [6.54821381e+03 1.04786191e+02 6.65300000e+03]\n",
      " [6.55707206e+03 1.04927943e+02 6.66200000e+03]\n",
      " [6.63187504e+03 1.06124960e+02 6.73800000e+03]\n",
      " [6.57872555e+03 1.05274448e+02 6.68400000e+03]\n",
      " [6.67321353e+03 1.06786469e+02 6.78000000e+03]\n",
      " [6.51278082e+03 1.04219184e+02 6.61700000e+03]\n",
      " [6.63679629e+03 1.06203711e+02 6.74300000e+03]\n",
      " [6.54526106e+03 1.04738941e+02 6.65000000e+03]\n",
      " [6.27163962e+03 1.00360381e+02 6.37200000e+03]\n",
      " [6.18108864e+03 9.89113606e+01 6.28000000e+03]\n",
      " [6.37006460e+03 1.01935402e+02 6.47200000e+03]\n",
      " [6.52557606e+03 1.04423936e+02 6.63000000e+03]\n",
      " [6.64762304e+03 1.06376963e+02 6.75400000e+03]\n",
      " [6.17124614e+03 9.87538584e+01 6.27000000e+03]\n",
      " [5.98522293e+03 9.57770675e+01 6.08100000e+03]\n",
      " [3.97341638e+03 6.35836246e+01 4.03700000e+03]\n",
      " [2.02159000e+05 3.23500000e+03 2.05394000e+05]]\n",
      "\n",
      "Chi-squared value:  14.236478158845035\n",
      "Degrees of freedom:  30\n"
     ]
    },
    {
     "data": {
      "text/plain": [
       "(30, 14.236478158845035)"
      ]
     },
     "execution_count": 11,
     "metadata": {},
     "output_type": "execute_result"
    }
   ],
   "source": [
    "chi,dof = chi_sq_cat(\"Date\")\n",
    "chi,dof"
   ]
  },
  {
   "cell_type": "markdown",
   "metadata": {},
   "source": [
    "p-value:0.99\n",
    "\n",
    "Since 0.99 is not statistically significant, this indicates that the association between severity and date might be weak. "
   ]
  },
  {
   "cell_type": "markdown",
   "metadata": {},
   "source": [
    "### e. Address Type"
   ]
  },
  {
   "cell_type": "code",
   "execution_count": 12,
   "metadata": {},
   "outputs": [
    {
     "name": "stdout",
     "output_type": "stream",
     "text": [
      "                       Latitude        Row Total\n",
      "Severity Description Not Severe Severe          \n",
      "Block                    135374   1597    136971\n",
      "Intersection              66785   1638     68423\n",
      "0                        202159   3235    205394\n",
      "\n",
      "Expected values:  [[134813.67707431   2157.32292569 136971.        ]\n",
      " [ 67345.32292569   1077.67707431  68423.        ]\n",
      " [202159.           3235.         205394.        ]]\n",
      "\n",
      "Chi-squared value:  443.85583998604875\n",
      "Degrees of freedom:  1\n"
     ]
    },
    {
     "data": {
      "text/plain": [
       "(1, 443.85583998604875)"
      ]
     },
     "execution_count": 12,
     "metadata": {},
     "output_type": "execute_result"
    }
   ],
   "source": [
    "chi,dof = chi_sq_cat(\"Address Type\")\n",
    "chi,dof"
   ]
  },
  {
   "cell_type": "markdown",
   "metadata": {},
   "source": [
    "The P-Value is < .00001\n",
    "\n",
    "This p-value indicates statistical significance and also indicates a strong relationship between severity and address type."
   ]
  },
  {
   "cell_type": "markdown",
   "metadata": {},
   "source": [
    "### f. Junction Type"
   ]
  },
  {
   "cell_type": "code",
   "execution_count": 13,
   "metadata": {},
   "outputs": [
    {
     "name": "stdout",
     "output_type": "stream",
     "text": [
      "                                                    Latitude        Row Total\n",
      "Severity Description                              Not Severe Severe          \n",
      "At Intersection (but not related to intersection)       2409     27      2436\n",
      "At Intersection (intersection related)                 64136   1605     65741\n",
      "Driveway Junction                                      10931    142     11073\n",
      "Mid-Block (but intersection related)                   23481    198     23679\n",
      "Mid-Block (not related to intersection)                93011   1243     94254\n",
      "Ramp Junction                                            161      3       164\n",
      "Unknown                                                 8030     17      8047\n",
      "0                                                     202159   3235    205394\n",
      "\n",
      "Expected values:  [[2.39763247e+03 3.83675278e+01 2.43600000e+03]\n",
      " [6.47055650e+04 1.03543499e+03 6.57410000e+04]\n",
      " [1.08985979e+04 1.74402149e+02 1.10730000e+04]\n",
      " [2.33060506e+04 3.72949380e+02 2.36790000e+04]\n",
      " [9.27694791e+04 1.48452092e+03 9.42540000e+04]\n",
      " [1.61416964e+02 2.58303553e+00 1.64000000e+02]\n",
      " [7.92025801e+03 1.26741993e+02 8.04700000e+03]\n",
      " [2.02159000e+05 3.23500000e+03 2.05394000e+05]]\n",
      "\n",
      "Chi-squared value:  547.7693255605093\n",
      "Degrees of freedom:  6\n"
     ]
    },
    {
     "data": {
      "text/plain": [
       "(6, 547.7693255605093)"
      ]
     },
     "execution_count": 13,
     "metadata": {},
     "output_type": "execute_result"
    }
   ],
   "source": [
    "chi,dof = chi_sq_cat(\"Junction Type\")\n",
    "chi,dof"
   ]
  },
  {
   "cell_type": "markdown",
   "metadata": {},
   "source": [
    "The P-Value is < .00001\n",
    "\n",
    "Another low p-value indicates a possibly strong relationship between severity and junction type."
   ]
  },
  {
   "cell_type": "markdown",
   "metadata": {},
   "source": [
    "### g. Weather"
   ]
  },
  {
   "cell_type": "code",
   "execution_count": 26,
   "metadata": {},
   "outputs": [
    {
     "name": "stdout",
     "output_type": "stream",
     "text": [
      "                         Latitude        Row Total\n",
      "Severity Description   Not Severe Severe          \n",
      "Clear or Partly Cloudy     105102   2089    107191\n",
      "Overcast                    26138    456     26594\n",
      "Raining                     30914    545     31459\n",
      "Severe Conditions            1591     18      1609\n",
      "Unknown                     38290    126     38416\n",
      "0                          202035   3234    205269\n",
      "\n",
      "Expected values:  [[1.05438005e+05 1.68775959e+03 1.07125765e+05]\n",
      " [2.61590835e+04 4.18731784e+02 2.65778153e+04]\n",
      " [3.09445216e+04 4.95332902e+02 3.14398545e+04]\n",
      " [1.58268652e+03 2.53342649e+01 1.60802078e+03]\n",
      " [3.77877473e+04 6.04873287e+02 3.83926205e+04]\n",
      " [2.01912044e+05 3.23203183e+03 2.05144076e+05]]\n",
      "\n",
      "Chi-squared value:  492.99497196109587\n",
      "Degrees of freedom:  4\n"
     ]
    },
    {
     "data": {
      "text/plain": [
       "(4, 492.99497196109587)"
      ]
     },
     "execution_count": 26,
     "metadata": {},
     "output_type": "execute_result"
    }
   ],
   "source": [
    "chi,dof = chi_sq_cat(\"Weather\")\n",
    "chi,dof"
   ]
  },
  {
   "cell_type": "markdown",
   "metadata": {},
   "source": [
    "P-value is 2.193e-105"
   ]
  },
  {
   "cell_type": "markdown",
   "metadata": {},
   "source": [
    "### h. Road Condition"
   ]
  },
  {
   "cell_type": "code",
   "execution_count": 27,
   "metadata": {},
   "outputs": [
    {
     "name": "stdout",
     "output_type": "stream",
     "text": [
      "                       Latitude        Row Total\n",
      "Severity Description Not Severe Severe          \n",
      "Dry                      117876   2317    120193\n",
      "Snow/Ice                   2139     26      2165\n",
      "Unknown                   37505    106     37611\n",
      "Wet                       44515    785     45300\n",
      "0                        202035   3234    205269\n",
      "\n",
      "Expected values:  [[1.18227372e+05 1.89248061e+03 1.20119852e+05]\n",
      " [2.12959373e+03 3.40886783e+01 2.16368241e+03]\n",
      " [3.69959122e+04 5.92198282e+02 3.75881105e+04]\n",
      " [4.45591668e+04 7.13264263e+02 4.52724310e+04]\n",
      " [2.01912044e+05 3.23203183e+03 2.05144076e+05]]\n",
      "\n",
      "Chi-squared value:  511.8966794948984\n",
      "Degrees of freedom:  3\n"
     ]
    },
    {
     "data": {
      "text/plain": [
       "(3, 511.8966794948984)"
      ]
     },
     "execution_count": 27,
     "metadata": {},
     "output_type": "execute_result"
    }
   ],
   "source": [
    "chi,dof = chi_sq_cat(\"Road Condition\")\n",
    "chi,dof"
   ]
  },
  {
   "cell_type": "markdown",
   "metadata": {},
   "source": [
    "P-value 1.26e-110"
   ]
  },
  {
   "cell_type": "markdown",
   "metadata": {},
   "source": [
    "### i. Light Condition"
   ]
  },
  {
   "cell_type": "code",
   "execution_count": 28,
   "metadata": {},
   "outputs": [
    {
     "name": "stdout",
     "output_type": "stream",
     "text": [
      "                          Latitude        Row Total\n",
      "Severity Description    Not Severe Severe          \n",
      "Dark - No Street Lights       2507     57      2564\n",
      "Dark - Street Lights On      45625   1066     46691\n",
      "Daylight                    109652   1832    111484\n",
      "Dusk/Dawn                     7914    173      8087\n",
      "Unknown                      36337    106     36443\n",
      "0                           202035   3234    205269\n",
      "\n",
      "Expected values:  [[2.52206851e+03 4.03710722e+01 2.56243958e+03]\n",
      " [4.59274184e+04 7.35166042e+02 4.66625845e+04]\n",
      " [1.09660798e+05 1.75535437e+03 1.11416152e+05]\n",
      " [7.95474573e+03 1.27332629e+02 8.08207836e+03]\n",
      " [3.58470136e+04 5.73807716e+02 3.64208213e+04]\n",
      " [2.01912044e+05 3.23203183e+03 2.05144076e+05]]\n",
      "\n",
      "Chi-squared value:  566.059731705369\n",
      "Degrees of freedom:  4\n"
     ]
    },
    {
     "data": {
      "text/plain": [
       "(4, 566.059731705369)"
      ]
     },
     "execution_count": 28,
     "metadata": {},
     "output_type": "execute_result"
    }
   ],
   "source": [
    "chi,dof = chi_sq_cat(\"Light Condition\")\n",
    "chi,dof"
   ]
  },
  {
   "cell_type": "markdown",
   "metadata": {},
   "source": [
    "## 4. Inference for comparing severity with numerical variables"
   ]
  },
  {
   "cell_type": "markdown",
   "metadata": {},
   "source": [
    "To compare numberical variables against severity, the severe and not severe categories are separated for each numerical variable and the datasets compared to see if there is a relation. \n",
    "\n",
    "There are three different techniques we can adopt to perform this sort of statistical inference: \n",
    "- **Bootstrap sampling simulations** - sampling with replacement\n",
    "- **Normal distribution sampling simulations** - assumes data is normally distributed\n",
    "- **Permutation sampling simulations** - no prior assumption regarding distribution of data"
   ]
  },
  {
   "cell_type": "markdown",
   "metadata": {},
   "source": [
    "First we separate the dataset into severe and not severe datasets for comparison."
   ]
  },
  {
   "cell_type": "code",
   "execution_count": 14,
   "metadata": {},
   "outputs": [],
   "source": [
    "df = df[df['Road Length']<500]\n",
    "df_sev = df[df['Severity Description']=='Severe']\n",
    "df_not_sev = df[df['Severity Description']=='Not Severe']"
   ]
  },
  {
   "cell_type": "markdown",
   "metadata": {},
   "source": [
    "Below we create functions to extract means of simulated samples for each method described above. We use 10,000 random samples and use the mean. "
   ]
  },
  {
   "cell_type": "code",
   "execution_count": 15,
   "metadata": {},
   "outputs": [],
   "source": [
    "def bs_samples_mean(data):\n",
    "    bs_sample = np.random.choice(data,len(data))\n",
    "    bs_sample_mean = np.mean(bs_sample)\n",
    "    return bs_sample_mean\n",
    "\n",
    "def bs_rep_mean(data):\n",
    "    rep_mean = np.mean(np.random.choice(data,10000))\n",
    "    return rep_mean\n",
    "\n",
    "def norm_mean(data):\n",
    "    est_mean = np.mean(np.random.normal(np.mean(data),np.std(data),10000))\n",
    "    return est_mean"
   ]
  },
  {
   "cell_type": "markdown",
   "metadata": {},
   "source": [
    "We use the *speed* variable to test all three sampling methods to see if there is one that makes more sense. "
   ]
  },
  {
   "cell_type": "markdown",
   "metadata": {},
   "source": [
    "### a. Speed vs Severity"
   ]
  },
  {
   "cell_type": "markdown",
   "metadata": {},
   "source": [
    "#### *Using bootstrap samples*"
   ]
  },
  {
   "cell_type": "code",
   "execution_count": 16,
   "metadata": {},
   "outputs": [
    {
     "name": "stdout",
     "output_type": "stream",
     "text": [
      "P value:  0.0\n",
      "CI interval:  [-0.48046072  0.47376678]\n"
     ]
    },
    {
     "data": {
      "text/plain": [
       "<matplotlib.lines.Line2D at 0x7f948c2b8da0>"
      ]
     },
     "execution_count": 16,
     "metadata": {},
     "output_type": "execute_result"
    },
    {
     "data": {
      "image/png": "[encoded data removed]",
      "text/plain": [
       "<Figure size 432x288 with 1 Axes>"
      ]
     },
     "metadata": {},
     "output_type": "display_data"
    },
    {
     "data": {
      "image/png": "[encoded data removed]",
      "text/plain": [
       "<Figure size 432x288 with 1 Axes>"
      ]
     },
     "metadata": {},
     "output_type": "display_data"
    }
   ],
   "source": [
    "#Calculating difference of means between severe and non-severe samples\n",
    "diff_mean = np.mean(df_sev['Speed']) - np.mean(df_not_sev['Speed'])\n",
    "\n",
    "#Calculating the combined mean of the 2 samples\n",
    "combined_mean = np.mean(pd.Series(np.concatenate((df_sev['Speed'],df_not_sev['Speed']))).dropna())\n",
    "\n",
    "#Shifting the 2 samples by the combined mean to make the two means the same for the null hypothesis case\n",
    "sev_shifted = pd.Series(df_sev['Speed'] - np.mean(df_sev['Speed']) + combined_mean).dropna()\n",
    "nonsev_shifted = pd.Series(df_not_sev['Speed'] - np.mean(df_not_sev['Speed']) + combined_mean).dropna()\n",
    "\n",
    "#Calculating the mean for 10000 extracted bootstrap samples\n",
    "sev_rep = [bs_rep_mean(sev_shifted) for i in range(10000)]\n",
    "nonsev_rep = [bs_rep_mean(nonsev_shifted) for i in range(10000)]\n",
    "\n",
    "#Calculating the difference in mean between the severe and non-severe samples\n",
    "diff_rep_mean = np.array(sev_rep) - np.array(nonsev_rep)\n",
    "\n",
    "#Manually calculating the p-value\n",
    "p_value = np.sum(diff_rep_mean>=diff_mean)/len(diff_rep_mean)\n",
    "print (\"P value: \",p_value)\n",
    "\n",
    "print (\"CI interval: \",np.percentile(diff_rep_mean,(2.5,97.5)))\n",
    "\n",
    "#Plotting the two sampling distributions to make sure the means are similar\n",
    "plt.figure()\n",
    "plt.hist(sev_rep)\n",
    "plt.hist(nonsev_rep)\n",
    "\n",
    "#Visualizing the 95% confidence intervals and the observed mean\n",
    "plt.figure()\n",
    "plt.hist(diff_rep_mean)\n",
    "plt.axvline(np.percentile(diff_rep_mean,(2.5,97.5))[0],color='red')\n",
    "plt.axvline(np.percentile(diff_rep_mean,(2.5,97.5))[1],color='red')\n",
    "plt.axvline(diff_mean,color='orange')"
   ]
  },
  {
   "cell_type": "markdown",
   "metadata": {},
   "source": [
    "Looking at the data above, the observed difference between the two means appears to be an outlier falling outside the confidence interval of the sampled distribution. \n",
    "\n",
    "The p-value is statistically significant which further indicates that given the null hypothesis that the difference of mean is centered around 0, the probability of seeing the observed difference of mean is unusual. "
   ]
  },
  {
   "cell_type": "markdown",
   "metadata": {},
   "source": [
    "#### *Using normal distribution*"
   ]
  },
  {
   "cell_type": "markdown",
   "metadata": {},
   "source": [
    "The normal dsitribution sampling works the exact same way as the bootstrap method but the samples extracted from a normal distributed as opposed to the extracting samples from the observed sample with replacement. "
   ]
  },
  {
   "cell_type": "code",
   "execution_count": 17,
   "metadata": {},
   "outputs": [
    {
     "name": "stdout",
     "output_type": "stream",
     "text": [
      "P value:  0.0\n"
     ]
    },
    {
     "data": {
      "text/plain": [
       "<matplotlib.lines.Line2D at 0x7f948c151ba8>"
      ]
     },
     "execution_count": 17,
     "metadata": {},
     "output_type": "execute_result"
    },
    {
     "data": {
      "image/png": "[encoded data removed]",
      "text/plain": [
       "<Figure size 432x288 with 1 Axes>"
      ]
     },
     "metadata": {},
     "output_type": "display_data"
    },
    {
     "data": {
      "image/png": "[encoded data removed]",
      "text/plain": [
       "<Figure size 432x288 with 1 Axes>"
      ]
     },
     "metadata": {},
     "output_type": "display_data"
    }
   ],
   "source": [
    "diff_mean = np.mean(df_sev['Speed']) - np.mean(df_not_sev['Speed'])\n",
    "\n",
    "combined_mean = np.mean(pd.Series(np.concatenate((df_sev['Speed'],df_not_sev['Speed']))).dropna())\n",
    "\n",
    "sev_shifted = pd.Series(df_sev['Speed'] - np.mean(df_sev['Speed']) + combined_mean).dropna()\n",
    "nonsev_shifted = pd.Series(df_not_sev['Speed'] - np.mean(df_not_sev['Speed']) + combined_mean).dropna()\n",
    "\n",
    "sev_rep = [norm_mean(sev_shifted) for i in range(10000)]\n",
    "nonsev_rep = [norm_mean(nonsev_shifted) for i in range(10000)]\n",
    "\n",
    "diff_rep_mean = np.array(sev_rep) - np.array(nonsev_rep)\n",
    "\n",
    "p_value = np.sum(diff_rep_mean>=diff_mean)/len(diff_rep_mean)\n",
    "print (\"P value: \",p_value)\n",
    "\n",
    "plt.figure()\n",
    "plt.hist(sev_rep)\n",
    "plt.hist(nonsev_rep)\n",
    "\n",
    "plt.figure()\n",
    "plt.hist(diff_rep_mean)\n",
    "plt.axvline(np.percentile(diff_rep_mean,(2.5,97.5))[0],color='red')\n",
    "plt.axvline(np.percentile(diff_rep_mean,(2.5,97.5))[1],color='red')\n",
    "plt.axvline(diff_mean,color='orange')"
   ]
  },
  {
   "cell_type": "markdown",
   "metadata": {},
   "source": [
    "The results using the normal distribution is very similar to that of the bootstrap method. "
   ]
  },
  {
   "cell_type": "markdown",
   "metadata": {},
   "source": [
    "#### *Using permutation replicates*"
   ]
  },
  {
   "cell_type": "markdown",
   "metadata": {},
   "source": [
    "Below, we create functions to compute the permutation samples used for the statistical inference. \n",
    "\n",
    "This method first combines the two sets of data and then randomly sorts the data. After that, the data is separated into 2 permutation samples with sizes same as the original two sets. \n",
    "\n",
    "The next few steps are similar to the previous methods. 10000 samples are taken and the differences of means recorded which is then used to compare to the observed difference in mean. "
   ]
  },
  {
   "cell_type": "code",
   "execution_count": 18,
   "metadata": {},
   "outputs": [],
   "source": [
    "def permutation_sample(data1,data2):\n",
    "    data = pd.Series(np.concatenate((data1,data2))).dropna()\n",
    "    perm_data = np.random.permutation(data)\n",
    "    perm_sample_1 = perm_data[:len(data1)]\n",
    "    perm_sample_2 = perm_data[len(data1):]\n",
    "    return perm_sample_1,perm_sample_2\n",
    "    \n",
    "def draw_perm_reps(data1,data2,func,size=1):\n",
    "    perm_replicates = np.empty(size)\n",
    "    for i in range(size):\n",
    "        perm_sample_1,perm_sample_2 = permutation_sample(data1,data2)\n",
    "        perm_replicates[i] = func(perm_sample_1,perm_sample_2)\n",
    "    return perm_replicates\n",
    "\n",
    "def diff_of_means(data1,data2):\n",
    "    diff = np.mean(data1) - np.mean(data2)\n",
    "    return diff"
   ]
  },
  {
   "cell_type": "code",
   "execution_count": 33,
   "metadata": {},
   "outputs": [
    {
     "name": "stdout",
     "output_type": "stream",
     "text": [
      "Observed diff mean:  2.2123432210756206\n",
      "P value:  0.0\n",
      "Confidence interval:  [-0.59951542  0.60319022]\n"
     ]
    },
    {
     "data": {
      "text/plain": [
       "<matplotlib.legend.Legend at 0x7f9487ddd710>"
      ]
     },
     "execution_count": 33,
     "metadata": {},
     "output_type": "execute_result"
    },
    {
     "data": {
      "image/png": "[encoded data removed]",
      "text/plain": [
       "<Figure size 432x288 with 1 Axes>"
      ]
     },
     "metadata": {},
     "output_type": "display_data"
    }
   ],
   "source": [
    "diff_mean = np.mean(df_sev['Speed']) - np.mean(df_not_sev['Speed'])\n",
    "perm_replicates = draw_perm_reps(df_sev['Speed'],df_not_sev['Speed'],diff_of_means,size=10000)\n",
    "p_value = np.sum(perm_replicates>=diff_mean)/len(perm_replicates)\n",
    "print (\"Observed diff mean: \",diff_mean)\n",
    "print (\"P value: \",p_value)\n",
    "print (\"Confidence interval: \",np.percentile(perm_replicates,(2.5,97.5)))\n",
    "\n",
    "plt.hist(perm_replicates,alpha=0.7)\n",
    "plt.axvline(np.percentile(perm_replicates,(2.5,97.5))[0],color='red',label='95% CI lower',alpha=0.7)\n",
    "plt.axvline(np.percentile(perm_replicates,(2.5,97.5))[1],color='red',label='95% CI upper',alpha=0.7)\n",
    "plt.axvline(diff_mean,color='orange',alpha=0.7,label='Obs. diff mean')\n",
    "plt.ylabel('Frequency')\n",
    "plt.xlabel('Average simulated diff of mean')\n",
    "plt.legend()\n"
   ]
  },
  {
   "cell_type": "code",
   "execution_count": 20,
   "metadata": {},
   "outputs": [
    {
     "data": {
      "text/plain": [
       "Ttest_indResult(statistic=7.34565024824843, pvalue=2.0551699867223638e-13)"
      ]
     },
     "execution_count": 20,
     "metadata": {},
     "output_type": "execute_result"
    }
   ],
   "source": [
    "st.ttest_ind(pd.Series(df_sev['Speed']).dropna(),pd.Series(df_not_sev['Speed']).dropna())"
   ]
  },
  {
   "cell_type": "markdown",
   "metadata": {},
   "source": [
    "Above, we determine the p-value to be a really low value indicating that we can reject the null hypothesis similar to the first 2 methods. \n",
    "\n",
    "The p-value is also determined using a 2 sided t-test just to verify our results. In this case, the p-value comes out to be 2.0551699867223638e-13 which once again allows us to reject the null hypothesis. \n",
    "\n",
    "As a result, we can conclude that the difference in means between severe and not severe collisions for the speed variable is significant. That further indicates that there could be a possible relation between severity and speed.\n",
    "\n",
    "At the end, we opt for the permutation sampling method as it doesn't have any prior assumptions about the distribution of the data and gives a similar result to the random normal sampling and the bootstrap sampling. "
   ]
  },
  {
   "cell_type": "markdown",
   "metadata": {},
   "source": [
    "### b. Road Length vs Severity"
   ]
  },
  {
   "cell_type": "code",
   "execution_count": 34,
   "metadata": {},
   "outputs": [
    {
     "name": "stdout",
     "output_type": "stream",
     "text": [
      "Observed diff mean:  0.009372388513561702\n",
      "P value:  0.138\n",
      "Confidence interval:  [-0.01669479  0.01682024]\n"
     ]
    },
    {
     "data": {
      "text/plain": [
       "<matplotlib.legend.Legend at 0x7f9487d50e80>"
      ]
     },
     "execution_count": 34,
     "metadata": {},
     "output_type": "execute_result"
    },
    {
     "data": {
      "image/png": "[encoded data removed]",
      "text/plain": [
       "<Figure size 432x288 with 1 Axes>"
      ]
     },
     "metadata": {},
     "output_type": "display_data"
    }
   ],
   "source": [
    "diff_mean = np.mean(df_sev['Road Length']) - np.mean(df_not_sev['Road Length'])\n",
    "perm_replicates = draw_perm_reps(df_sev['Road Length'],df_not_sev['Road Length'],diff_of_means,size=10000)\n",
    "p_value = np.sum(perm_replicates>=diff_mean)/len(perm_replicates)\n",
    "print (\"Observed diff mean: \",diff_mean)\n",
    "print (\"P value: \",p_value)\n",
    "print (\"Confidence interval: \",np.percentile(perm_replicates,(2.5,97.5)))\n",
    "\n",
    "plt.hist(perm_replicates,alpha=0.7)\n",
    "plt.axvline(np.percentile(perm_replicates,(2.5,97.5))[0],color='red',label='95% CI lower',alpha=0.7)\n",
    "plt.axvline(np.percentile(perm_replicates,(2.5,97.5))[1],color='red',label='95% CI upper',alpha=0.7)\n",
    "plt.axvline(diff_mean,color='orange',alpha=0.7,label='Obs. diff mean')\n",
    "plt.ylabel('Frequency')\n",
    "plt.xlabel('Average simulated diff of mean')\n",
    "plt.legend()"
   ]
  },
  {
   "cell_type": "code",
   "execution_count": 22,
   "metadata": {},
   "outputs": [
    {
     "data": {
      "text/plain": [
       "Ttest_indResult(statistic=1.0822684106912241, pvalue=0.2791345496059145)"
      ]
     },
     "execution_count": 22,
     "metadata": {},
     "output_type": "execute_result"
    }
   ],
   "source": [
    "st.ttest_ind(pd.Series(df_sev['Road Length']).dropna(),pd.Series(df_not_sev['Road Length']).dropna())"
   ]
  },
  {
   "cell_type": "markdown",
   "metadata": {},
   "source": [
    "For the road length variable, the p-value is greater than the significance level of 0.05 indicating that the result is not statistically significant and that this variable might not explain the variability in severity too well. "
   ]
  },
  {
   "cell_type": "markdown",
   "metadata": {},
   "source": [
    "### c. Road Congestion vs Severity"
   ]
  },
  {
   "cell_type": "code",
   "execution_count": 35,
   "metadata": {},
   "outputs": [
    {
     "name": "stdout",
     "output_type": "stream",
     "text": [
      "Observed diff mean:  0.13687292818646624\n",
      "P value:  0.0\n",
      "Confidence interval:  [-0.05817726  0.05892091]\n"
     ]
    },
    {
     "data": {
      "text/plain": [
       "<matplotlib.legend.Legend at 0x7f9487cddc88>"
      ]
     },
     "execution_count": 35,
     "metadata": {},
     "output_type": "execute_result"
    },
    {
     "data": {
      "image/png": "[encoded data removed]",
      "text/plain": [
       "<Figure size 432x288 with 1 Axes>"
      ]
     },
     "metadata": {},
     "output_type": "display_data"
    }
   ],
   "source": [
    "diff_mean = np.mean(df_sev['Road Congestion']) - np.mean(df_not_sev['Road Congestion'])\n",
    "perm_replicates = draw_perm_reps(df_sev['Road Congestion'],df_not_sev['Road Congestion'],diff_of_means,size=10000)\n",
    "p_value = np.sum(perm_replicates>=diff_mean)/len(perm_replicates)\n",
    "print (\"Observed diff mean: \",diff_mean)\n",
    "print (\"P value: \",p_value)\n",
    "print (\"Confidence interval: \",np.percentile(perm_replicates,(2.5,97.5)))\n",
    "\n",
    "plt.hist(perm_replicates,alpha=0.7)\n",
    "plt.axvline(np.percentile(perm_replicates,(2.5,97.5))[0],color='red',label='95% CI lower',alpha=0.7)\n",
    "plt.axvline(np.percentile(perm_replicates,(2.5,97.5))[1],color='red',label='95% CI upper',alpha=0.7)\n",
    "plt.axvline(diff_mean,color='orange',alpha=0.7,label='Obs. diff mean')\n",
    "plt.ylabel('Frequency')\n",
    "plt.xlabel('Average simulated diff of mean')\n",
    "plt.legend()"
   ]
  },
  {
   "cell_type": "code",
   "execution_count": 24,
   "metadata": {},
   "outputs": [
    {
     "data": {
      "text/plain": [
       "Ttest_indResult(statistic=4.4451238208053985, pvalue=8.788719042660868e-06)"
      ]
     },
     "execution_count": 24,
     "metadata": {},
     "output_type": "execute_result"
    }
   ],
   "source": [
    "st.ttest_ind(pd.Series(df_sev['Road Congestion']).dropna(),pd.Series(df_not_sev['Road Congestion']).dropna())"
   ]
  },
  {
   "cell_type": "markdown",
   "metadata": {},
   "source": [
    "The p-value for the road congestion variable is 8.788719042660868e-06 which is the probability of observing a value as extreme as the observed difference in mean if the null hypothesis was true. Since the p-value is statistically significant, we can reject the null hypothesis. "
   ]
  },
  {
   "cell_type": "markdown",
   "metadata": {},
   "source": [
    "# 5. Conclusion"
   ]
  },
  {
   "cell_type": "markdown",
   "metadata": {},
   "source": [
    "Statistically significant variables: \n",
    "- Month\n",
    "- Hour\n",
    "- Address Type\n",
    "- Junction Type\n",
    "- Speed \n",
    "- Road Congestion"
   ]
  }
 ],
 "metadata": {
  "kernelspec": {
   "display_name": "conda_python3",
   "language": "python",
   "name": "conda_python3"
  },
  "language_info": {
   "codemirror_mode": {
    "name": "ipython",
    "version": 3
   },
   "file_extension": ".py",
   "mimetype": "text/x-python",
   "name": "python",
   "nbconvert_exporter": "python",
   "pygments_lexer": "ipython3",
   "version": "3.6.5"
  }
 },
 "nbformat": 4,
 "nbformat_minor": 2
}
