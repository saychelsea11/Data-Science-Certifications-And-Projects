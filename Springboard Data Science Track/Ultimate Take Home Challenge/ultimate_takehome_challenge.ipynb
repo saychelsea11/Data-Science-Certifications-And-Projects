{
  "nbformat": 4,
  "nbformat_minor": 0,
  "metadata": {
    "colab": {
      "name": "ultimate_takehome_challenge.ipynb",
      "provenance": [],
      "collapsed_sections": [],
      "toc_visible": true
    },
    "kernelspec": {
      "name": "python3",
      "display_name": "Python 3"
    }
  },
  "cells": [
    {
      "cell_type": "markdown",
      "metadata": {
        "id": "heTG4JSbFi1Z",
        "colab_type": "text"
      },
      "source": [
        "# 1. Mounting drive on Google Colab"
      ]
    },
    {
      "cell_type": "code",
      "metadata": {
        "id": "0DnA0eR5na-w",
        "colab_type": "code",
        "outputId": "bcfe1579-b1a0-455c-8546-13efe9610d04",
        "colab": {
          "base_uri": "https://localhost:8080/",
          "height": 120
        }
      },
      "source": [
        "from google.colab import drive\n",
        "drive.mount('/content/drive')"
      ],
      "execution_count": 1,
      "outputs": [
        {
          "output_type": "stream",
          "text": [
            "Go to this URL in a browser: https://accounts.google.com/o/oauth2/auth?client_id=947318989803-6bn6qk8qdgf4n4g3pfee6491hc0brc4i.apps.googleusercontent.com&redirect_uri=urn%3aietf%3awg%3aoauth%3a2.0%3aoob&response_type=code&scope=email%20https%3a%2f%2fwww.googleapis.com%2fauth%2fdocs.test%20https%3a%2f%2fwww.googleapis.com%2fauth%2fdrive%20https%3a%2f%2fwww.googleapis.com%2fauth%2fdrive.photos.readonly%20https%3a%2f%2fwww.googleapis.com%2fauth%2fpeopleapi.readonly\n",
            "\n",
            "Enter your authorization code:\n",
            "··········\n",
            "Mounted at /content/drive\n"
          ],
          "name": "stdout"
        }
      ]
    },
    {
      "cell_type": "markdown",
      "metadata": {
        "id": "j8ONC906Fokc",
        "colab_type": "text"
      },
      "source": [
        "# 2. Importing libraries"
      ]
    },
    {
      "cell_type": "code",
      "metadata": {
        "id": "48r2379UuuVz",
        "colab_type": "code",
        "colab": {}
      },
      "source": [
        "import numpy as np\n",
        "import pandas as pd\n",
        "import json\n",
        "import matplotlib.pyplot as plt\n",
        "import seaborn as sns\n",
        "import pprint\n",
        "import warnings\n",
        "warnings.filterwarnings('ignore')\n",
        "from sklearn.preprocessing import LabelEncoder\n",
        "from sklearn.preprocessing import StandardScaler, MinMaxScaler\n",
        "from sklearn.model_selection import train_test_split\n",
        "from sklearn.linear_model import LogisticRegression\n",
        "from sklearn.metrics import accuracy_score, roc_auc_score, f1_score, precision_score, recall_score, confusion_matrix, classification_report, roc_curve\n",
        "from sklearn.model_selection import GridSearchCV"
      ],
      "execution_count": 0,
      "outputs": []
    },
    {
      "cell_type": "markdown",
      "metadata": {
        "id": "LNs7Ob5yFrFd",
        "colab_type": "text"
      },
      "source": [
        "# 3. Loading JSON files"
      ]
    },
    {
      "cell_type": "code",
      "metadata": {
        "id": "2AMrkAG34kaJ",
        "colab_type": "code",
        "colab": {}
      },
      "source": [
        "with open('/content/drive/My Drive/ultimate_data_challenge.json','r') as f:\n",
        "  data = json.load(f)"
      ],
      "execution_count": 0,
      "outputs": []
    },
    {
      "cell_type": "code",
      "metadata": {
        "id": "mLH-4zIV41r2",
        "colab_type": "code",
        "outputId": "09515265-ab44-44d8-972f-a8b35f7149bd",
        "colab": {
          "base_uri": "https://localhost:8080/",
          "height": 267
        }
      },
      "source": [
        "df = pd.DataFrame(data)\n",
        "print (df.shape)\n",
        "df.head()"
      ],
      "execution_count": 5,
      "outputs": [
        {
          "output_type": "stream",
          "text": [
            "(50000, 12)\n"
          ],
          "name": "stdout"
        },
        {
          "output_type": "execute_result",
          "data": {
            "text/html": [
              "<div>\n",
              "<style scoped>\n",
              "    .dataframe tbody tr th:only-of-type {\n",
              "        vertical-align: middle;\n",
              "    }\n",
              "\n",
              "    .dataframe tbody tr th {\n",
              "        vertical-align: top;\n",
              "    }\n",
              "\n",
              "    .dataframe thead th {\n",
              "        text-align: right;\n",
              "    }\n",
              "</style>\n",
              "<table border=\"1\" class=\"dataframe\">\n",
              "  <thead>\n",
              "    <tr style=\"text-align: right;\">\n",
              "      <th></th>\n",
              "      <th>city</th>\n",
              "      <th>trips_in_first_30_days</th>\n",
              "      <th>signup_date</th>\n",
              "      <th>avg_rating_of_driver</th>\n",
              "      <th>avg_surge</th>\n",
              "      <th>last_trip_date</th>\n",
              "      <th>phone</th>\n",
              "      <th>surge_pct</th>\n",
              "      <th>ultimate_black_user</th>\n",
              "      <th>weekday_pct</th>\n",
              "      <th>avg_dist</th>\n",
              "      <th>avg_rating_by_driver</th>\n",
              "    </tr>\n",
              "  </thead>\n",
              "  <tbody>\n",
              "    <tr>\n",
              "      <th>0</th>\n",
              "      <td>King's Landing</td>\n",
              "      <td>4</td>\n",
              "      <td>2014-01-25</td>\n",
              "      <td>4.7</td>\n",
              "      <td>1.10</td>\n",
              "      <td>2014-06-17</td>\n",
              "      <td>iPhone</td>\n",
              "      <td>15.4</td>\n",
              "      <td>True</td>\n",
              "      <td>46.2</td>\n",
              "      <td>3.67</td>\n",
              "      <td>5.0</td>\n",
              "    </tr>\n",
              "    <tr>\n",
              "      <th>1</th>\n",
              "      <td>Astapor</td>\n",
              "      <td>0</td>\n",
              "      <td>2014-01-29</td>\n",
              "      <td>5.0</td>\n",
              "      <td>1.00</td>\n",
              "      <td>2014-05-05</td>\n",
              "      <td>Android</td>\n",
              "      <td>0.0</td>\n",
              "      <td>False</td>\n",
              "      <td>50.0</td>\n",
              "      <td>8.26</td>\n",
              "      <td>5.0</td>\n",
              "    </tr>\n",
              "    <tr>\n",
              "      <th>2</th>\n",
              "      <td>Astapor</td>\n",
              "      <td>3</td>\n",
              "      <td>2014-01-06</td>\n",
              "      <td>4.3</td>\n",
              "      <td>1.00</td>\n",
              "      <td>2014-01-07</td>\n",
              "      <td>iPhone</td>\n",
              "      <td>0.0</td>\n",
              "      <td>False</td>\n",
              "      <td>100.0</td>\n",
              "      <td>0.77</td>\n",
              "      <td>5.0</td>\n",
              "    </tr>\n",
              "    <tr>\n",
              "      <th>3</th>\n",
              "      <td>King's Landing</td>\n",
              "      <td>9</td>\n",
              "      <td>2014-01-10</td>\n",
              "      <td>4.6</td>\n",
              "      <td>1.14</td>\n",
              "      <td>2014-06-29</td>\n",
              "      <td>iPhone</td>\n",
              "      <td>20.0</td>\n",
              "      <td>True</td>\n",
              "      <td>80.0</td>\n",
              "      <td>2.36</td>\n",
              "      <td>4.9</td>\n",
              "    </tr>\n",
              "    <tr>\n",
              "      <th>4</th>\n",
              "      <td>Winterfell</td>\n",
              "      <td>14</td>\n",
              "      <td>2014-01-27</td>\n",
              "      <td>4.4</td>\n",
              "      <td>1.19</td>\n",
              "      <td>2014-03-15</td>\n",
              "      <td>Android</td>\n",
              "      <td>11.8</td>\n",
              "      <td>False</td>\n",
              "      <td>82.4</td>\n",
              "      <td>3.13</td>\n",
              "      <td>4.9</td>\n",
              "    </tr>\n",
              "  </tbody>\n",
              "</table>\n",
              "</div>"
            ],
            "text/plain": [
              "             city  trips_in_first_30_days  ... avg_dist  avg_rating_by_driver\n",
              "0  King's Landing                       4  ...     3.67                   5.0\n",
              "1         Astapor                       0  ...     8.26                   5.0\n",
              "2         Astapor                       3  ...     0.77                   5.0\n",
              "3  King's Landing                       9  ...     2.36                   4.9\n",
              "4      Winterfell                      14  ...     3.13                   4.9\n",
              "\n",
              "[5 rows x 12 columns]"
            ]
          },
          "metadata": {
            "tags": []
          },
          "execution_count": 5
        }
      ]
    },
    {
      "cell_type": "code",
      "metadata": {
        "id": "tAtPNFQ8tvM3",
        "colab_type": "code",
        "outputId": "df5be695-d41a-4c31-9d78-26836cd8ad68",
        "colab": {
          "base_uri": "https://localhost:8080/",
          "height": 33
        }
      },
      "source": [
        "with open('/content/drive/My Drive/logins.json','r') as f:\n",
        "  logins = json.load(f)\n",
        "print (logins['login_time'][:5])"
      ],
      "execution_count": 6,
      "outputs": [
        {
          "output_type": "stream",
          "text": [
            "['1970-01-01 20:13:18', '1970-01-01 20:16:10', '1970-01-01 20:16:37', '1970-01-01 20:16:36', '1970-01-01 20:26:21']\n"
          ],
          "name": "stdout"
        }
      ]
    },
    {
      "cell_type": "markdown",
      "metadata": {
        "id": "bUl7YRIjFxes",
        "colab_type": "text"
      },
      "source": [
        "# 4. Exploratory Data Analysis - exploring *logins* dataset"
      ]
    },
    {
      "cell_type": "code",
      "metadata": {
        "id": "-PgJsRk7vmCJ",
        "colab_type": "code",
        "outputId": "4dbebfe9-f8f4-4aa7-a2d3-b6061d3f8863",
        "colab": {
          "base_uri": "https://localhost:8080/",
          "height": 33
        }
      },
      "source": [
        "print (logins.keys())"
      ],
      "execution_count": 7,
      "outputs": [
        {
          "output_type": "stream",
          "text": [
            "dict_keys(['login_time'])\n"
          ],
          "name": "stdout"
        }
      ]
    },
    {
      "cell_type": "code",
      "metadata": {
        "id": "6LHYyKL00MTd",
        "colab_type": "code",
        "outputId": "2e7e6eb8-f896-42c5-92aa-ac58b97a50f4",
        "colab": {
          "base_uri": "https://localhost:8080/",
          "height": 33
        }
      },
      "source": [
        "len(logins['login_time'])"
      ],
      "execution_count": 8,
      "outputs": [
        {
          "output_type": "execute_result",
          "data": {
            "text/plain": [
              "93142"
            ]
          },
          "metadata": {
            "tags": []
          },
          "execution_count": 8
        }
      ]
    },
    {
      "cell_type": "code",
      "metadata": {
        "id": "cQ7DETCx8Wrm",
        "colab_type": "code",
        "outputId": "2074340f-56d8-48be-b8ac-85838b375dff",
        "colab": {
          "base_uri": "https://localhost:8080/",
          "height": 117
        }
      },
      "source": [
        "df_logins = pd.Series(logins['login_time'])\n",
        "df_logins = df_logins.apply(pd.to_datetime)\n",
        "df_logins.head()"
      ],
      "execution_count": 9,
      "outputs": [
        {
          "output_type": "execute_result",
          "data": {
            "text/plain": [
              "0   1970-01-01 20:13:18\n",
              "1   1970-01-01 20:16:10\n",
              "2   1970-01-01 20:16:37\n",
              "3   1970-01-01 20:16:36\n",
              "4   1970-01-01 20:26:21\n",
              "dtype: datetime64[ns]"
            ]
          },
          "metadata": {
            "tags": []
          },
          "execution_count": 9
        }
      ]
    },
    {
      "cell_type": "markdown",
      "metadata": {
        "id": "k9dvoKl-HaoM",
        "colab_type": "text"
      },
      "source": [
        "Looks like the dataset only contains one key *login_time* that consists of 93142 instances of date and time objects."
      ]
    },
    {
      "cell_type": "code",
      "metadata": {
        "id": "0TobqKqa_GBT",
        "colab_type": "code",
        "outputId": "ebfcbc58-2593-45c3-c0a6-8267664b7a09",
        "colab": {
          "base_uri": "https://localhost:8080/",
          "height": 117
        }
      },
      "source": [
        "df_logins.index = df_logins\n",
        "df_logins.head()"
      ],
      "execution_count": 10,
      "outputs": [
        {
          "output_type": "execute_result",
          "data": {
            "text/plain": [
              "1970-01-01 20:13:18   1970-01-01 20:13:18\n",
              "1970-01-01 20:16:10   1970-01-01 20:16:10\n",
              "1970-01-01 20:16:37   1970-01-01 20:16:37\n",
              "1970-01-01 20:16:36   1970-01-01 20:16:36\n",
              "1970-01-01 20:26:21   1970-01-01 20:26:21\n",
              "dtype: datetime64[ns]"
            ]
          },
          "metadata": {
            "tags": []
          },
          "execution_count": 10
        }
      ]
    },
    {
      "cell_type": "markdown",
      "metadata": {
        "id": "gxfvyG9DKeBR",
        "colab_type": "text"
      },
      "source": [
        "### a. Exploring logins per day"
      ]
    },
    {
      "cell_type": "code",
      "metadata": {
        "id": "0ZPOqam4H0xw",
        "colab_type": "code",
        "outputId": "a8623d9f-23e0-418c-d488-bac472498c86",
        "colab": {
          "base_uri": "https://localhost:8080/",
          "height": 33
        }
      },
      "source": [
        "#Resampling datetime data by day\n",
        "counts_per_day = df_logins.resample('D').count()\n",
        "print (\"Number of days in the dataset: \",counts_per_day.shape[0])"
      ],
      "execution_count": 11,
      "outputs": [
        {
          "output_type": "stream",
          "text": [
            "Number of days in the dataset:  103\n"
          ],
          "name": "stdout"
        }
      ]
    },
    {
      "cell_type": "code",
      "metadata": {
        "id": "PKLNfvIhOQqZ",
        "colab_type": "code",
        "outputId": "73875e3a-d8f4-46c8-deff-4820da688758",
        "colab": {
          "base_uri": "https://localhost:8080/",
          "height": 367
        }
      },
      "source": [
        "counts_per_day.head(20)"
      ],
      "execution_count": 12,
      "outputs": [
        {
          "output_type": "execute_result",
          "data": {
            "text/plain": [
              "1970-01-01     112\n",
              "1970-01-02     681\n",
              "1970-01-03     793\n",
              "1970-01-04     788\n",
              "1970-01-05     459\n",
              "1970-01-06     536\n",
              "1970-01-07     648\n",
              "1970-01-08     625\n",
              "1970-01-09     881\n",
              "1970-01-10    1054\n",
              "1970-01-11    1014\n",
              "1970-01-12     536\n",
              "1970-01-13     492\n",
              "1970-01-14     547\n",
              "1970-01-15     624\n",
              "1970-01-16     789\n",
              "1970-01-17    1064\n",
              "1970-01-18     971\n",
              "1970-01-19     469\n",
              "1970-01-20     531\n",
              "Freq: D, dtype: int64"
            ]
          },
          "metadata": {
            "tags": []
          },
          "execution_count": 12
        }
      ]
    },
    {
      "cell_type": "code",
      "metadata": {
        "id": "58PFqcZCD5dg",
        "colab_type": "code",
        "outputId": "ec61d76a-c75d-4753-a714-9ccf00fafce4",
        "colab": {
          "base_uri": "https://localhost:8080/",
          "height": 458
        }
      },
      "source": [
        "plt.figure(figsize=(14,6))\n",
        "plt.plot(counts_per_day,alpha=0.7,marker='.')\n",
        "plt.xticks(rotation=45)\n",
        "plt.xlabel('Date')\n",
        "plt.ylabel('Frequency')\n",
        "plt.title('Login counts per day')"
      ],
      "execution_count": 13,
      "outputs": [
        {
          "output_type": "execute_result",
          "data": {
            "text/plain": [
              "Text(0.5, 1.0, 'Login counts per day')"
            ]
          },
          "metadata": {
            "tags": []
          },
          "execution_count": 13
        },
        {
          "output_type": "display_data",
          "data": {
            "image/png": "[encoded data removed]",
            "text/plain": [
              "<Figure size 1008x432 with 1 Axes>"
            ]
          },
          "metadata": {
            "tags": []
          }
        }
      ]
    },
    {
      "cell_type": "markdown",
      "metadata": {
        "id": "bWMhnmrDM0l8",
        "colab_type": "text"
      },
      "source": [
        "Two main things stick out from the plot above: \n",
        "- There is a **general upward trend till March 15**, followed by a **downward trend till April 15**.\n",
        "- There is a **peak in login counts every 7 days**. Upon doing a manual search, Jan 1 1970 turns out to be a Thursday. So the first **peak occurs on a Saturday followed by a slight downturn on Sunday** before taking a big dip on Monday. The trend gradually increases every week where every successive Saturday and Sunday records a higher login count than the previous week. \n",
        "- **Mondays and sometimes Tuesdays** see the **lowest login counts**. "
      ]
    },
    {
      "cell_type": "markdown",
      "metadata": {
        "colab_type": "text",
        "id": "3e_g6M2mLG6s"
      },
      "source": [
        "### b. Exploring logins per 7 days"
      ]
    },
    {
      "cell_type": "code",
      "metadata": {
        "colab_type": "code",
        "outputId": "3936e016-975b-46c3-f874-d8cc9db35fff",
        "id": "ynCx12QJLG6y",
        "colab": {
          "base_uri": "https://localhost:8080/",
          "height": 33
        }
      },
      "source": [
        "#Resampling datetime data by 7 day intervals\n",
        "counts_per_day_7 = df_logins.resample('7D').count()\n",
        "print (\"Number of days in the dataset: \",counts_per_day_7.shape[0])"
      ],
      "execution_count": 14,
      "outputs": [
        {
          "output_type": "stream",
          "text": [
            "Number of days in the dataset:  15\n"
          ],
          "name": "stdout"
        }
      ]
    },
    {
      "cell_type": "code",
      "metadata": {
        "id": "9_4rTiMxSp1Z",
        "colab_type": "code",
        "outputId": "9fe419b6-1e02-48cc-8541-e15d0ea681e3",
        "colab": {
          "base_uri": "https://localhost:8080/",
          "height": 283
        }
      },
      "source": [
        "counts_per_day_7.head(20)"
      ],
      "execution_count": 15,
      "outputs": [
        {
          "output_type": "execute_result",
          "data": {
            "text/plain": [
              "1970-01-01    4017\n",
              "1970-01-08    5149\n",
              "1970-01-15    4971\n",
              "1970-01-22    4912\n",
              "1970-01-29    4590\n",
              "1970-02-05    5865\n",
              "1970-02-12    6133\n",
              "1970-02-19    7011\n",
              "1970-02-26    6781\n",
              "1970-03-05    7195\n",
              "1970-03-12    8636\n",
              "1970-03-19    7875\n",
              "1970-03-26    7439\n",
              "1970-04-02    7585\n",
              "1970-04-09    4983\n",
              "Freq: 7D, dtype: int64"
            ]
          },
          "metadata": {
            "tags": []
          },
          "execution_count": 15
        }
      ]
    },
    {
      "cell_type": "code",
      "metadata": {
        "colab_type": "code",
        "outputId": "050a7f19-cdcb-4547-da39-d2c00e7261c2",
        "id": "B9o1s3fMLG6-",
        "colab": {
          "base_uri": "https://localhost:8080/",
          "height": 458
        }
      },
      "source": [
        "plt.figure(figsize=(14,6))\n",
        "plt.plot(counts_per_day_7,alpha=0.7)\n",
        "plt.xticks(rotation=45)\n",
        "plt.xlabel('Date')\n",
        "plt.ylabel('Frequency')\n",
        "plt.title('Login counts per 7 days')"
      ],
      "execution_count": 16,
      "outputs": [
        {
          "output_type": "execute_result",
          "data": {
            "text/plain": [
              "Text(0.5, 1.0, 'Login counts per 7 days')"
            ]
          },
          "metadata": {
            "tags": []
          },
          "execution_count": 16
        },
        {
          "output_type": "display_data",
          "data": {
            "image/png": "[encoded data removed]",
            "text/plain": [
              "<Figure size 1008x432 with 1 Axes>"
            ]
          },
          "metadata": {
            "tags": []
          }
        }
      ]
    },
    {
      "cell_type": "markdown",
      "metadata": {
        "id": "l1uHSFKCSwRf",
        "colab_type": "text"
      },
      "source": [
        "The above plot more clearly shows the upward trend till around mid-March, followed by a downward trend. "
      ]
    },
    {
      "cell_type": "markdown",
      "metadata": {
        "colab_type": "text",
        "id": "f6Am6vDCKmWW"
      },
      "source": [
        "### c. Exploring logins per 15 days"
      ]
    },
    {
      "cell_type": "code",
      "metadata": {
        "colab_type": "code",
        "outputId": "c0ba1dc4-5fe0-4399-cfed-87585e16fa57",
        "id": "XZ3TZrFbKmWd",
        "colab": {
          "base_uri": "https://localhost:8080/",
          "height": 33
        }
      },
      "source": [
        "#Resampling datetime data by 15 day intervals\n",
        "counts_per_day_15 = df_logins.resample('15D').count()\n",
        "print (\"Number of 15 day intervals in the dataset: \",counts_per_day_15.shape[0])"
      ],
      "execution_count": 17,
      "outputs": [
        {
          "output_type": "stream",
          "text": [
            "Number of 15 day intervals in the dataset:  7\n"
          ],
          "name": "stdout"
        }
      ]
    },
    {
      "cell_type": "code",
      "metadata": {
        "id": "KNzGulk2WEdy",
        "colab_type": "code",
        "outputId": "5eeccceb-1f39-4272-9ffb-cbcd31f572aa",
        "colab": {
          "base_uri": "https://localhost:8080/",
          "height": 150
        }
      },
      "source": [
        "counts_per_day_15.head(20)"
      ],
      "execution_count": 18,
      "outputs": [
        {
          "output_type": "execute_result",
          "data": {
            "text/plain": [
              "1970-01-01     9790\n",
              "1970-01-16    10644\n",
              "1970-01-31    12020\n",
              "1970-02-15    14731\n",
              "1970-03-02    15573\n",
              "1970-03-17    16877\n",
              "1970-04-01    13507\n",
              "Freq: 15D, dtype: int64"
            ]
          },
          "metadata": {
            "tags": []
          },
          "execution_count": 18
        }
      ]
    },
    {
      "cell_type": "code",
      "metadata": {
        "colab_type": "code",
        "outputId": "aead05fa-39b6-40cf-f271-3bbc8955aaaa",
        "id": "TGH5HuPmKmWn",
        "colab": {
          "base_uri": "https://localhost:8080/",
          "height": 458
        }
      },
      "source": [
        "plt.figure(figsize=(14,6))\n",
        "plt.plot(counts_per_day_15,alpha=0.7)\n",
        "plt.xticks(rotation=45)\n",
        "plt.xlabel('Date')\n",
        "plt.ylabel('Frequency')\n",
        "plt.title('Login counts per 15 days')"
      ],
      "execution_count": 19,
      "outputs": [
        {
          "output_type": "execute_result",
          "data": {
            "text/plain": [
              "Text(0.5, 1.0, 'Login counts per 15 days')"
            ]
          },
          "metadata": {
            "tags": []
          },
          "execution_count": 19
        },
        {
          "output_type": "display_data",
          "data": {
            "image/png": "[encoded data removed]",
            "text/plain": [
              "<Figure size 1008x432 with 1 Axes>"
            ]
          },
          "metadata": {
            "tags": []
          }
        }
      ]
    },
    {
      "cell_type": "markdown",
      "metadata": {
        "id": "ymIwwW9rVCLa",
        "colab_type": "text"
      },
      "source": [
        "The 15 day interval plot displays the most general view of the data where there is an upward trend till March 15 followed by a downward trend after that.  "
      ]
    },
    {
      "cell_type": "markdown",
      "metadata": {
        "colab_type": "text",
        "id": "N4vwdX7AWJZG"
      },
      "source": [
        "### d. Exploring logins per 15 minutes"
      ]
    },
    {
      "cell_type": "code",
      "metadata": {
        "colab_type": "code",
        "outputId": "b4e6524a-a317-492f-d615-5e3df818fa46",
        "id": "p1Ip-g9FWJZW",
        "colab": {
          "base_uri": "https://localhost:8080/",
          "height": 33
        }
      },
      "source": [
        "#Resampling datetime data by 15min intervals\n",
        "counts_per_min_15 = df_logins.resample('15Min').count()\n",
        "print (\"Number of 15 minute intervals in the dataset: \",counts_per_min_15.shape[0])"
      ],
      "execution_count": 20,
      "outputs": [
        {
          "output_type": "stream",
          "text": [
            "Number of 15 minute intervals in the dataset:  9788\n"
          ],
          "name": "stdout"
        }
      ]
    },
    {
      "cell_type": "code",
      "metadata": {
        "colab_type": "code",
        "outputId": "adb17b17-13f1-4acc-afd4-c31f371a82e8",
        "id": "HvesNDFUWJZO",
        "colab": {
          "base_uri": "https://localhost:8080/",
          "height": 117
        }
      },
      "source": [
        "counts_per_min_15.head()"
      ],
      "execution_count": 21,
      "outputs": [
        {
          "output_type": "execute_result",
          "data": {
            "text/plain": [
              "1970-01-01 20:00:00    2\n",
              "1970-01-01 20:15:00    6\n",
              "1970-01-01 20:30:00    9\n",
              "1970-01-01 20:45:00    7\n",
              "1970-01-01 21:00:00    1\n",
              "Freq: 15T, dtype: int64"
            ]
          },
          "metadata": {
            "tags": []
          },
          "execution_count": 21
        }
      ]
    },
    {
      "cell_type": "code",
      "metadata": {
        "id": "sYLl-6qpYOsN",
        "colab_type": "code",
        "outputId": "04ad8ca5-1517-4570-b486-46c45fd30406",
        "colab": {
          "base_uri": "https://localhost:8080/",
          "height": 367
        }
      },
      "source": [
        "counts_per_min_15.sort_values(ascending=False).head(20)"
      ],
      "execution_count": 22,
      "outputs": [
        {
          "output_type": "execute_result",
          "data": {
            "text/plain": [
              "1970-03-01 04:30:00    73\n",
              "1970-04-04 05:30:00    66\n",
              "1970-04-04 01:30:00    64\n",
              "1970-04-04 01:15:00    63\n",
              "1970-04-01 23:30:00    60\n",
              "1970-04-04 05:00:00    60\n",
              "1970-04-04 05:15:00    59\n",
              "1970-04-04 04:45:00    59\n",
              "1970-04-04 01:45:00    56\n",
              "1970-03-13 22:15:00    55\n",
              "1970-04-04 01:00:00    54\n",
              "1970-03-17 01:30:00    53\n",
              "1970-04-04 00:30:00    53\n",
              "1970-03-29 04:45:00    52\n",
              "1970-03-08 04:45:00    51\n",
              "1970-04-03 22:45:00    50\n",
              "1970-03-29 02:15:00    50\n",
              "1970-04-04 00:45:00    50\n",
              "1970-02-15 04:45:00    50\n",
              "1970-03-28 04:30:00    50\n",
              "dtype: int64"
            ]
          },
          "metadata": {
            "tags": []
          },
          "execution_count": 22
        }
      ]
    },
    {
      "cell_type": "code",
      "metadata": {
        "id": "qvcqtxDdbXrK",
        "colab_type": "code",
        "outputId": "3d43c954-8876-4866-cc6b-3f19f34b3eca",
        "colab": {
          "base_uri": "https://localhost:8080/",
          "height": 117
        }
      },
      "source": [
        "counts_per_min_15.sort_values().head()"
      ],
      "execution_count": 23,
      "outputs": [
        {
          "output_type": "execute_result",
          "data": {
            "text/plain": [
              "1970-01-27 07:00:00    0\n",
              "1970-02-11 06:45:00    0\n",
              "1970-01-30 05:45:00    0\n",
              "1970-01-30 06:30:00    0\n",
              "1970-04-08 08:45:00    0\n",
              "dtype: int64"
            ]
          },
          "metadata": {
            "tags": []
          },
          "execution_count": 23
        }
      ]
    },
    {
      "cell_type": "code",
      "metadata": {
        "colab_type": "code",
        "outputId": "de176d5c-fcd6-45f6-fc5b-7929bf23442b",
        "id": "ZiuYwu7xWJZb",
        "colab": {
          "base_uri": "https://localhost:8080/",
          "height": 458
        }
      },
      "source": [
        "plt.figure(figsize=(14,6))\n",
        "plt.plot(counts_per_min_15,alpha=0.7)\n",
        "plt.xticks(rotation=45)\n",
        "plt.xlabel('Date')\n",
        "plt.ylabel('Frequency')\n",
        "plt.title('Login counts per 15 minutes')"
      ],
      "execution_count": 24,
      "outputs": [
        {
          "output_type": "execute_result",
          "data": {
            "text/plain": [
              "Text(0.5, 1.0, 'Login counts per 15 minutes')"
            ]
          },
          "metadata": {
            "tags": []
          },
          "execution_count": 24
        },
        {
          "output_type": "display_data",
          "data": {
            "image/png": "[encoded data removed]",
            "text/plain": [
              "<Figure size 1008x432 with 1 Axes>"
            ]
          },
          "metadata": {
            "tags": []
          }
        }
      ]
    },
    {
      "cell_type": "markdown",
      "metadata": {
        "id": "10QyUB3aWA7M",
        "colab_type": "text"
      },
      "source": [
        "The 15min interval data above seems to indicate a slightly shifted overall trend than the plots above. These are the key points: \n",
        "- A general upward trend till around Apr 1 followed by a downward trend. \n",
        "- The highest recorded login count occurs on March 1 at 4:30am with a count of 73. Looking at the overall data, this point could be an anomaly. \n",
        "- The next highest peak occurs on April 4 at 5:30am with 66 counts. \n",
        "- From the sorted table earlier, it appears that the highest login counts tend to occur between 10pm and 5am. \n",
        "- There are some 15min intervals where there is no login activity whatsoever. "
      ]
    },
    {
      "cell_type": "markdown",
      "metadata": {
        "id": "PgwLktdhcELI",
        "colab_type": "text"
      },
      "source": [
        "# 5. Experiment and Metrics Design"
      ]
    },
    {
      "cell_type": "markdown",
      "metadata": {
        "id": "2qtBOfv57rq3",
        "colab_type": "text"
      },
      "source": [
        "### Question\n",
        "\n",
        "The neighboring cities of Gotham and Metropolis have complementary circadian rhythms: on\n",
        "weekdays, Ultimate Gotham is most active at night, and Ultimate Metropolis is most active\n",
        "during the day. On weekends, there is reasonable activity in both cities.\n",
        "However, a toll bridge, with a two way\n",
        "toll, between the two cities causes driver partners to tend\n",
        "to be exclusive to each city. The Ultimate managers of city operations for the two cities have\n",
        "proposed an experiment to encourage driver partners to be available in both cities, by\n",
        "reimbursing all toll costs.\n",
        "1. What would you choose as the key measure of success of this experiment in\n",
        "encouraging driver partners to serve both cities, and why would you choose this metric?\n",
        "2. Describe a practical experiment you would design to compare the effectiveness of the proposed change in relation to the key measure of success. Please provide details on:\n",
        "a. how you will implement the experiment\n",
        "b. what statistical test(s) you will conduct to verify the significance of the observation\n",
        "c. how you would interpret the results and provide recommendations to the city\n",
        "operations team along with any caveats."
      ]
    },
    {
      "cell_type": "markdown",
      "metadata": {
        "id": "nt09EWIg8Pmo",
        "colab_type": "text"
      },
      "source": [
        "### Answers\n",
        "\n",
        "1. Key metrics of success: \n",
        "\n",
        "With the toll enforced, there should be little to no crossing of vehicles from Gotham to Metropolis and vice versa. With no toll fees, there should be a significant increase in this trend. One way to measure this would be to record the number of times vehicles cross over from one side to the other in a database. This can be recorded as **number of crossings per hour**. \n",
        "\n",
        "This can be done using sensors on the vehicles, similar to tolling systems in some other US cities such as Atlanta and Boston. So the key metric here would be the number of crossings from one side to another on weekends. \n",
        "\n",
        "We know that due to the circadian nature of activities during weekdays, there wouldn't be a need to cross over, where simply sticking to one city makes sense. However, the weekends would be more telling as we expect similar activity in both cities. \n",
        "\n",
        "2. Experimental design\n",
        "\n",
        "In order to design a practical experiment, we would need two conditions. One where we had the default scenario of toll fees being enforced, we can call this the **control group**. The second condition can be the scenario where the toll fees are removed, calling this the **experimental group**.\n",
        "\n",
        "As mentioned earlier, the key metric could be the number of crossings from one side to another during the weekends. This metric could be measured in several ways. \n",
        "- The data could be gathered from one weekend to the next.\n",
        "- The data could be across multiple weekends where 10 consecutive weekends had toll fees while the next 10 weekends had no toll fees. However, time would be a **confounding variable** in this case. For example, during a festive period such as Thanksgiving, there could be higher crossings than usual anyways making our experiment not as effective. \n",
        "- In order to block the time variable to an extent, tolls could be enforced on Saturday and removed on Sunday. Another option would be to enforce tolls during half the day and remove it for the rest. In any of these cases, time would play some role but it's effect can be minimized. \n",
        "- The only way time would be eliminated as a factor is if there were two similar bridge crossings. In that case, one would have the toll fees and the other wouldn't. \n",
        "\n",
        "Proposal: The experiment I would choose is to collect the no toll fees data across 4 consecutive weekends (control group). This would minimize the effect of the time variable to an extent. Once the toll fees are removed, we should give it a couple of weeks for the news to sink in and the traffic to become steady across the bridge, then collect the no toll fees data over the next 4 weekends. \n",
        "\n",
        "To test whether there is a significant increase in traffic from one city to another, we can conduct a hypothesis test comparing the means from the control and experimental group. If there is a statistically significant increase in mean for the experimental group, we have would know that the change in policy worked. The dataset would contain hourly crossings during weekends across 4 weeks. For the hypothesis testing, we can compare the means of the hourly data. \n",
        "\n",
        "Hypothesis test:\n",
        "- ***Null (ho)***: mean_control = mean_experiment. No difference in mean between control and experimental group.\n",
        "- ***Alternate (ha)***: mean_experiment > mean_control. Significant increase in experimental group compared to control group.  "
      ]
    },
    {
      "cell_type": "markdown",
      "metadata": {
        "id": "nM83HHFK7eEG",
        "colab_type": "text"
      },
      "source": [
        "# 6. Predictive Modeling"
      ]
    },
    {
      "cell_type": "markdown",
      "metadata": {
        "id": "QHImCxIkJJcS",
        "colab_type": "text"
      },
      "source": [
        "Ultimate is interested in predicting rider retention. To help explore this question, we have\n",
        "provided a sample dataset of a cohort of users who signed up for an Ultimate account in\n",
        "January 2014. The data was pulled several months later; we consider a user retained if they\n",
        "were “active” (i.e. took a trip) in the preceding 30 days.\n",
        "We would like you to use this data set to help understand what factors are the best predictors\n",
        "for retention, and offer suggestions to operationalize those insights to help Ultimate.\n",
        "The data is in the attached file ultimate_data_challenge.json. See below for a detailed\n",
        "description of the dataset. Please include any code you wrote for the analysis and delete the\n",
        "dataset when you have finished with the challenge.\n",
        "1. Perform any cleaning, exploratory analysis, and/or visualizations to use the provided\n",
        "data for this analysis (a few sentences/plots describing your approach will suffice). What\n",
        "fraction of the observed users were retained?\n",
        "2. Build a predictive model to help Ultimate determine whether or not a user will be active\n",
        "in their 6th month on the system. Discuss why you chose your approach, what\n",
        "alternatives you considered, and any concerns you have. How valid is your model?\n",
        "Include any key indicators of model performance.\n",
        "3. Briefly discuss how Ultimate might leverage the insights gained from the model to\n",
        "improve its longterm\n",
        "rider retention (again, a few sentences will suffice)."
      ]
    },
    {
      "cell_type": "markdown",
      "metadata": {
        "id": "wsRSVeWMdBLh",
        "colab_type": "text"
      },
      "source": [
        "### Data description\n",
        "- *city*: city this user signed up in\n",
        "- phone: primary device for this user\n",
        "- signup_date: date of account registration; in the form ‘YYYY MM DD’\n",
        "- *last_trip_date*: the last time this user completed a trip; in the form ‘YYYY MM DD’\n",
        "- *avg_dist*: the average distance in miles per trip taken in the first 30 days after signup\n",
        "- avg_rating_by_driver: the rider’s average rating over all of their trips\n",
        "- *avg_rating_of_driver*: the rider’s average rating of their drivers over all of their trips\n",
        "- *surge_pct*: the percent of trips taken with surge multiplier > 1\n",
        "- *avg_surge*: The average surge multiplier over all of this user’s trips\n",
        "- *trips_in_first_30_days*: the number of trips this user took in the first 30 days after\n",
        "signing up\n",
        "- *ultimate_black_user*: TRUE if the user took an Ultimate Black in their first 30 days;\n",
        "FALSE otherwise\n",
        "- *weekday_pct*: the percent of the user’s trips occurring during a weekday"
      ]
    },
    {
      "cell_type": "code",
      "metadata": {
        "id": "4jFe0KDScI77",
        "colab_type": "code",
        "outputId": "85dfd045-7709-49b2-819c-10e78c9dd49c",
        "colab": {
          "base_uri": "https://localhost:8080/",
          "height": 251
        }
      },
      "source": [
        "df.head()"
      ],
      "execution_count": 25,
      "outputs": [
        {
          "output_type": "execute_result",
          "data": {
            "text/html": [
              "<div>\n",
              "<style scoped>\n",
              "    .dataframe tbody tr th:only-of-type {\n",
              "        vertical-align: middle;\n",
              "    }\n",
              "\n",
              "    .dataframe tbody tr th {\n",
              "        vertical-align: top;\n",
              "    }\n",
              "\n",
              "    .dataframe thead th {\n",
              "        text-align: right;\n",
              "    }\n",
              "</style>\n",
              "<table border=\"1\" class=\"dataframe\">\n",
              "  <thead>\n",
              "    <tr style=\"text-align: right;\">\n",
              "      <th></th>\n",
              "      <th>city</th>\n",
              "      <th>trips_in_first_30_days</th>\n",
              "      <th>signup_date</th>\n",
              "      <th>avg_rating_of_driver</th>\n",
              "      <th>avg_surge</th>\n",
              "      <th>last_trip_date</th>\n",
              "      <th>phone</th>\n",
              "      <th>surge_pct</th>\n",
              "      <th>ultimate_black_user</th>\n",
              "      <th>weekday_pct</th>\n",
              "      <th>avg_dist</th>\n",
              "      <th>avg_rating_by_driver</th>\n",
              "    </tr>\n",
              "  </thead>\n",
              "  <tbody>\n",
              "    <tr>\n",
              "      <th>0</th>\n",
              "      <td>King's Landing</td>\n",
              "      <td>4</td>\n",
              "      <td>2014-01-25</td>\n",
              "      <td>4.7</td>\n",
              "      <td>1.10</td>\n",
              "      <td>2014-06-17</td>\n",
              "      <td>iPhone</td>\n",
              "      <td>15.4</td>\n",
              "      <td>True</td>\n",
              "      <td>46.2</td>\n",
              "      <td>3.67</td>\n",
              "      <td>5.0</td>\n",
              "    </tr>\n",
              "    <tr>\n",
              "      <th>1</th>\n",
              "      <td>Astapor</td>\n",
              "      <td>0</td>\n",
              "      <td>2014-01-29</td>\n",
              "      <td>5.0</td>\n",
              "      <td>1.00</td>\n",
              "      <td>2014-05-05</td>\n",
              "      <td>Android</td>\n",
              "      <td>0.0</td>\n",
              "      <td>False</td>\n",
              "      <td>50.0</td>\n",
              "      <td>8.26</td>\n",
              "      <td>5.0</td>\n",
              "    </tr>\n",
              "    <tr>\n",
              "      <th>2</th>\n",
              "      <td>Astapor</td>\n",
              "      <td>3</td>\n",
              "      <td>2014-01-06</td>\n",
              "      <td>4.3</td>\n",
              "      <td>1.00</td>\n",
              "      <td>2014-01-07</td>\n",
              "      <td>iPhone</td>\n",
              "      <td>0.0</td>\n",
              "      <td>False</td>\n",
              "      <td>100.0</td>\n",
              "      <td>0.77</td>\n",
              "      <td>5.0</td>\n",
              "    </tr>\n",
              "    <tr>\n",
              "      <th>3</th>\n",
              "      <td>King's Landing</td>\n",
              "      <td>9</td>\n",
              "      <td>2014-01-10</td>\n",
              "      <td>4.6</td>\n",
              "      <td>1.14</td>\n",
              "      <td>2014-06-29</td>\n",
              "      <td>iPhone</td>\n",
              "      <td>20.0</td>\n",
              "      <td>True</td>\n",
              "      <td>80.0</td>\n",
              "      <td>2.36</td>\n",
              "      <td>4.9</td>\n",
              "    </tr>\n",
              "    <tr>\n",
              "      <th>4</th>\n",
              "      <td>Winterfell</td>\n",
              "      <td>14</td>\n",
              "      <td>2014-01-27</td>\n",
              "      <td>4.4</td>\n",
              "      <td>1.19</td>\n",
              "      <td>2014-03-15</td>\n",
              "      <td>Android</td>\n",
              "      <td>11.8</td>\n",
              "      <td>False</td>\n",
              "      <td>82.4</td>\n",
              "      <td>3.13</td>\n",
              "      <td>4.9</td>\n",
              "    </tr>\n",
              "  </tbody>\n",
              "</table>\n",
              "</div>"
            ],
            "text/plain": [
              "             city  trips_in_first_30_days  ... avg_dist  avg_rating_by_driver\n",
              "0  King's Landing                       4  ...     3.67                   5.0\n",
              "1         Astapor                       0  ...     8.26                   5.0\n",
              "2         Astapor                       3  ...     0.77                   5.0\n",
              "3  King's Landing                       9  ...     2.36                   4.9\n",
              "4      Winterfell                      14  ...     3.13                   4.9\n",
              "\n",
              "[5 rows x 12 columns]"
            ]
          },
          "metadata": {
            "tags": []
          },
          "execution_count": 25
        }
      ]
    },
    {
      "cell_type": "code",
      "metadata": {
        "id": "_WjPxFARzK1S",
        "colab_type": "code",
        "outputId": "8b8d172b-a9ce-4de1-d1fa-eee1b1f5506d",
        "colab": {
          "base_uri": "https://localhost:8080/",
          "height": 33
        }
      },
      "source": [
        "df.shape"
      ],
      "execution_count": 26,
      "outputs": [
        {
          "output_type": "execute_result",
          "data": {
            "text/plain": [
              "(50000, 12)"
            ]
          },
          "metadata": {
            "tags": []
          },
          "execution_count": 26
        }
      ]
    },
    {
      "cell_type": "code",
      "metadata": {
        "id": "mbyVO-4tcWd2",
        "colab_type": "code",
        "outputId": "ccd6bf94-7f42-4caf-d518-e56c7278262d",
        "colab": {
          "base_uri": "https://localhost:8080/",
          "height": 33
        }
      },
      "source": [
        "df['city'].unique()"
      ],
      "execution_count": 27,
      "outputs": [
        {
          "output_type": "execute_result",
          "data": {
            "text/plain": [
              "array([\"King's Landing\", 'Astapor', 'Winterfell'], dtype=object)"
            ]
          },
          "metadata": {
            "tags": []
          },
          "execution_count": 27
        }
      ]
    },
    {
      "cell_type": "markdown",
      "metadata": {
        "id": "lOI1EogFOeTF",
        "colab_type": "text"
      },
      "source": [
        "## 6.1 Exploring *sign_up* date and last_trip_date"
      ]
    },
    {
      "cell_type": "code",
      "metadata": {
        "id": "9NHTFLn3csDD",
        "colab_type": "code",
        "colab": {}
      },
      "source": [
        "df_dates = df.copy()"
      ],
      "execution_count": 0,
      "outputs": []
    },
    {
      "cell_type": "code",
      "metadata": {
        "id": "blMiUvNZPIdL",
        "colab_type": "code",
        "colab": {}
      },
      "source": [
        "df_dates['signup_date'] = df_dates['signup_date'].apply(lambda x: pd.to_datetime(x))\n",
        "df_dates['last_trip_date'] = df_dates['last_trip_date'].apply(lambda x: pd.to_datetime(x))"
      ],
      "execution_count": 0,
      "outputs": []
    },
    {
      "cell_type": "code",
      "metadata": {
        "id": "XVrPod2zRNkb",
        "colab_type": "code",
        "outputId": "36d4e4df-4625-4f99-ae69-1541e6650241",
        "colab": {
          "base_uri": "https://localhost:8080/",
          "height": 251
        }
      },
      "source": [
        "df_dates.head()"
      ],
      "execution_count": 30,
      "outputs": [
        {
          "output_type": "execute_result",
          "data": {
            "text/html": [
              "<div>\n",
              "<style scoped>\n",
              "    .dataframe tbody tr th:only-of-type {\n",
              "        vertical-align: middle;\n",
              "    }\n",
              "\n",
              "    .dataframe tbody tr th {\n",
              "        vertical-align: top;\n",
              "    }\n",
              "\n",
              "    .dataframe thead th {\n",
              "        text-align: right;\n",
              "    }\n",
              "</style>\n",
              "<table border=\"1\" class=\"dataframe\">\n",
              "  <thead>\n",
              "    <tr style=\"text-align: right;\">\n",
              "      <th></th>\n",
              "      <th>city</th>\n",
              "      <th>trips_in_first_30_days</th>\n",
              "      <th>signup_date</th>\n",
              "      <th>avg_rating_of_driver</th>\n",
              "      <th>avg_surge</th>\n",
              "      <th>last_trip_date</th>\n",
              "      <th>phone</th>\n",
              "      <th>surge_pct</th>\n",
              "      <th>ultimate_black_user</th>\n",
              "      <th>weekday_pct</th>\n",
              "      <th>avg_dist</th>\n",
              "      <th>avg_rating_by_driver</th>\n",
              "    </tr>\n",
              "  </thead>\n",
              "  <tbody>\n",
              "    <tr>\n",
              "      <th>0</th>\n",
              "      <td>King's Landing</td>\n",
              "      <td>4</td>\n",
              "      <td>2014-01-25</td>\n",
              "      <td>4.7</td>\n",
              "      <td>1.10</td>\n",
              "      <td>2014-06-17</td>\n",
              "      <td>iPhone</td>\n",
              "      <td>15.4</td>\n",
              "      <td>True</td>\n",
              "      <td>46.2</td>\n",
              "      <td>3.67</td>\n",
              "      <td>5.0</td>\n",
              "    </tr>\n",
              "    <tr>\n",
              "      <th>1</th>\n",
              "      <td>Astapor</td>\n",
              "      <td>0</td>\n",
              "      <td>2014-01-29</td>\n",
              "      <td>5.0</td>\n",
              "      <td>1.00</td>\n",
              "      <td>2014-05-05</td>\n",
              "      <td>Android</td>\n",
              "      <td>0.0</td>\n",
              "      <td>False</td>\n",
              "      <td>50.0</td>\n",
              "      <td>8.26</td>\n",
              "      <td>5.0</td>\n",
              "    </tr>\n",
              "    <tr>\n",
              "      <th>2</th>\n",
              "      <td>Astapor</td>\n",
              "      <td>3</td>\n",
              "      <td>2014-01-06</td>\n",
              "      <td>4.3</td>\n",
              "      <td>1.00</td>\n",
              "      <td>2014-01-07</td>\n",
              "      <td>iPhone</td>\n",
              "      <td>0.0</td>\n",
              "      <td>False</td>\n",
              "      <td>100.0</td>\n",
              "      <td>0.77</td>\n",
              "      <td>5.0</td>\n",
              "    </tr>\n",
              "    <tr>\n",
              "      <th>3</th>\n",
              "      <td>King's Landing</td>\n",
              "      <td>9</td>\n",
              "      <td>2014-01-10</td>\n",
              "      <td>4.6</td>\n",
              "      <td>1.14</td>\n",
              "      <td>2014-06-29</td>\n",
              "      <td>iPhone</td>\n",
              "      <td>20.0</td>\n",
              "      <td>True</td>\n",
              "      <td>80.0</td>\n",
              "      <td>2.36</td>\n",
              "      <td>4.9</td>\n",
              "    </tr>\n",
              "    <tr>\n",
              "      <th>4</th>\n",
              "      <td>Winterfell</td>\n",
              "      <td>14</td>\n",
              "      <td>2014-01-27</td>\n",
              "      <td>4.4</td>\n",
              "      <td>1.19</td>\n",
              "      <td>2014-03-15</td>\n",
              "      <td>Android</td>\n",
              "      <td>11.8</td>\n",
              "      <td>False</td>\n",
              "      <td>82.4</td>\n",
              "      <td>3.13</td>\n",
              "      <td>4.9</td>\n",
              "    </tr>\n",
              "  </tbody>\n",
              "</table>\n",
              "</div>"
            ],
            "text/plain": [
              "             city  trips_in_first_30_days  ... avg_dist  avg_rating_by_driver\n",
              "0  King's Landing                       4  ...     3.67                   5.0\n",
              "1         Astapor                       0  ...     8.26                   5.0\n",
              "2         Astapor                       3  ...     0.77                   5.0\n",
              "3  King's Landing                       9  ...     2.36                   4.9\n",
              "4      Winterfell                      14  ...     3.13                   4.9\n",
              "\n",
              "[5 rows x 12 columns]"
            ]
          },
          "metadata": {
            "tags": []
          },
          "execution_count": 30
        }
      ]
    },
    {
      "cell_type": "code",
      "metadata": {
        "id": "CWq9mBfDQrQN",
        "colab_type": "code",
        "outputId": "c3ba1ac9-c3c2-4562-c05c-6d9c32fa06c3",
        "colab": {
          "base_uri": "https://localhost:8080/",
          "height": 337
        }
      },
      "source": [
        "df_dates.index = df_dates['signup_date']\n",
        "plt.plot(df_dates.resample('D').count())\n",
        "plt.xticks(rotation=45)"
      ],
      "execution_count": 31,
      "outputs": [
        {
          "output_type": "execute_result",
          "data": {
            "text/plain": [
              "(array([735234., 735238., 735242., 735246., 735250., 735254., 735258.,\n",
              "        735262., 735265.]), <a list of 9 Text xticklabel objects>)"
            ]
          },
          "metadata": {
            "tags": []
          },
          "execution_count": 31
        },
        {
          "output_type": "display_data",
          "data": {
            "image/png": "[encoded data removed]",
            "text/plain": [
              "<Figure size 432x288 with 1 Axes>"
            ]
          },
          "metadata": {
            "tags": []
          }
        }
      ]
    },
    {
      "cell_type": "code",
      "metadata": {
        "id": "mFDYLRnqRTIa",
        "colab_type": "code",
        "outputId": "4a7e9546-8892-448d-a67a-25d8cef7c47f",
        "colab": {
          "base_uri": "https://localhost:8080/",
          "height": 33
        }
      },
      "source": [
        "df_dates['signup_date'][0]"
      ],
      "execution_count": 32,
      "outputs": [
        {
          "output_type": "execute_result",
          "data": {
            "text/plain": [
              "Timestamp('2014-01-25 00:00:00')"
            ]
          },
          "metadata": {
            "tags": []
          },
          "execution_count": 32
        }
      ]
    },
    {
      "cell_type": "code",
      "metadata": {
        "id": "BfCVPAKpR5CO",
        "colab_type": "code",
        "outputId": "4f0df7f6-1809-41b9-b8da-28b65b4c750a",
        "colab": {
          "base_uri": "https://localhost:8080/",
          "height": 567
        }
      },
      "source": [
        "df_dates.resample('D').count()['city']"
      ],
      "execution_count": 33,
      "outputs": [
        {
          "output_type": "execute_result",
          "data": {
            "text/plain": [
              "signup_date\n",
              "2014-01-01    1737\n",
              "2014-01-02    1004\n",
              "2014-01-03    1213\n",
              "2014-01-04    1485\n",
              "2014-01-05    1343\n",
              "2014-01-06    1763\n",
              "2014-01-07    1486\n",
              "2014-01-08    1275\n",
              "2014-01-09    1433\n",
              "2014-01-10    2021\n",
              "2014-01-11    2402\n",
              "2014-01-12    1334\n",
              "2014-01-13    1049\n",
              "2014-01-14    1120\n",
              "2014-01-15    1110\n",
              "2014-01-16    1431\n",
              "2014-01-17    2149\n",
              "2014-01-18    2948\n",
              "2014-01-19    2028\n",
              "2014-01-20    1295\n",
              "2014-01-21    1234\n",
              "2014-01-22    1369\n",
              "2014-01-23    1606\n",
              "2014-01-24    2284\n",
              "2014-01-25    2885\n",
              "2014-01-26    1708\n",
              "2014-01-27    1236\n",
              "2014-01-28    1284\n",
              "2014-01-29    1197\n",
              "2014-01-30    1471\n",
              "2014-01-31    2100\n",
              "Freq: D, Name: city, dtype: int64"
            ]
          },
          "metadata": {
            "tags": []
          },
          "execution_count": 33
        }
      ]
    },
    {
      "cell_type": "markdown",
      "metadata": {
        "id": "4xEVfJjjUm9P",
        "colab_type": "text"
      },
      "source": [
        "Looking at the trend above, there is a peak on Jan 1 which is new year's day. After that, there are peaks every Saturday starting from Jan 11 (Sat). "
      ]
    },
    {
      "cell_type": "code",
      "metadata": {
        "id": "2PKu_dUuSwn_",
        "colab_type": "code",
        "outputId": "6aad0cc3-699c-4371-cc65-1d9709ac4b25",
        "colab": {
          "base_uri": "https://localhost:8080/",
          "height": 325
        }
      },
      "source": [
        "df_dates.index = df_dates['last_trip_date']\n",
        "plt.plot(df_dates.resample('D').count())\n",
        "plt.xticks(rotation=45)"
      ],
      "execution_count": 34,
      "outputs": [
        {
          "output_type": "execute_result",
          "data": {
            "text/plain": [
              "(array([735234., 735265., 735293., 735324., 735354., 735385., 735415.]),\n",
              " <a list of 7 Text xticklabel objects>)"
            ]
          },
          "metadata": {
            "tags": []
          },
          "execution_count": 34
        },
        {
          "output_type": "display_data",
          "data": {
            "image/png": "[encoded data removed]",
            "text/plain": [
              "<Figure size 432x288 with 1 Axes>"
            ]
          },
          "metadata": {
            "tags": []
          }
        }
      ]
    },
    {
      "cell_type": "code",
      "metadata": {
        "id": "UNrDWiJgxL9k",
        "colab_type": "code",
        "outputId": "85eba2f9-2885-44f5-b73a-e4e3b45760b2",
        "colab": {
          "base_uri": "https://localhost:8080/",
          "height": 233
        }
      },
      "source": [
        "df_dates.resample('D').count()['city']"
      ],
      "execution_count": 35,
      "outputs": [
        {
          "output_type": "execute_result",
          "data": {
            "text/plain": [
              "last_trip_date\n",
              "2014-01-01     128\n",
              "2014-01-02     180\n",
              "2014-01-03     128\n",
              "2014-01-04     199\n",
              "2014-01-05     270\n",
              "              ... \n",
              "2014-06-27    1120\n",
              "2014-06-28    1679\n",
              "2014-06-29    2036\n",
              "2014-06-30    1408\n",
              "2014-07-01     548\n",
              "Freq: D, Name: city, Length: 182, dtype: int64"
            ]
          },
          "metadata": {
            "tags": []
          },
          "execution_count": 35
        }
      ]
    },
    {
      "cell_type": "markdown",
      "metadata": {
        "id": "iIJPuEiFU5-S",
        "colab_type": "text"
      },
      "source": [
        "For the last trip date, there is a slight surge in activity in January itself which corresponds to the sign up trends as well. This would indicate that a lot of people signed up for simply a one-time use. \n",
        "\n",
        "After Jan, the trend is pretty steady until June where there is a growing trend once again. Since this data is collected until July, it makese sense that there is a spike in last trip dates in June as most people used the service last during the last month. "
      ]
    },
    {
      "cell_type": "markdown",
      "metadata": {
        "id": "o4cCeJpqwtx-",
        "colab_type": "text"
      },
      "source": [
        "# 6.2 Determining retention values"
      ]
    },
    {
      "cell_type": "markdown",
      "metadata": {
        "id": "ReNhhGwcw0oS",
        "colab_type": "text"
      },
      "source": [
        "In order to determine which users were retained, we need to figure out if a user completed a trip in the last 30 days or not, hence last 30 days prior to July 1 which is the last date in the dataset when a trip was completed. "
      ]
    },
    {
      "cell_type": "code",
      "metadata": {
        "id": "gwFuPaHqxpqc",
        "colab_type": "code",
        "outputId": "6ad417d8-0765-41f0-e571-9e5407decfcd",
        "colab": {
          "base_uri": "https://localhost:8080/",
          "height": 33
        }
      },
      "source": [
        "#Creating a datetime object for July 1\n",
        "last_date = pd.to_datetime('2014-07-01')\n",
        "last_date"
      ],
      "execution_count": 36,
      "outputs": [
        {
          "output_type": "execute_result",
          "data": {
            "text/plain": [
              "Timestamp('2014-07-01 00:00:00')"
            ]
          },
          "metadata": {
            "tags": []
          },
          "execution_count": 36
        }
      ]
    },
    {
      "cell_type": "code",
      "metadata": {
        "id": "jKElCVgfx7yK",
        "colab_type": "code",
        "outputId": "d91393d2-75ee-4f28-b444-0b95eb0deef8",
        "colab": {
          "base_uri": "https://localhost:8080/",
          "height": 233
        }
      },
      "source": [
        "#Creating a new variable which contains the number of days since last trip\n",
        "df_dates['days_since_last_trip'] = df_dates['last_trip_date'].apply(lambda x: (last_date - x).days)\n",
        "df_dates['days_since_last_trip']"
      ],
      "execution_count": 37,
      "outputs": [
        {
          "output_type": "execute_result",
          "data": {
            "text/plain": [
              "last_trip_date\n",
              "2014-06-17     14\n",
              "2014-05-05     57\n",
              "2014-01-07    175\n",
              "2014-06-29      2\n",
              "2014-03-15    108\n",
              "             ... \n",
              "2014-06-05     26\n",
              "2014-01-25    157\n",
              "2014-05-22     40\n",
              "2014-01-15    167\n",
              "2014-04-20     72\n",
              "Name: days_since_last_trip, Length: 50000, dtype: int64"
            ]
          },
          "metadata": {
            "tags": []
          },
          "execution_count": 37
        }
      ]
    },
    {
      "cell_type": "markdown",
      "metadata": {
        "id": "h34WN0dk-ueU",
        "colab_type": "text"
      },
      "source": [
        "Above, we have extracted the number of days since the last trip and included it as a new variable in the dataset. This was done by first calculating the time delta between the last date and the last ride date and then extracting the 'days' attribute. "
      ]
    },
    {
      "cell_type": "code",
      "metadata": {
        "id": "EGVaZlVtydhf",
        "colab_type": "code",
        "outputId": "62d7be8d-4617-48c9-b84f-43bd0d2857da",
        "colab": {
          "base_uri": "https://localhost:8080/",
          "height": 251
        }
      },
      "source": [
        "#Converting the indexes back to integers\n",
        "df_dates.index = range(df_dates.shape[0])\n",
        "df_dates.head()"
      ],
      "execution_count": 38,
      "outputs": [
        {
          "output_type": "execute_result",
          "data": {
            "text/html": [
              "<div>\n",
              "<style scoped>\n",
              "    .dataframe tbody tr th:only-of-type {\n",
              "        vertical-align: middle;\n",
              "    }\n",
              "\n",
              "    .dataframe tbody tr th {\n",
              "        vertical-align: top;\n",
              "    }\n",
              "\n",
              "    .dataframe thead th {\n",
              "        text-align: right;\n",
              "    }\n",
              "</style>\n",
              "<table border=\"1\" class=\"dataframe\">\n",
              "  <thead>\n",
              "    <tr style=\"text-align: right;\">\n",
              "      <th></th>\n",
              "      <th>city</th>\n",
              "      <th>trips_in_first_30_days</th>\n",
              "      <th>signup_date</th>\n",
              "      <th>avg_rating_of_driver</th>\n",
              "      <th>avg_surge</th>\n",
              "      <th>last_trip_date</th>\n",
              "      <th>phone</th>\n",
              "      <th>surge_pct</th>\n",
              "      <th>ultimate_black_user</th>\n",
              "      <th>weekday_pct</th>\n",
              "      <th>avg_dist</th>\n",
              "      <th>avg_rating_by_driver</th>\n",
              "      <th>days_since_last_trip</th>\n",
              "    </tr>\n",
              "  </thead>\n",
              "  <tbody>\n",
              "    <tr>\n",
              "      <th>0</th>\n",
              "      <td>King's Landing</td>\n",
              "      <td>4</td>\n",
              "      <td>2014-01-25</td>\n",
              "      <td>4.7</td>\n",
              "      <td>1.10</td>\n",
              "      <td>2014-06-17</td>\n",
              "      <td>iPhone</td>\n",
              "      <td>15.4</td>\n",
              "      <td>True</td>\n",
              "      <td>46.2</td>\n",
              "      <td>3.67</td>\n",
              "      <td>5.0</td>\n",
              "      <td>14</td>\n",
              "    </tr>\n",
              "    <tr>\n",
              "      <th>1</th>\n",
              "      <td>Astapor</td>\n",
              "      <td>0</td>\n",
              "      <td>2014-01-29</td>\n",
              "      <td>5.0</td>\n",
              "      <td>1.00</td>\n",
              "      <td>2014-05-05</td>\n",
              "      <td>Android</td>\n",
              "      <td>0.0</td>\n",
              "      <td>False</td>\n",
              "      <td>50.0</td>\n",
              "      <td>8.26</td>\n",
              "      <td>5.0</td>\n",
              "      <td>57</td>\n",
              "    </tr>\n",
              "    <tr>\n",
              "      <th>2</th>\n",
              "      <td>Astapor</td>\n",
              "      <td>3</td>\n",
              "      <td>2014-01-06</td>\n",
              "      <td>4.3</td>\n",
              "      <td>1.00</td>\n",
              "      <td>2014-01-07</td>\n",
              "      <td>iPhone</td>\n",
              "      <td>0.0</td>\n",
              "      <td>False</td>\n",
              "      <td>100.0</td>\n",
              "      <td>0.77</td>\n",
              "      <td>5.0</td>\n",
              "      <td>175</td>\n",
              "    </tr>\n",
              "    <tr>\n",
              "      <th>3</th>\n",
              "      <td>King's Landing</td>\n",
              "      <td>9</td>\n",
              "      <td>2014-01-10</td>\n",
              "      <td>4.6</td>\n",
              "      <td>1.14</td>\n",
              "      <td>2014-06-29</td>\n",
              "      <td>iPhone</td>\n",
              "      <td>20.0</td>\n",
              "      <td>True</td>\n",
              "      <td>80.0</td>\n",
              "      <td>2.36</td>\n",
              "      <td>4.9</td>\n",
              "      <td>2</td>\n",
              "    </tr>\n",
              "    <tr>\n",
              "      <th>4</th>\n",
              "      <td>Winterfell</td>\n",
              "      <td>14</td>\n",
              "      <td>2014-01-27</td>\n",
              "      <td>4.4</td>\n",
              "      <td>1.19</td>\n",
              "      <td>2014-03-15</td>\n",
              "      <td>Android</td>\n",
              "      <td>11.8</td>\n",
              "      <td>False</td>\n",
              "      <td>82.4</td>\n",
              "      <td>3.13</td>\n",
              "      <td>4.9</td>\n",
              "      <td>108</td>\n",
              "    </tr>\n",
              "  </tbody>\n",
              "</table>\n",
              "</div>"
            ],
            "text/plain": [
              "             city  ...  days_since_last_trip\n",
              "0  King's Landing  ...                    14\n",
              "1         Astapor  ...                    57\n",
              "2         Astapor  ...                   175\n",
              "3  King's Landing  ...                     2\n",
              "4      Winterfell  ...                   108\n",
              "\n",
              "[5 rows x 13 columns]"
            ]
          },
          "metadata": {
            "tags": []
          },
          "execution_count": 38
        }
      ]
    },
    {
      "cell_type": "code",
      "metadata": {
        "id": "uPaiyKpD0Fv9",
        "colab_type": "code",
        "outputId": "6b1cb179-e077-4b12-9402-1310a657d391",
        "colab": {
          "base_uri": "https://localhost:8080/",
          "height": 251
        }
      },
      "source": [
        "#Creating new variable which states whether the user is active or not (any trips within last 30 days)\n",
        "df_dates['active'] = list(map(int, df_dates['days_since_last_trip'] < 30))\n",
        "df_dates.head()"
      ],
      "execution_count": 39,
      "outputs": [
        {
          "output_type": "execute_result",
          "data": {
            "text/html": [
              "<div>\n",
              "<style scoped>\n",
              "    .dataframe tbody tr th:only-of-type {\n",
              "        vertical-align: middle;\n",
              "    }\n",
              "\n",
              "    .dataframe tbody tr th {\n",
              "        vertical-align: top;\n",
              "    }\n",
              "\n",
              "    .dataframe thead th {\n",
              "        text-align: right;\n",
              "    }\n",
              "</style>\n",
              "<table border=\"1\" class=\"dataframe\">\n",
              "  <thead>\n",
              "    <tr style=\"text-align: right;\">\n",
              "      <th></th>\n",
              "      <th>city</th>\n",
              "      <th>trips_in_first_30_days</th>\n",
              "      <th>signup_date</th>\n",
              "      <th>avg_rating_of_driver</th>\n",
              "      <th>avg_surge</th>\n",
              "      <th>last_trip_date</th>\n",
              "      <th>phone</th>\n",
              "      <th>surge_pct</th>\n",
              "      <th>ultimate_black_user</th>\n",
              "      <th>weekday_pct</th>\n",
              "      <th>avg_dist</th>\n",
              "      <th>avg_rating_by_driver</th>\n",
              "      <th>days_since_last_trip</th>\n",
              "      <th>active</th>\n",
              "    </tr>\n",
              "  </thead>\n",
              "  <tbody>\n",
              "    <tr>\n",
              "      <th>0</th>\n",
              "      <td>King's Landing</td>\n",
              "      <td>4</td>\n",
              "      <td>2014-01-25</td>\n",
              "      <td>4.7</td>\n",
              "      <td>1.10</td>\n",
              "      <td>2014-06-17</td>\n",
              "      <td>iPhone</td>\n",
              "      <td>15.4</td>\n",
              "      <td>True</td>\n",
              "      <td>46.2</td>\n",
              "      <td>3.67</td>\n",
              "      <td>5.0</td>\n",
              "      <td>14</td>\n",
              "      <td>1</td>\n",
              "    </tr>\n",
              "    <tr>\n",
              "      <th>1</th>\n",
              "      <td>Astapor</td>\n",
              "      <td>0</td>\n",
              "      <td>2014-01-29</td>\n",
              "      <td>5.0</td>\n",
              "      <td>1.00</td>\n",
              "      <td>2014-05-05</td>\n",
              "      <td>Android</td>\n",
              "      <td>0.0</td>\n",
              "      <td>False</td>\n",
              "      <td>50.0</td>\n",
              "      <td>8.26</td>\n",
              "      <td>5.0</td>\n",
              "      <td>57</td>\n",
              "      <td>0</td>\n",
              "    </tr>\n",
              "    <tr>\n",
              "      <th>2</th>\n",
              "      <td>Astapor</td>\n",
              "      <td>3</td>\n",
              "      <td>2014-01-06</td>\n",
              "      <td>4.3</td>\n",
              "      <td>1.00</td>\n",
              "      <td>2014-01-07</td>\n",
              "      <td>iPhone</td>\n",
              "      <td>0.0</td>\n",
              "      <td>False</td>\n",
              "      <td>100.0</td>\n",
              "      <td>0.77</td>\n",
              "      <td>5.0</td>\n",
              "      <td>175</td>\n",
              "      <td>0</td>\n",
              "    </tr>\n",
              "    <tr>\n",
              "      <th>3</th>\n",
              "      <td>King's Landing</td>\n",
              "      <td>9</td>\n",
              "      <td>2014-01-10</td>\n",
              "      <td>4.6</td>\n",
              "      <td>1.14</td>\n",
              "      <td>2014-06-29</td>\n",
              "      <td>iPhone</td>\n",
              "      <td>20.0</td>\n",
              "      <td>True</td>\n",
              "      <td>80.0</td>\n",
              "      <td>2.36</td>\n",
              "      <td>4.9</td>\n",
              "      <td>2</td>\n",
              "      <td>1</td>\n",
              "    </tr>\n",
              "    <tr>\n",
              "      <th>4</th>\n",
              "      <td>Winterfell</td>\n",
              "      <td>14</td>\n",
              "      <td>2014-01-27</td>\n",
              "      <td>4.4</td>\n",
              "      <td>1.19</td>\n",
              "      <td>2014-03-15</td>\n",
              "      <td>Android</td>\n",
              "      <td>11.8</td>\n",
              "      <td>False</td>\n",
              "      <td>82.4</td>\n",
              "      <td>3.13</td>\n",
              "      <td>4.9</td>\n",
              "      <td>108</td>\n",
              "      <td>0</td>\n",
              "    </tr>\n",
              "  </tbody>\n",
              "</table>\n",
              "</div>"
            ],
            "text/plain": [
              "             city  trips_in_first_30_days  ... days_since_last_trip  active\n",
              "0  King's Landing                       4  ...                   14       1\n",
              "1         Astapor                       0  ...                   57       0\n",
              "2         Astapor                       3  ...                  175       0\n",
              "3  King's Landing                       9  ...                    2       1\n",
              "4      Winterfell                      14  ...                  108       0\n",
              "\n",
              "[5 rows x 14 columns]"
            ]
          },
          "metadata": {
            "tags": []
          },
          "execution_count": 39
        }
      ]
    },
    {
      "cell_type": "markdown",
      "metadata": {
        "id": "b4VDG8J7_Aqy",
        "colab_type": "text"
      },
      "source": [
        "Above, we have created a new variable which states whether the user is active or not based on activity in the last 30 days. "
      ]
    },
    {
      "cell_type": "code",
      "metadata": {
        "id": "zsx8YzOV5RRN",
        "colab_type": "code",
        "outputId": "bba166b2-234e-48a2-a411-b73976fbe8ae",
        "colab": {
          "base_uri": "https://localhost:8080/",
          "height": 137
        }
      },
      "source": [
        "df_active = df_dates[['city','active']].groupby('active').count()\n",
        "df_active.columns = ['users']\n",
        "df_active['percent'] = df_active['users'].apply(lambda x: (x/df_active['users'].sum())*100)\n",
        "df_active"
      ],
      "execution_count": 40,
      "outputs": [
        {
          "output_type": "execute_result",
          "data": {
            "text/html": [
              "<div>\n",
              "<style scoped>\n",
              "    .dataframe tbody tr th:only-of-type {\n",
              "        vertical-align: middle;\n",
              "    }\n",
              "\n",
              "    .dataframe tbody tr th {\n",
              "        vertical-align: top;\n",
              "    }\n",
              "\n",
              "    .dataframe thead th {\n",
              "        text-align: right;\n",
              "    }\n",
              "</style>\n",
              "<table border=\"1\" class=\"dataframe\">\n",
              "  <thead>\n",
              "    <tr style=\"text-align: right;\">\n",
              "      <th></th>\n",
              "      <th>users</th>\n",
              "      <th>percent</th>\n",
              "    </tr>\n",
              "    <tr>\n",
              "      <th>active</th>\n",
              "      <th></th>\n",
              "      <th></th>\n",
              "    </tr>\n",
              "  </thead>\n",
              "  <tbody>\n",
              "    <tr>\n",
              "      <th>0</th>\n",
              "      <td>31690</td>\n",
              "      <td>63.38</td>\n",
              "    </tr>\n",
              "    <tr>\n",
              "      <th>1</th>\n",
              "      <td>18310</td>\n",
              "      <td>36.62</td>\n",
              "    </tr>\n",
              "  </tbody>\n",
              "</table>\n",
              "</div>"
            ],
            "text/plain": [
              "        users  percent\n",
              "active                \n",
              "0       31690    63.38\n",
              "1       18310    36.62"
            ]
          },
          "metadata": {
            "tags": []
          },
          "execution_count": 40
        }
      ]
    },
    {
      "cell_type": "markdown",
      "metadata": {
        "id": "r1gmRLXM6Kxk",
        "colab_type": "text"
      },
      "source": [
        "Above, we can see that the number of users that are currently active are **18,310**, which is almost half the number of inactive users - **31,690**. We have **63.38%** inactive users in comparison to **36.62%** active or retained users. This data is visualized below.  "
      ]
    },
    {
      "cell_type": "code",
      "metadata": {
        "id": "EDV7TSi86I0E",
        "colab_type": "code",
        "outputId": "36ab3a4a-85cb-425d-b5b0-d87919fa5330",
        "colab": {
          "base_uri": "https://localhost:8080/",
          "height": 517
        }
      },
      "source": [
        "plt.figure(figsize=(12,8))\n",
        "sns.barplot(data=df_active,y='users',x=df_active.index,alpha=0.8)\n",
        "plt.xlabel('active',size=14)\n",
        "plt.ylabel('users',size=14)"
      ],
      "execution_count": 41,
      "outputs": [
        {
          "output_type": "execute_result",
          "data": {
            "text/plain": [
              "Text(0, 0.5, 'users')"
            ]
          },
          "metadata": {
            "tags": []
          },
          "execution_count": 41
        },
        {
          "output_type": "display_data",
          "data": {
            "image/png": "[encoded data removed]",
            "text/plain": [
              "<Figure size 864x576 with 1 Axes>"
            ]
          },
          "metadata": {
            "tags": []
          }
        }
      ]
    },
    {
      "cell_type": "markdown",
      "metadata": {
        "id": "hEa11lsy_Ly8",
        "colab_type": "text"
      },
      "source": [
        "# 6.3 More exploratory data analysis"
      ]
    },
    {
      "cell_type": "code",
      "metadata": {
        "id": "WWtAMw-z9wMs",
        "colab_type": "code",
        "outputId": "8bc3d7a2-f2a6-491f-a98d-70544f50a07c",
        "colab": {
          "base_uri": "https://localhost:8080/",
          "height": 251
        }
      },
      "source": [
        "df_dates.head()"
      ],
      "execution_count": 42,
      "outputs": [
        {
          "output_type": "execute_result",
          "data": {
            "text/html": [
              "<div>\n",
              "<style scoped>\n",
              "    .dataframe tbody tr th:only-of-type {\n",
              "        vertical-align: middle;\n",
              "    }\n",
              "\n",
              "    .dataframe tbody tr th {\n",
              "        vertical-align: top;\n",
              "    }\n",
              "\n",
              "    .dataframe thead th {\n",
              "        text-align: right;\n",
              "    }\n",
              "</style>\n",
              "<table border=\"1\" class=\"dataframe\">\n",
              "  <thead>\n",
              "    <tr style=\"text-align: right;\">\n",
              "      <th></th>\n",
              "      <th>city</th>\n",
              "      <th>trips_in_first_30_days</th>\n",
              "      <th>signup_date</th>\n",
              "      <th>avg_rating_of_driver</th>\n",
              "      <th>avg_surge</th>\n",
              "      <th>last_trip_date</th>\n",
              "      <th>phone</th>\n",
              "      <th>surge_pct</th>\n",
              "      <th>ultimate_black_user</th>\n",
              "      <th>weekday_pct</th>\n",
              "      <th>avg_dist</th>\n",
              "      <th>avg_rating_by_driver</th>\n",
              "      <th>days_since_last_trip</th>\n",
              "      <th>active</th>\n",
              "    </tr>\n",
              "  </thead>\n",
              "  <tbody>\n",
              "    <tr>\n",
              "      <th>0</th>\n",
              "      <td>King's Landing</td>\n",
              "      <td>4</td>\n",
              "      <td>2014-01-25</td>\n",
              "      <td>4.7</td>\n",
              "      <td>1.10</td>\n",
              "      <td>2014-06-17</td>\n",
              "      <td>iPhone</td>\n",
              "      <td>15.4</td>\n",
              "      <td>True</td>\n",
              "      <td>46.2</td>\n",
              "      <td>3.67</td>\n",
              "      <td>5.0</td>\n",
              "      <td>14</td>\n",
              "      <td>1</td>\n",
              "    </tr>\n",
              "    <tr>\n",
              "      <th>1</th>\n",
              "      <td>Astapor</td>\n",
              "      <td>0</td>\n",
              "      <td>2014-01-29</td>\n",
              "      <td>5.0</td>\n",
              "      <td>1.00</td>\n",
              "      <td>2014-05-05</td>\n",
              "      <td>Android</td>\n",
              "      <td>0.0</td>\n",
              "      <td>False</td>\n",
              "      <td>50.0</td>\n",
              "      <td>8.26</td>\n",
              "      <td>5.0</td>\n",
              "      <td>57</td>\n",
              "      <td>0</td>\n",
              "    </tr>\n",
              "    <tr>\n",
              "      <th>2</th>\n",
              "      <td>Astapor</td>\n",
              "      <td>3</td>\n",
              "      <td>2014-01-06</td>\n",
              "      <td>4.3</td>\n",
              "      <td>1.00</td>\n",
              "      <td>2014-01-07</td>\n",
              "      <td>iPhone</td>\n",
              "      <td>0.0</td>\n",
              "      <td>False</td>\n",
              "      <td>100.0</td>\n",
              "      <td>0.77</td>\n",
              "      <td>5.0</td>\n",
              "      <td>175</td>\n",
              "      <td>0</td>\n",
              "    </tr>\n",
              "    <tr>\n",
              "      <th>3</th>\n",
              "      <td>King's Landing</td>\n",
              "      <td>9</td>\n",
              "      <td>2014-01-10</td>\n",
              "      <td>4.6</td>\n",
              "      <td>1.14</td>\n",
              "      <td>2014-06-29</td>\n",
              "      <td>iPhone</td>\n",
              "      <td>20.0</td>\n",
              "      <td>True</td>\n",
              "      <td>80.0</td>\n",
              "      <td>2.36</td>\n",
              "      <td>4.9</td>\n",
              "      <td>2</td>\n",
              "      <td>1</td>\n",
              "    </tr>\n",
              "    <tr>\n",
              "      <th>4</th>\n",
              "      <td>Winterfell</td>\n",
              "      <td>14</td>\n",
              "      <td>2014-01-27</td>\n",
              "      <td>4.4</td>\n",
              "      <td>1.19</td>\n",
              "      <td>2014-03-15</td>\n",
              "      <td>Android</td>\n",
              "      <td>11.8</td>\n",
              "      <td>False</td>\n",
              "      <td>82.4</td>\n",
              "      <td>3.13</td>\n",
              "      <td>4.9</td>\n",
              "      <td>108</td>\n",
              "      <td>0</td>\n",
              "    </tr>\n",
              "  </tbody>\n",
              "</table>\n",
              "</div>"
            ],
            "text/plain": [
              "             city  trips_in_first_30_days  ... days_since_last_trip  active\n",
              "0  King's Landing                       4  ...                   14       1\n",
              "1         Astapor                       0  ...                   57       0\n",
              "2         Astapor                       3  ...                  175       0\n",
              "3  King's Landing                       9  ...                    2       1\n",
              "4      Winterfell                      14  ...                  108       0\n",
              "\n",
              "[5 rows x 14 columns]"
            ]
          },
          "metadata": {
            "tags": []
          },
          "execution_count": 42
        }
      ]
    },
    {
      "cell_type": "markdown",
      "metadata": {
        "id": "9Ihs3D1hB3Bf",
        "colab_type": "text"
      },
      "source": [
        "### 6.3.1 active vs trips_in_first_30_days"
      ]
    },
    {
      "cell_type": "code",
      "metadata": {
        "id": "ixkAwfEmBRyr",
        "colab_type": "code",
        "outputId": "bf871206-2b4b-4285-96dc-e532e4bc3fb8",
        "colab": {
          "base_uri": "https://localhost:8080/",
          "height": 282
        }
      },
      "source": [
        "plt.scatter(range(len(df_dates['trips_in_first_30_days'])),df_dates['trips_in_first_30_days'])"
      ],
      "execution_count": 43,
      "outputs": [
        {
          "output_type": "execute_result",
          "data": {
            "text/plain": [
              "<matplotlib.collections.PathCollection at 0x7f5f3079ea20>"
            ]
          },
          "metadata": {
            "tags": []
          },
          "execution_count": 43
        },
        {
          "output_type": "display_data",
          "data": {
            "image/png": "[encoded data removed]",
            "text/plain": [
              "<Figure size 432x288 with 1 Axes>"
            ]
          },
          "metadata": {
            "tags": []
          }
        }
      ]
    },
    {
      "cell_type": "code",
      "metadata": {
        "id": "Iy22GqJ-D7mj",
        "colab_type": "code",
        "outputId": "d84dd876-d238-4cc6-a8c6-14e7fb741bda",
        "colab": {
          "base_uri": "https://localhost:8080/",
          "height": 405
        }
      },
      "source": [
        "plt.figure(figsize=(10,6))\n",
        "sns.stripplot(x='active',y='trips_in_first_30_days',data=df_dates,alpha=0.6)"
      ],
      "execution_count": 44,
      "outputs": [
        {
          "output_type": "execute_result",
          "data": {
            "text/plain": [
              "<matplotlib.axes._subplots.AxesSubplot at 0x7f5f305eef60>"
            ]
          },
          "metadata": {
            "tags": []
          },
          "execution_count": 44
        },
        {
          "output_type": "display_data",
          "data": {
            "image/png": "[encoded data removed]",
            "text/plain": [
              "<Figure size 720x432 with 1 Axes>"
            ]
          },
          "metadata": {
            "tags": []
          }
        }
      ]
    },
    {
      "cell_type": "markdown",
      "metadata": {
        "id": "FWFh97m6E6_9",
        "colab_type": "text"
      },
      "source": [
        "Looking at the plot above, there is some indication that the current active users had greater number of trips within the first 30 days of signing up. The average value for active users is clearly higher as shown in the table below. One thing to notice is that we have an outlier for the active cases with a value above 120. We can get rid of this point and plot again. "
      ]
    },
    {
      "cell_type": "code",
      "metadata": {
        "id": "-Epc1tplEPQF",
        "colab_type": "code",
        "outputId": "d5f2849a-8f29-4129-b6a1-d6da849e8eaa",
        "colab": {
          "base_uri": "https://localhost:8080/",
          "height": 137
        }
      },
      "source": [
        "df_dates[['trips_in_first_30_days','active']].groupby('active').mean()"
      ],
      "execution_count": 45,
      "outputs": [
        {
          "output_type": "execute_result",
          "data": {
            "text/html": [
              "<div>\n",
              "<style scoped>\n",
              "    .dataframe tbody tr th:only-of-type {\n",
              "        vertical-align: middle;\n",
              "    }\n",
              "\n",
              "    .dataframe tbody tr th {\n",
              "        vertical-align: top;\n",
              "    }\n",
              "\n",
              "    .dataframe thead th {\n",
              "        text-align: right;\n",
              "    }\n",
              "</style>\n",
              "<table border=\"1\" class=\"dataframe\">\n",
              "  <thead>\n",
              "    <tr style=\"text-align: right;\">\n",
              "      <th></th>\n",
              "      <th>trips_in_first_30_days</th>\n",
              "    </tr>\n",
              "    <tr>\n",
              "      <th>active</th>\n",
              "      <th></th>\n",
              "    </tr>\n",
              "  </thead>\n",
              "  <tbody>\n",
              "    <tr>\n",
              "      <th>0</th>\n",
              "      <td>1.659167</td>\n",
              "    </tr>\n",
              "    <tr>\n",
              "      <th>1</th>\n",
              "      <td>3.349590</td>\n",
              "    </tr>\n",
              "  </tbody>\n",
              "</table>\n",
              "</div>"
            ],
            "text/plain": [
              "        trips_in_first_30_days\n",
              "active                        \n",
              "0                     1.659167\n",
              "1                     3.349590"
            ]
          },
          "metadata": {
            "tags": []
          },
          "execution_count": 45
        }
      ]
    },
    {
      "cell_type": "code",
      "metadata": {
        "id": "iljNPFvvE03r",
        "colab_type": "code",
        "outputId": "964e5aab-34a5-4393-8c81-463702688427",
        "colab": {
          "base_uri": "https://localhost:8080/",
          "height": 405
        }
      },
      "source": [
        "df_dates = df_dates[df_dates['trips_in_first_30_days']<100]\n",
        "plt.figure(figsize=(10,6))\n",
        "sns.stripplot(x='active',y='trips_in_first_30_days',data=df_dates,alpha=0.6)"
      ],
      "execution_count": 46,
      "outputs": [
        {
          "output_type": "execute_result",
          "data": {
            "text/plain": [
              "<matplotlib.axes._subplots.AxesSubplot at 0x7f5f303f6978>"
            ]
          },
          "metadata": {
            "tags": []
          },
          "execution_count": 46
        },
        {
          "output_type": "display_data",
          "data": {
            "image/png": "[encoded data removed]",
            "text/plain": [
              "<Figure size 720x432 with 1 Axes>"
            ]
          },
          "metadata": {
            "tags": []
          }
        }
      ]
    },
    {
      "cell_type": "markdown",
      "metadata": {
        "id": "jxZ1Q8s-F-8y",
        "colab_type": "text"
      },
      "source": [
        "The higher number of trips during the first 30 days for active users could indicate that a lot of the inactive users may have signed up for the service initially for limited number of uses which may be reflected during their activity for January. We can't say that this variable clearly explains the difference between active and non-active users. Hence, let's look at some other variables first. "
      ]
    },
    {
      "cell_type": "markdown",
      "metadata": {
        "id": "QTdlM8q_GhCV",
        "colab_type": "text"
      },
      "source": [
        "### 6.3.2 active vs ultimate_black_user"
      ]
    },
    {
      "cell_type": "code",
      "metadata": {
        "id": "7PEMGY2CI-KD",
        "colab_type": "code",
        "outputId": "9315c4f2-0aad-479c-dcde-edd7f0c839e3",
        "colab": {
          "base_uri": "https://localhost:8080/",
          "height": 67
        }
      },
      "source": [
        "df_dates['ultimate_black_user'].value_counts()"
      ],
      "execution_count": 47,
      "outputs": [
        {
          "output_type": "execute_result",
          "data": {
            "text/plain": [
              "False    31146\n",
              "True     18853\n",
              "Name: ultimate_black_user, dtype: int64"
            ]
          },
          "metadata": {
            "tags": []
          },
          "execution_count": 47
        }
      ]
    },
    {
      "cell_type": "markdown",
      "metadata": {
        "id": "xn0YVKcWJUf3",
        "colab_type": "text"
      },
      "source": [
        "Overall, far more people did not use the ultimate black service during the first 30 days. "
      ]
    },
    {
      "cell_type": "code",
      "metadata": {
        "id": "aszX8UROFzVy",
        "colab_type": "code",
        "outputId": "aab28d00-280a-47ad-9fd1-54230afc1bc9",
        "colab": {
          "base_uri": "https://localhost:8080/",
          "height": 510
        }
      },
      "source": [
        "plt.figure(figsize=(10,6))\n",
        "sns.countplot(x='ultimate_black_user',hue='active',data=df_dates,alpha=0.8)\n",
        "\n",
        "df_dates[['ultimate_black_user','active']].groupby('ultimate_black_user').count()"
      ],
      "execution_count": 48,
      "outputs": [
        {
          "output_type": "execute_result",
          "data": {
            "text/html": [
              "<div>\n",
              "<style scoped>\n",
              "    .dataframe tbody tr th:only-of-type {\n",
              "        vertical-align: middle;\n",
              "    }\n",
              "\n",
              "    .dataframe tbody tr th {\n",
              "        vertical-align: top;\n",
              "    }\n",
              "\n",
              "    .dataframe thead th {\n",
              "        text-align: right;\n",
              "    }\n",
              "</style>\n",
              "<table border=\"1\" class=\"dataframe\">\n",
              "  <thead>\n",
              "    <tr style=\"text-align: right;\">\n",
              "      <th></th>\n",
              "      <th>active</th>\n",
              "    </tr>\n",
              "    <tr>\n",
              "      <th>ultimate_black_user</th>\n",
              "      <th></th>\n",
              "    </tr>\n",
              "  </thead>\n",
              "  <tbody>\n",
              "    <tr>\n",
              "      <th>False</th>\n",
              "      <td>31146</td>\n",
              "    </tr>\n",
              "    <tr>\n",
              "      <th>True</th>\n",
              "      <td>18853</td>\n",
              "    </tr>\n",
              "  </tbody>\n",
              "</table>\n",
              "</div>"
            ],
            "text/plain": [
              "                     active\n",
              "ultimate_black_user        \n",
              "False                 31146\n",
              "True                  18853"
            ]
          },
          "metadata": {
            "tags": []
          },
          "execution_count": 48
        },
        {
          "output_type": "display_data",
          "data": {
            "image/png": "[encoded data removed]",
            "text/plain": [
              "<Figure size 720x432 with 1 Axes>"
            ]
          },
          "metadata": {
            "tags": []
          }
        }
      ]
    },
    {
      "cell_type": "markdown",
      "metadata": {
        "id": "TFURmS7jJjxL",
        "colab_type": "text"
      },
      "source": [
        "Looking at the data above, both active and inactive users had equal ultimate black usage. However, when we consider the higher percentage of inactive users, it tells us that the active users in fact had a higher rate of ultimate black usage during the first 30 days. Therefore, we could use this variable for our prediction. "
      ]
    },
    {
      "cell_type": "code",
      "metadata": {
        "id": "kPqeqdf_G80Z",
        "colab_type": "code",
        "colab": {}
      },
      "source": [
        ""
      ],
      "execution_count": 0,
      "outputs": []
    },
    {
      "cell_type": "markdown",
      "metadata": {
        "colab_type": "text",
        "id": "_Ht0nx4RHjnV"
      },
      "source": [
        "### 6.3.3 active vs weekday_pct"
      ]
    },
    {
      "cell_type": "code",
      "metadata": {
        "colab_type": "code",
        "outputId": "fea3a2ea-45ae-4fb3-a847-4abbe90954e2",
        "id": "yKQngoKbHjnZ",
        "colab": {
          "base_uri": "https://localhost:8080/",
          "height": 509
        }
      },
      "source": [
        "plt.figure(figsize=(10,6))\n",
        "sns.stripplot(x='active',y='weekday_pct',data=df_dates,alpha=0.6)\n",
        "\n",
        "df_dates[['weekday_pct','active']].groupby('active').mean()"
      ],
      "execution_count": 49,
      "outputs": [
        {
          "output_type": "execute_result",
          "data": {
            "text/html": [
              "<div>\n",
              "<style scoped>\n",
              "    .dataframe tbody tr th:only-of-type {\n",
              "        vertical-align: middle;\n",
              "    }\n",
              "\n",
              "    .dataframe tbody tr th {\n",
              "        vertical-align: top;\n",
              "    }\n",
              "\n",
              "    .dataframe thead th {\n",
              "        text-align: right;\n",
              "    }\n",
              "</style>\n",
              "<table border=\"1\" class=\"dataframe\">\n",
              "  <thead>\n",
              "    <tr style=\"text-align: right;\">\n",
              "      <th></th>\n",
              "      <th>weekday_pct</th>\n",
              "    </tr>\n",
              "    <tr>\n",
              "      <th>active</th>\n",
              "      <th></th>\n",
              "    </tr>\n",
              "  </thead>\n",
              "  <tbody>\n",
              "    <tr>\n",
              "      <th>0</th>\n",
              "      <td>60.181597</td>\n",
              "    </tr>\n",
              "    <tr>\n",
              "      <th>1</th>\n",
              "      <td>62.214070</td>\n",
              "    </tr>\n",
              "  </tbody>\n",
              "</table>\n",
              "</div>"
            ],
            "text/plain": [
              "        weekday_pct\n",
              "active             \n",
              "0         60.181597\n",
              "1         62.214070"
            ]
          },
          "metadata": {
            "tags": []
          },
          "execution_count": 49
        },
        {
          "output_type": "display_data",
          "data": {
            "image/png": "[encoded data removed]",
            "text/plain": [
              "<Figure size 720x432 with 1 Axes>"
            ]
          },
          "metadata": {
            "tags": []
          }
        }
      ]
    },
    {
      "cell_type": "markdown",
      "metadata": {
        "id": "tj1kigi4HtKx",
        "colab_type": "text"
      },
      "source": [
        "The weekday usage is essentially the same for both active and inactive users. Therefore, this variable may not be the suitable for predecting retention."
      ]
    },
    {
      "cell_type": "markdown",
      "metadata": {
        "colab_type": "text",
        "id": "DR7JgZySH3b4"
      },
      "source": [
        "### 6.3.4 active vs avg_surge"
      ]
    },
    {
      "cell_type": "markdown",
      "metadata": {
        "id": "7kZW_a6gIAYZ",
        "colab_type": "text"
      },
      "source": [
        "Theoretically, the average surge multiplier should be higher for active users since they have had the service for a longer time. Unless, the active user was inactive for several months before just using it in June. "
      ]
    },
    {
      "cell_type": "code",
      "metadata": {
        "colab_type": "code",
        "outputId": "d0874eac-aea1-4cca-e5ea-354064034e05",
        "id": "Bs4BfzmSH3b6",
        "colab": {
          "base_uri": "https://localhost:8080/",
          "height": 509
        }
      },
      "source": [
        "plt.figure(figsize=(10,6))\n",
        "sns.stripplot(x='active',y='avg_surge',data=df_dates,alpha=0.6)\n",
        "\n",
        "df_dates[['avg_surge','active']].groupby('active').mean()"
      ],
      "execution_count": 50,
      "outputs": [
        {
          "output_type": "execute_result",
          "data": {
            "text/html": [
              "<div>\n",
              "<style scoped>\n",
              "    .dataframe tbody tr th:only-of-type {\n",
              "        vertical-align: middle;\n",
              "    }\n",
              "\n",
              "    .dataframe tbody tr th {\n",
              "        vertical-align: top;\n",
              "    }\n",
              "\n",
              "    .dataframe thead th {\n",
              "        text-align: right;\n",
              "    }\n",
              "</style>\n",
              "<table border=\"1\" class=\"dataframe\">\n",
              "  <thead>\n",
              "    <tr style=\"text-align: right;\">\n",
              "      <th></th>\n",
              "      <th>avg_surge</th>\n",
              "    </tr>\n",
              "    <tr>\n",
              "      <th>active</th>\n",
              "      <th></th>\n",
              "    </tr>\n",
              "  </thead>\n",
              "  <tbody>\n",
              "    <tr>\n",
              "      <th>0</th>\n",
              "      <td>1.075367</td>\n",
              "    </tr>\n",
              "    <tr>\n",
              "      <th>1</th>\n",
              "      <td>1.073718</td>\n",
              "    </tr>\n",
              "  </tbody>\n",
              "</table>\n",
              "</div>"
            ],
            "text/plain": [
              "        avg_surge\n",
              "active           \n",
              "0        1.075367\n",
              "1        1.073718"
            ]
          },
          "metadata": {
            "tags": []
          },
          "execution_count": 50
        },
        {
          "output_type": "display_data",
          "data": {
            "image/png": "[encoded data removed]",
            "text/plain": [
              "<Figure size 720x432 with 1 Axes>"
            ]
          },
          "metadata": {
            "tags": []
          }
        }
      ]
    },
    {
      "cell_type": "markdown",
      "metadata": {
        "colab_type": "text",
        "id": "YST2cqOsK8uF"
      },
      "source": [
        "### 6.3.5 active vs surge_pct"
      ]
    },
    {
      "cell_type": "markdown",
      "metadata": {
        "colab_type": "text",
        "id": "FbnwtzcJK8uK"
      },
      "source": [
        "Theoretically, the average surge multiplier should be higher for active users since they have had the service for a longer time. Unless, the active user was inactive for several months before just using it in June. "
      ]
    },
    {
      "cell_type": "code",
      "metadata": {
        "colab_type": "code",
        "outputId": "28d40325-0995-479d-9f62-1d4e5aaebfb3",
        "id": "I6HyzO5pK8uL",
        "colab": {
          "base_uri": "https://localhost:8080/",
          "height": 509
        }
      },
      "source": [
        "plt.figure(figsize=(10,6))\n",
        "sns.boxplot(x='active',y='surge_pct',data=df_dates)\n",
        "\n",
        "df_dates[['surge_pct','active']].groupby('active').mean()"
      ],
      "execution_count": 51,
      "outputs": [
        {
          "output_type": "execute_result",
          "data": {
            "text/html": [
              "<div>\n",
              "<style scoped>\n",
              "    .dataframe tbody tr th:only-of-type {\n",
              "        vertical-align: middle;\n",
              "    }\n",
              "\n",
              "    .dataframe tbody tr th {\n",
              "        vertical-align: top;\n",
              "    }\n",
              "\n",
              "    .dataframe thead th {\n",
              "        text-align: right;\n",
              "    }\n",
              "</style>\n",
              "<table border=\"1\" class=\"dataframe\">\n",
              "  <thead>\n",
              "    <tr style=\"text-align: right;\">\n",
              "      <th></th>\n",
              "      <th>surge_pct</th>\n",
              "    </tr>\n",
              "    <tr>\n",
              "      <th>active</th>\n",
              "      <th></th>\n",
              "    </tr>\n",
              "  </thead>\n",
              "  <tbody>\n",
              "    <tr>\n",
              "      <th>0</th>\n",
              "      <td>8.688548</td>\n",
              "    </tr>\n",
              "    <tr>\n",
              "      <th>1</th>\n",
              "      <td>9.127877</td>\n",
              "    </tr>\n",
              "  </tbody>\n",
              "</table>\n",
              "</div>"
            ],
            "text/plain": [
              "        surge_pct\n",
              "active           \n",
              "0        8.688548\n",
              "1        9.127877"
            ]
          },
          "metadata": {
            "tags": []
          },
          "execution_count": 51
        },
        {
          "output_type": "display_data",
          "data": {
            "image/png": "[encoded data removed]",
            "text/plain": [
              "<Figure size 720x432 with 1 Axes>"
            ]
          },
          "metadata": {
            "tags": []
          }
        }
      ]
    },
    {
      "cell_type": "markdown",
      "metadata": {
        "colab_type": "text",
        "id": "UzbkfK1nLfGO"
      },
      "source": [
        "### 6.3.6 active vs avg_rating_of_driver"
      ]
    },
    {
      "cell_type": "markdown",
      "metadata": {
        "colab_type": "text",
        "id": "s7q3kYbkLfGS"
      },
      "source": [
        "Theoretically, the average surge multiplier should be higher for active users since they have had the service for a longer time. Unless, the active user was inactive for several months before just using it in June. "
      ]
    },
    {
      "cell_type": "code",
      "metadata": {
        "colab_type": "code",
        "outputId": "54482429-f426-4e7c-8d36-be89af7bea0e",
        "id": "wgjDBoVeLfGT",
        "colab": {
          "base_uri": "https://localhost:8080/",
          "height": 509
        }
      },
      "source": [
        "plt.figure(figsize=(10,6))\n",
        "sns.boxplot(x='active',y='avg_rating_of_driver',data=df_dates)\n",
        "\n",
        "df_dates[['avg_rating_of_driver','active']].groupby('active').mean()"
      ],
      "execution_count": 52,
      "outputs": [
        {
          "output_type": "execute_result",
          "data": {
            "text/html": [
              "<div>\n",
              "<style scoped>\n",
              "    .dataframe tbody tr th:only-of-type {\n",
              "        vertical-align: middle;\n",
              "    }\n",
              "\n",
              "    .dataframe tbody tr th {\n",
              "        vertical-align: top;\n",
              "    }\n",
              "\n",
              "    .dataframe thead th {\n",
              "        text-align: right;\n",
              "    }\n",
              "</style>\n",
              "<table border=\"1\" class=\"dataframe\">\n",
              "  <thead>\n",
              "    <tr style=\"text-align: right;\">\n",
              "      <th></th>\n",
              "      <th>avg_rating_of_driver</th>\n",
              "    </tr>\n",
              "    <tr>\n",
              "      <th>active</th>\n",
              "      <th></th>\n",
              "    </tr>\n",
              "  </thead>\n",
              "  <tbody>\n",
              "    <tr>\n",
              "      <th>0</th>\n",
              "      <td>4.607018</td>\n",
              "    </tr>\n",
              "    <tr>\n",
              "      <th>1</th>\n",
              "      <td>4.593340</td>\n",
              "    </tr>\n",
              "  </tbody>\n",
              "</table>\n",
              "</div>"
            ],
            "text/plain": [
              "        avg_rating_of_driver\n",
              "active                      \n",
              "0                   4.607018\n",
              "1                   4.593340"
            ]
          },
          "metadata": {
            "tags": []
          },
          "execution_count": 52
        },
        {
          "output_type": "display_data",
          "data": {
            "image/png": "[encoded data removed]",
            "text/plain": [
              "<Figure size 720x432 with 1 Axes>"
            ]
          },
          "metadata": {
            "tags": []
          }
        }
      ]
    },
    {
      "cell_type": "markdown",
      "metadata": {
        "colab_type": "text",
        "id": "I1A1KMmYL0NF"
      },
      "source": [
        "### 6.3.7 active vs avg_rating_by_driver"
      ]
    },
    {
      "cell_type": "markdown",
      "metadata": {
        "colab_type": "text",
        "id": "JQp3nXs3L0NK"
      },
      "source": [
        "Theoretically, the average surge multiplier should be higher for active users since they have had the service for a longer time. Unless, the active user was inactive for several months before just using it in June. "
      ]
    },
    {
      "cell_type": "code",
      "metadata": {
        "colab_type": "code",
        "outputId": "6eb6e8c1-2dc0-46d5-81f0-8007c1e4893b",
        "id": "CoFb8erYL0NL",
        "colab": {
          "base_uri": "https://localhost:8080/",
          "height": 509
        }
      },
      "source": [
        "plt.figure(figsize=(10,6))\n",
        "sns.boxplot(x='active',y='avg_rating_by_driver',data=df_dates)\n",
        "\n",
        "df_dates[['avg_rating_by_driver','active']].groupby('active').mean()"
      ],
      "execution_count": 53,
      "outputs": [
        {
          "output_type": "execute_result",
          "data": {
            "text/html": [
              "<div>\n",
              "<style scoped>\n",
              "    .dataframe tbody tr th:only-of-type {\n",
              "        vertical-align: middle;\n",
              "    }\n",
              "\n",
              "    .dataframe tbody tr th {\n",
              "        vertical-align: top;\n",
              "    }\n",
              "\n",
              "    .dataframe thead th {\n",
              "        text-align: right;\n",
              "    }\n",
              "</style>\n",
              "<table border=\"1\" class=\"dataframe\">\n",
              "  <thead>\n",
              "    <tr style=\"text-align: right;\">\n",
              "      <th></th>\n",
              "      <th>avg_rating_by_driver</th>\n",
              "    </tr>\n",
              "    <tr>\n",
              "      <th>active</th>\n",
              "      <th></th>\n",
              "    </tr>\n",
              "  </thead>\n",
              "  <tbody>\n",
              "    <tr>\n",
              "      <th>0</th>\n",
              "      <td>4.786876</td>\n",
              "    </tr>\n",
              "    <tr>\n",
              "      <th>1</th>\n",
              "      <td>4.763119</td>\n",
              "    </tr>\n",
              "  </tbody>\n",
              "</table>\n",
              "</div>"
            ],
            "text/plain": [
              "        avg_rating_by_driver\n",
              "active                      \n",
              "0                   4.786876\n",
              "1                   4.763119"
            ]
          },
          "metadata": {
            "tags": []
          },
          "execution_count": 53
        },
        {
          "output_type": "display_data",
          "data": {
            "image/png": "[encoded data removed]",
            "text/plain": [
              "<Figure size 720x432 with 1 Axes>"
            ]
          },
          "metadata": {
            "tags": []
          }
        }
      ]
    },
    {
      "cell_type": "markdown",
      "metadata": {
        "colab_type": "text",
        "id": "NMkVGLBvMB42"
      },
      "source": [
        "### 6.3.8 active vs avg_distance"
      ]
    },
    {
      "cell_type": "markdown",
      "metadata": {
        "colab_type": "text",
        "id": "MyCM57kPMB47"
      },
      "source": [
        "Theoretically, the average surge multiplier should be higher for active users since they have had the service for a longer time. Unless, the active user was inactive for several months before just using it in June. "
      ]
    },
    {
      "cell_type": "code",
      "metadata": {
        "colab_type": "code",
        "outputId": "19728610-e811-424e-ad2c-a8fc05c961a3",
        "id": "LzANySekMB49",
        "colab": {
          "base_uri": "https://localhost:8080/",
          "height": 509
        }
      },
      "source": [
        "plt.figure(figsize=(10,6))\n",
        "sns.boxplot(x='active',y='avg_dist',data=df_dates)\n",
        "\n",
        "df_dates[['avg_dist','active']].groupby('active').mean()"
      ],
      "execution_count": 54,
      "outputs": [
        {
          "output_type": "execute_result",
          "data": {
            "text/html": [
              "<div>\n",
              "<style scoped>\n",
              "    .dataframe tbody tr th:only-of-type {\n",
              "        vertical-align: middle;\n",
              "    }\n",
              "\n",
              "    .dataframe tbody tr th {\n",
              "        vertical-align: top;\n",
              "    }\n",
              "\n",
              "    .dataframe thead th {\n",
              "        text-align: right;\n",
              "    }\n",
              "</style>\n",
              "<table border=\"1\" class=\"dataframe\">\n",
              "  <thead>\n",
              "    <tr style=\"text-align: right;\">\n",
              "      <th></th>\n",
              "      <th>avg_dist</th>\n",
              "    </tr>\n",
              "    <tr>\n",
              "      <th>active</th>\n",
              "      <th></th>\n",
              "    </tr>\n",
              "  </thead>\n",
              "  <tbody>\n",
              "    <tr>\n",
              "      <th>0</th>\n",
              "      <td>6.188478</td>\n",
              "    </tr>\n",
              "    <tr>\n",
              "      <th>1</th>\n",
              "      <td>5.119146</td>\n",
              "    </tr>\n",
              "  </tbody>\n",
              "</table>\n",
              "</div>"
            ],
            "text/plain": [
              "        avg_dist\n",
              "active          \n",
              "0       6.188478\n",
              "1       5.119146"
            ]
          },
          "metadata": {
            "tags": []
          },
          "execution_count": 54
        },
        {
          "output_type": "display_data",
          "data": {
            "image/png": "[encoded data removed]",
            "text/plain": [
              "<Figure size 720x432 with 1 Axes>"
            ]
          },
          "metadata": {
            "tags": []
          }
        }
      ]
    },
    {
      "cell_type": "markdown",
      "metadata": {
        "colab_type": "text",
        "id": "GYu5g_eQH3b-"
      },
      "source": [
        "The average distance is clearly higher for inactive users. Let's get rid of the outliers and plot again. "
      ]
    },
    {
      "cell_type": "code",
      "metadata": {
        "colab_type": "code",
        "id": "Gi6IxiMFHjnd",
        "outputId": "fdf3b64d-6c23-47d7-cd96-212a2185e69b",
        "colab": {
          "base_uri": "https://localhost:8080/",
          "height": 509
        }
      },
      "source": [
        "df_dates = df_dates[df_dates['avg_dist']<100]\n",
        "\n",
        "plt.figure(figsize=(10,6))\n",
        "sns.boxplot(x='active',y='avg_dist',data=df_dates)\n",
        "\n",
        "df_dates[['avg_dist','active']].groupby('active').mean()"
      ],
      "execution_count": 55,
      "outputs": [
        {
          "output_type": "execute_result",
          "data": {
            "text/html": [
              "<div>\n",
              "<style scoped>\n",
              "    .dataframe tbody tr th:only-of-type {\n",
              "        vertical-align: middle;\n",
              "    }\n",
              "\n",
              "    .dataframe tbody tr th {\n",
              "        vertical-align: top;\n",
              "    }\n",
              "\n",
              "    .dataframe thead th {\n",
              "        text-align: right;\n",
              "    }\n",
              "</style>\n",
              "<table border=\"1\" class=\"dataframe\">\n",
              "  <thead>\n",
              "    <tr style=\"text-align: right;\">\n",
              "      <th></th>\n",
              "      <th>avg_dist</th>\n",
              "    </tr>\n",
              "    <tr>\n",
              "      <th>active</th>\n",
              "      <th></th>\n",
              "    </tr>\n",
              "  </thead>\n",
              "  <tbody>\n",
              "    <tr>\n",
              "      <th>0</th>\n",
              "      <td>6.184574</td>\n",
              "    </tr>\n",
              "    <tr>\n",
              "      <th>1</th>\n",
              "      <td>5.110634</td>\n",
              "    </tr>\n",
              "  </tbody>\n",
              "</table>\n",
              "</div>"
            ],
            "text/plain": [
              "        avg_dist\n",
              "active          \n",
              "0       6.184574\n",
              "1       5.110634"
            ]
          },
          "metadata": {
            "tags": []
          },
          "execution_count": 55
        },
        {
          "output_type": "display_data",
          "data": {
            "image/png": "[encoded data removed]",
            "text/plain": [
              "<Figure size 720x432 with 1 Axes>"
            ]
          },
          "metadata": {
            "tags": []
          }
        }
      ]
    },
    {
      "cell_type": "markdown",
      "metadata": {
        "colab_type": "text",
        "id": "riRkscg2NCIM"
      },
      "source": [
        "### 6.3.9 active vs ultimate_black_user"
      ]
    },
    {
      "cell_type": "code",
      "metadata": {
        "colab_type": "code",
        "outputId": "eb6c97fa-f12a-4afa-8e1a-a893c5e7bcb7",
        "id": "h3m7aPcINCIP",
        "colab": {
          "base_uri": "https://localhost:8080/",
          "height": 67
        }
      },
      "source": [
        "df_dates['phone'].value_counts()"
      ],
      "execution_count": 56,
      "outputs": [
        {
          "output_type": "execute_result",
          "data": {
            "text/plain": [
              "iPhone     34581\n",
              "Android    15021\n",
              "Name: phone, dtype: int64"
            ]
          },
          "metadata": {
            "tags": []
          },
          "execution_count": 56
        }
      ]
    },
    {
      "cell_type": "markdown",
      "metadata": {
        "colab_type": "text",
        "id": "UZg_nlPNNCIV"
      },
      "source": [
        "Overall, far more people did not use the ultimate black service during the first 30 days. "
      ]
    },
    {
      "cell_type": "code",
      "metadata": {
        "colab_type": "code",
        "outputId": "6898ae88-957a-4a5a-cb93-33ca288acaa4",
        "id": "FFi91Br9NCIX",
        "colab": {
          "base_uri": "https://localhost:8080/",
          "height": 509
        }
      },
      "source": [
        "plt.figure(figsize=(10,6))\n",
        "sns.countplot(x='phone',hue='active',data=df_dates,alpha=0.8)\n",
        "\n",
        "df_dates[['phone','active']].groupby('phone').count()"
      ],
      "execution_count": 57,
      "outputs": [
        {
          "output_type": "execute_result",
          "data": {
            "text/html": [
              "<div>\n",
              "<style scoped>\n",
              "    .dataframe tbody tr th:only-of-type {\n",
              "        vertical-align: middle;\n",
              "    }\n",
              "\n",
              "    .dataframe tbody tr th {\n",
              "        vertical-align: top;\n",
              "    }\n",
              "\n",
              "    .dataframe thead th {\n",
              "        text-align: right;\n",
              "    }\n",
              "</style>\n",
              "<table border=\"1\" class=\"dataframe\">\n",
              "  <thead>\n",
              "    <tr style=\"text-align: right;\">\n",
              "      <th></th>\n",
              "      <th>active</th>\n",
              "    </tr>\n",
              "    <tr>\n",
              "      <th>phone</th>\n",
              "      <th></th>\n",
              "    </tr>\n",
              "  </thead>\n",
              "  <tbody>\n",
              "    <tr>\n",
              "      <th>Android</th>\n",
              "      <td>15021</td>\n",
              "    </tr>\n",
              "    <tr>\n",
              "      <th>iPhone</th>\n",
              "      <td>34581</td>\n",
              "    </tr>\n",
              "  </tbody>\n",
              "</table>\n",
              "</div>"
            ],
            "text/plain": [
              "         active\n",
              "phone          \n",
              "Android   15021\n",
              "iPhone    34581"
            ]
          },
          "metadata": {
            "tags": []
          },
          "execution_count": 57
        },
        {
          "output_type": "display_data",
          "data": {
            "image/png": "[encoded data removed]",
            "text/plain": [
              "<Figure size 720x432 with 1 Axes>"
            ]
          },
          "metadata": {
            "tags": []
          }
        }
      ]
    },
    {
      "cell_type": "code",
      "metadata": {
        "id": "ph1cd9XpNuVs",
        "colab_type": "code",
        "outputId": "814cb0b0-f37a-43a5-a834-1a3109dfd251",
        "colab": {
          "base_uri": "https://localhost:8080/",
          "height": 137
        }
      },
      "source": [
        "df_active = df_dates[df_dates['active']==1]\n",
        "df_active_android = df_active[['phone','active']].groupby('phone').count()\n",
        "df_active_android['active'] = df_active_android['active'].apply(lambda x: (x/df_active_android['active'].sum())*100) \n",
        "df_active_android"
      ],
      "execution_count": 58,
      "outputs": [
        {
          "output_type": "execute_result",
          "data": {
            "text/html": [
              "<div>\n",
              "<style scoped>\n",
              "    .dataframe tbody tr th:only-of-type {\n",
              "        vertical-align: middle;\n",
              "    }\n",
              "\n",
              "    .dataframe tbody tr th {\n",
              "        vertical-align: top;\n",
              "    }\n",
              "\n",
              "    .dataframe thead th {\n",
              "        text-align: right;\n",
              "    }\n",
              "</style>\n",
              "<table border=\"1\" class=\"dataframe\">\n",
              "  <thead>\n",
              "    <tr style=\"text-align: right;\">\n",
              "      <th></th>\n",
              "      <th>active</th>\n",
              "    </tr>\n",
              "    <tr>\n",
              "      <th>phone</th>\n",
              "      <th></th>\n",
              "    </tr>\n",
              "  </thead>\n",
              "  <tbody>\n",
              "    <tr>\n",
              "      <th>Android</th>\n",
              "      <td>16.178898</td>\n",
              "    </tr>\n",
              "    <tr>\n",
              "      <th>iPhone</th>\n",
              "      <td>83.821102</td>\n",
              "    </tr>\n",
              "  </tbody>\n",
              "</table>\n",
              "</div>"
            ],
            "text/plain": [
              "            active\n",
              "phone             \n",
              "Android  16.178898\n",
              "iPhone   83.821102"
            ]
          },
          "metadata": {
            "tags": []
          },
          "execution_count": 58
        }
      ]
    },
    {
      "cell_type": "code",
      "metadata": {
        "id": "uRtVuxsOOZKG",
        "colab_type": "code",
        "outputId": "4cfb0720-4e14-4569-f592-327c5c932ab8",
        "colab": {
          "base_uri": "https://localhost:8080/",
          "height": 137
        }
      },
      "source": [
        "df_active = df_dates[df_dates['active']==0]\n",
        "df_active_android = df_active[['phone','active']].groupby('phone').count()\n",
        "df_active_android['active'] = df_active_android['active'].apply(lambda x: (x/df_active_android['active'].sum())*100) \n",
        "df_active_android.columns = ['inactive']\n",
        "df_active_android"
      ],
      "execution_count": 59,
      "outputs": [
        {
          "output_type": "execute_result",
          "data": {
            "text/html": [
              "<div>\n",
              "<style scoped>\n",
              "    .dataframe tbody tr th:only-of-type {\n",
              "        vertical-align: middle;\n",
              "    }\n",
              "\n",
              "    .dataframe tbody tr th {\n",
              "        vertical-align: top;\n",
              "    }\n",
              "\n",
              "    .dataframe thead th {\n",
              "        text-align: right;\n",
              "    }\n",
              "</style>\n",
              "<table border=\"1\" class=\"dataframe\">\n",
              "  <thead>\n",
              "    <tr style=\"text-align: right;\">\n",
              "      <th></th>\n",
              "      <th>inactive</th>\n",
              "    </tr>\n",
              "    <tr>\n",
              "      <th>phone</th>\n",
              "      <th></th>\n",
              "    </tr>\n",
              "  </thead>\n",
              "  <tbody>\n",
              "    <tr>\n",
              "      <th>Android</th>\n",
              "      <td>38.441955</td>\n",
              "    </tr>\n",
              "    <tr>\n",
              "      <th>iPhone</th>\n",
              "      <td>61.558045</td>\n",
              "    </tr>\n",
              "  </tbody>\n",
              "</table>\n",
              "</div>"
            ],
            "text/plain": [
              "          inactive\n",
              "phone             \n",
              "Android  38.441955\n",
              "iPhone   61.558045"
            ]
          },
          "metadata": {
            "tags": []
          },
          "execution_count": 59
        }
      ]
    },
    {
      "cell_type": "markdown",
      "metadata": {
        "id": "H_0E6NUqNTdt",
        "colab_type": "text"
      },
      "source": [
        "There are more than double the amount of iphone users in general. However, the percentage of android users that are active appear to be significantly less than that of iphone users as seen from the tables above. "
      ]
    },
    {
      "cell_type": "code",
      "metadata": {
        "id": "z42Xqt8aNOil",
        "colab_type": "code",
        "colab": {}
      },
      "source": [
        ""
      ],
      "execution_count": 0,
      "outputs": []
    },
    {
      "cell_type": "markdown",
      "metadata": {
        "colab_type": "text",
        "id": "0JqJBUytOwjl"
      },
      "source": [
        "### 6.3.10 active vs city"
      ]
    },
    {
      "cell_type": "code",
      "metadata": {
        "colab_type": "code",
        "outputId": "80692463-5831-4d76-ee38-775c74185ea2",
        "id": "CQOOUMCXOwjr",
        "colab": {
          "base_uri": "https://localhost:8080/",
          "height": 83
        }
      },
      "source": [
        "df_dates['city'].value_counts()"
      ],
      "execution_count": 60,
      "outputs": [
        {
          "output_type": "execute_result",
          "data": {
            "text/plain": [
              "Winterfell        23336\n",
              "Astapor           16533\n",
              "King's Landing    10128\n",
              "Name: city, dtype: int64"
            ]
          },
          "metadata": {
            "tags": []
          },
          "execution_count": 60
        }
      ]
    },
    {
      "cell_type": "markdown",
      "metadata": {
        "colab_type": "text",
        "id": "CK0BDUUqOwjz"
      },
      "source": [
        "Overall, far more people did not use the ultimate black service during the first 30 days. "
      ]
    },
    {
      "cell_type": "code",
      "metadata": {
        "colab_type": "code",
        "outputId": "4fe25ba0-9ec7-423e-8abf-81eeae67692a",
        "id": "a6I-ScSEOwj0",
        "colab": {
          "base_uri": "https://localhost:8080/",
          "height": 407
        }
      },
      "source": [
        "plt.figure(figsize=(10,6))\n",
        "sns.countplot(x='city',hue='active',data=df_dates,alpha=0.8)"
      ],
      "execution_count": 61,
      "outputs": [
        {
          "output_type": "execute_result",
          "data": {
            "text/plain": [
              "<matplotlib.axes._subplots.AxesSubplot at 0x7f5f2f315d30>"
            ]
          },
          "metadata": {
            "tags": []
          },
          "execution_count": 61
        },
        {
          "output_type": "display_data",
          "data": {
            "image/png": "[encoded data removed]",
            "text/plain": [
              "<Figure size 720x432 with 1 Axes>"
            ]
          },
          "metadata": {
            "tags": []
          }
        }
      ]
    },
    {
      "cell_type": "markdown",
      "metadata": {
        "id": "_Yk_LmzDPAE6",
        "colab_type": "text"
      },
      "source": [
        "Interestingly, King's Landing has lowest inactive users but the number of active users is still higher. \n",
        "\n",
        "In contrast, Astapor has a much higher percentage of inactive users. The case is the same for Winterfell. \n",
        "\n",
        "A more accurate representation of this data would be to normalize these values by the population of each city. However, that data is not available currently. For example, Winterfell has the most active and inactive users but that's possibly due to the higher population. "
      ]
    },
    {
      "cell_type": "code",
      "metadata": {
        "colab_type": "code",
        "outputId": "60534110-ad0a-49f2-84e5-3bfe22399662",
        "id": "knc3fAOlOwj3",
        "colab": {
          "base_uri": "https://localhost:8080/",
          "height": 167
        }
      },
      "source": [
        "df_active = df_dates[df_dates['active']==1]\n",
        "df_active_android = df_active[['city','active']].groupby('city').count()\n",
        "df_active_android['active'] = df_active_android['active'].apply(lambda x: (x/df_active_android['active'].sum())*100) \n",
        "df_active_android"
      ],
      "execution_count": 62,
      "outputs": [
        {
          "output_type": "execute_result",
          "data": {
            "text/html": [
              "<div>\n",
              "<style scoped>\n",
              "    .dataframe tbody tr th:only-of-type {\n",
              "        vertical-align: middle;\n",
              "    }\n",
              "\n",
              "    .dataframe tbody tr th {\n",
              "        vertical-align: top;\n",
              "    }\n",
              "\n",
              "    .dataframe thead th {\n",
              "        text-align: right;\n",
              "    }\n",
              "</style>\n",
              "<table border=\"1\" class=\"dataframe\">\n",
              "  <thead>\n",
              "    <tr style=\"text-align: right;\">\n",
              "      <th></th>\n",
              "      <th>active</th>\n",
              "    </tr>\n",
              "    <tr>\n",
              "      <th>city</th>\n",
              "      <th></th>\n",
              "    </tr>\n",
              "  </thead>\n",
              "  <tbody>\n",
              "    <tr>\n",
              "      <th>Astapor</th>\n",
              "      <td>21.963076</td>\n",
              "    </tr>\n",
              "    <tr>\n",
              "      <th>King's Landing</th>\n",
              "      <td>34.443959</td>\n",
              "    </tr>\n",
              "    <tr>\n",
              "      <th>Winterfell</th>\n",
              "      <td>43.592965</td>\n",
              "    </tr>\n",
              "  </tbody>\n",
              "</table>\n",
              "</div>"
            ],
            "text/plain": [
              "                   active\n",
              "city                     \n",
              "Astapor         21.963076\n",
              "King's Landing  34.443959\n",
              "Winterfell      43.592965"
            ]
          },
          "metadata": {
            "tags": []
          },
          "execution_count": 62
        }
      ]
    },
    {
      "cell_type": "code",
      "metadata": {
        "colab_type": "code",
        "outputId": "583c93d8-f85a-4521-ed2c-6cda908e90a9",
        "id": "5N9_sD-4Owj6",
        "colab": {
          "base_uri": "https://localhost:8080/",
          "height": 167
        }
      },
      "source": [
        "df_active = df_dates[df_dates['active']==0]\n",
        "df_active_android = df_active[['city','active']].groupby('city').count()\n",
        "df_active_android['active'] = df_active_android['active'].apply(lambda x: (x/df_active_android['active'].sum())*100) \n",
        "df_active_android.columns = ['inactive']\n",
        "df_active_android"
      ],
      "execution_count": 63,
      "outputs": [
        {
          "output_type": "execute_result",
          "data": {
            "text/html": [
              "<div>\n",
              "<style scoped>\n",
              "    .dataframe tbody tr th:only-of-type {\n",
              "        vertical-align: middle;\n",
              "    }\n",
              "\n",
              "    .dataframe tbody tr th {\n",
              "        vertical-align: top;\n",
              "    }\n",
              "\n",
              "    .dataframe thead th {\n",
              "        text-align: right;\n",
              "    }\n",
              "</style>\n",
              "<table border=\"1\" class=\"dataframe\">\n",
              "  <thead>\n",
              "    <tr style=\"text-align: right;\">\n",
              "      <th></th>\n",
              "      <th>inactive</th>\n",
              "    </tr>\n",
              "    <tr>\n",
              "      <th>city</th>\n",
              "      <th></th>\n",
              "    </tr>\n",
              "  </thead>\n",
              "  <tbody>\n",
              "    <tr>\n",
              "      <th>Astapor</th>\n",
              "      <td>39.483733</td>\n",
              "    </tr>\n",
              "    <tr>\n",
              "      <th>King's Landing</th>\n",
              "      <td>12.060968</td>\n",
              "    </tr>\n",
              "    <tr>\n",
              "      <th>Winterfell</th>\n",
              "      <td>48.455300</td>\n",
              "    </tr>\n",
              "  </tbody>\n",
              "</table>\n",
              "</div>"
            ],
            "text/plain": [
              "                 inactive\n",
              "city                     \n",
              "Astapor         39.483733\n",
              "King's Landing  12.060968\n",
              "Winterfell      48.455300"
            ]
          },
          "metadata": {
            "tags": []
          },
          "execution_count": 63
        }
      ]
    },
    {
      "cell_type": "markdown",
      "metadata": {
        "colab_type": "text",
        "id": "GKqeBzXpOwj-"
      },
      "source": [
        "There are more than double the amount of iphone users in general. However, the percentage of android users that are active appear to be significantly less than that of iphone users as seen from the tables above. "
      ]
    },
    {
      "cell_type": "markdown",
      "metadata": {
        "id": "aGBSC0FKQEXc",
        "colab_type": "text"
      },
      "source": [
        "# 6.4 Important variables"
      ]
    },
    {
      "cell_type": "markdown",
      "metadata": {
        "id": "dq2xkU3uQhPq",
        "colab_type": "text"
      },
      "source": [
        "Variables to be used in the model:\n",
        "- city\n",
        "- phone\n",
        "- avg_dist\n",
        "- ultimate_black_user\n",
        "- trips_in_first_30_days"
      ]
    },
    {
      "cell_type": "markdown",
      "metadata": {
        "id": "DCreS4XRQko-",
        "colab_type": "text"
      },
      "source": [
        "# 6.5 Modeling - Logistic Regression"
      ]
    },
    {
      "cell_type": "markdown",
      "metadata": {
        "id": "k-AzHIGiRD4N",
        "colab_type": "text"
      },
      "source": [
        "### 6.5.1 Feature selection and engineering"
      ]
    },
    {
      "cell_type": "code",
      "metadata": {
        "id": "XmNtEqojRHGC",
        "colab_type": "code",
        "outputId": "932cb5f1-df53-4288-adc2-94aad4ab975f",
        "colab": {
          "base_uri": "https://localhost:8080/",
          "height": 197
        }
      },
      "source": [
        "df_model = df_dates[['city','phone','avg_dist','ultimate_black_user','trips_in_first_30_days','active']]\n",
        "df_model.head()"
      ],
      "execution_count": 88,
      "outputs": [
        {
          "output_type": "execute_result",
          "data": {
            "text/html": [
              "<div>\n",
              "<style scoped>\n",
              "    .dataframe tbody tr th:only-of-type {\n",
              "        vertical-align: middle;\n",
              "    }\n",
              "\n",
              "    .dataframe tbody tr th {\n",
              "        vertical-align: top;\n",
              "    }\n",
              "\n",
              "    .dataframe thead th {\n",
              "        text-align: right;\n",
              "    }\n",
              "</style>\n",
              "<table border=\"1\" class=\"dataframe\">\n",
              "  <thead>\n",
              "    <tr style=\"text-align: right;\">\n",
              "      <th></th>\n",
              "      <th>city</th>\n",
              "      <th>phone</th>\n",
              "      <th>avg_dist</th>\n",
              "      <th>ultimate_black_user</th>\n",
              "      <th>trips_in_first_30_days</th>\n",
              "      <th>active</th>\n",
              "    </tr>\n",
              "  </thead>\n",
              "  <tbody>\n",
              "    <tr>\n",
              "      <th>0</th>\n",
              "      <td>King's Landing</td>\n",
              "      <td>iPhone</td>\n",
              "      <td>3.67</td>\n",
              "      <td>True</td>\n",
              "      <td>4</td>\n",
              "      <td>1</td>\n",
              "    </tr>\n",
              "    <tr>\n",
              "      <th>1</th>\n",
              "      <td>Astapor</td>\n",
              "      <td>Android</td>\n",
              "      <td>8.26</td>\n",
              "      <td>False</td>\n",
              "      <td>0</td>\n",
              "      <td>0</td>\n",
              "    </tr>\n",
              "    <tr>\n",
              "      <th>2</th>\n",
              "      <td>Astapor</td>\n",
              "      <td>iPhone</td>\n",
              "      <td>0.77</td>\n",
              "      <td>False</td>\n",
              "      <td>3</td>\n",
              "      <td>0</td>\n",
              "    </tr>\n",
              "    <tr>\n",
              "      <th>3</th>\n",
              "      <td>King's Landing</td>\n",
              "      <td>iPhone</td>\n",
              "      <td>2.36</td>\n",
              "      <td>True</td>\n",
              "      <td>9</td>\n",
              "      <td>1</td>\n",
              "    </tr>\n",
              "    <tr>\n",
              "      <th>4</th>\n",
              "      <td>Winterfell</td>\n",
              "      <td>Android</td>\n",
              "      <td>3.13</td>\n",
              "      <td>False</td>\n",
              "      <td>14</td>\n",
              "      <td>0</td>\n",
              "    </tr>\n",
              "  </tbody>\n",
              "</table>\n",
              "</div>"
            ],
            "text/plain": [
              "             city    phone  ...  trips_in_first_30_days  active\n",
              "0  King's Landing   iPhone  ...                       4       1\n",
              "1         Astapor  Android  ...                       0       0\n",
              "2         Astapor   iPhone  ...                       3       0\n",
              "3  King's Landing   iPhone  ...                       9       1\n",
              "4      Winterfell  Android  ...                      14       0\n",
              "\n",
              "[5 rows x 6 columns]"
            ]
          },
          "metadata": {
            "tags": []
          },
          "execution_count": 88
        }
      ]
    },
    {
      "cell_type": "markdown",
      "metadata": {
        "id": "023yBukuqdD3",
        "colab_type": "text"
      },
      "source": [
        "We have selected the 5 variables we think could predict the user retention. "
      ]
    },
    {
      "cell_type": "code",
      "metadata": {
        "id": "XQTQH7uPReJL",
        "colab_type": "code",
        "outputId": "3ccc015e-eaf9-445f-c904-5edc9ad0f539",
        "colab": {
          "base_uri": "https://localhost:8080/",
          "height": 197
        }
      },
      "source": [
        "df_model['ultimate_black_user'] = df_model['ultimate_black_user'].map(int)\n",
        "df_model.head()"
      ],
      "execution_count": 89,
      "outputs": [
        {
          "output_type": "execute_result",
          "data": {
            "text/html": [
              "<div>\n",
              "<style scoped>\n",
              "    .dataframe tbody tr th:only-of-type {\n",
              "        vertical-align: middle;\n",
              "    }\n",
              "\n",
              "    .dataframe tbody tr th {\n",
              "        vertical-align: top;\n",
              "    }\n",
              "\n",
              "    .dataframe thead th {\n",
              "        text-align: right;\n",
              "    }\n",
              "</style>\n",
              "<table border=\"1\" class=\"dataframe\">\n",
              "  <thead>\n",
              "    <tr style=\"text-align: right;\">\n",
              "      <th></th>\n",
              "      <th>city</th>\n",
              "      <th>phone</th>\n",
              "      <th>avg_dist</th>\n",
              "      <th>ultimate_black_user</th>\n",
              "      <th>trips_in_first_30_days</th>\n",
              "      <th>active</th>\n",
              "    </tr>\n",
              "  </thead>\n",
              "  <tbody>\n",
              "    <tr>\n",
              "      <th>0</th>\n",
              "      <td>King's Landing</td>\n",
              "      <td>iPhone</td>\n",
              "      <td>3.67</td>\n",
              "      <td>1</td>\n",
              "      <td>4</td>\n",
              "      <td>1</td>\n",
              "    </tr>\n",
              "    <tr>\n",
              "      <th>1</th>\n",
              "      <td>Astapor</td>\n",
              "      <td>Android</td>\n",
              "      <td>8.26</td>\n",
              "      <td>0</td>\n",
              "      <td>0</td>\n",
              "      <td>0</td>\n",
              "    </tr>\n",
              "    <tr>\n",
              "      <th>2</th>\n",
              "      <td>Astapor</td>\n",
              "      <td>iPhone</td>\n",
              "      <td>0.77</td>\n",
              "      <td>0</td>\n",
              "      <td>3</td>\n",
              "      <td>0</td>\n",
              "    </tr>\n",
              "    <tr>\n",
              "      <th>3</th>\n",
              "      <td>King's Landing</td>\n",
              "      <td>iPhone</td>\n",
              "      <td>2.36</td>\n",
              "      <td>1</td>\n",
              "      <td>9</td>\n",
              "      <td>1</td>\n",
              "    </tr>\n",
              "    <tr>\n",
              "      <th>4</th>\n",
              "      <td>Winterfell</td>\n",
              "      <td>Android</td>\n",
              "      <td>3.13</td>\n",
              "      <td>0</td>\n",
              "      <td>14</td>\n",
              "      <td>0</td>\n",
              "    </tr>\n",
              "  </tbody>\n",
              "</table>\n",
              "</div>"
            ],
            "text/plain": [
              "             city    phone  ...  trips_in_first_30_days  active\n",
              "0  King's Landing   iPhone  ...                       4       1\n",
              "1         Astapor  Android  ...                       0       0\n",
              "2         Astapor   iPhone  ...                       3       0\n",
              "3  King's Landing   iPhone  ...                       9       1\n",
              "4      Winterfell  Android  ...                      14       0\n",
              "\n",
              "[5 rows x 6 columns]"
            ]
          },
          "metadata": {
            "tags": []
          },
          "execution_count": 89
        }
      ]
    },
    {
      "cell_type": "code",
      "metadata": {
        "id": "uyVGcg1uSn8l",
        "colab_type": "code",
        "outputId": "ededd2e1-069d-46f8-ad7c-c9493ce35cd1",
        "colab": {
          "base_uri": "https://localhost:8080/",
          "height": 200
        }
      },
      "source": [
        "df_model.info()"
      ],
      "execution_count": 91,
      "outputs": [
        {
          "output_type": "stream",
          "text": [
            "<class 'pandas.core.frame.DataFrame'>\n",
            "Int64Index: 49602 entries, 0 to 49999\n",
            "Data columns (total 6 columns):\n",
            "city                      49602 non-null object\n",
            "phone                     49602 non-null object\n",
            "avg_dist                  49602 non-null float64\n",
            "ultimate_black_user       49602 non-null int64\n",
            "trips_in_first_30_days    49602 non-null int64\n",
            "active                    49602 non-null int64\n",
            "dtypes: float64(1), int64(3), object(2)\n",
            "memory usage: 2.6+ MB\n"
          ],
          "name": "stdout"
        }
      ]
    },
    {
      "cell_type": "code",
      "metadata": {
        "id": "3j8vD5awRVjU",
        "colab_type": "code",
        "colab": {
          "base_uri": "https://localhost:8080/",
          "height": 200
        },
        "outputId": "f063d96c-7ab0-4b5b-8b4f-98f4e9a63293"
      },
      "source": [
        "df_model = df_model.dropna()\n",
        "df_model.info()"
      ],
      "execution_count": 90,
      "outputs": [
        {
          "output_type": "stream",
          "text": [
            "<class 'pandas.core.frame.DataFrame'>\n",
            "Int64Index: 49602 entries, 0 to 49999\n",
            "Data columns (total 6 columns):\n",
            "city                      49602 non-null object\n",
            "phone                     49602 non-null object\n",
            "avg_dist                  49602 non-null float64\n",
            "ultimate_black_user       49602 non-null int64\n",
            "trips_in_first_30_days    49602 non-null int64\n",
            "active                    49602 non-null int64\n",
            "dtypes: float64(1), int64(3), object(2)\n",
            "memory usage: 2.6+ MB\n"
          ],
          "name": "stdout"
        }
      ]
    },
    {
      "cell_type": "markdown",
      "metadata": {
        "id": "DKI-ZpnEqp5Z",
        "colab_type": "text"
      },
      "source": [
        "Above, we got rid of the missing values from the dataset. "
      ]
    },
    {
      "cell_type": "markdown",
      "metadata": {
        "id": "F4gEYQT4Qyo5",
        "colab_type": "text"
      },
      "source": [
        "### 6.5.2 Label encoding"
      ]
    },
    {
      "cell_type": "markdown",
      "metadata": {
        "id": "p1d0X0xuquUH",
        "colab_type": "text"
      },
      "source": [
        "Here we conduct label encoding to convert categorical variables to integers. "
      ]
    },
    {
      "cell_type": "code",
      "metadata": {
        "id": "P1sJkinHR_Fl",
        "colab_type": "code",
        "colab": {}
      },
      "source": [
        "df_model['city'] = LabelEncoder().fit_transform(df_model['city'])\n",
        "df_model['phone'] = LabelEncoder().fit_transform(df_model['phone'])"
      ],
      "execution_count": 0,
      "outputs": []
    },
    {
      "cell_type": "code",
      "metadata": {
        "id": "0rLnJ7J9PKMd",
        "colab_type": "code",
        "colab": {
          "base_uri": "https://localhost:8080/",
          "height": 197
        },
        "outputId": "e9cd2eca-aa31-4481-fd63-7c3e3d54e3a8"
      },
      "source": [
        "df_model.head()"
      ],
      "execution_count": 96,
      "outputs": [
        {
          "output_type": "execute_result",
          "data": {
            "text/html": [
              "<div>\n",
              "<style scoped>\n",
              "    .dataframe tbody tr th:only-of-type {\n",
              "        vertical-align: middle;\n",
              "    }\n",
              "\n",
              "    .dataframe tbody tr th {\n",
              "        vertical-align: top;\n",
              "    }\n",
              "\n",
              "    .dataframe thead th {\n",
              "        text-align: right;\n",
              "    }\n",
              "</style>\n",
              "<table border=\"1\" class=\"dataframe\">\n",
              "  <thead>\n",
              "    <tr style=\"text-align: right;\">\n",
              "      <th></th>\n",
              "      <th>city</th>\n",
              "      <th>phone</th>\n",
              "      <th>avg_dist</th>\n",
              "      <th>ultimate_black_user</th>\n",
              "      <th>trips_in_first_30_days</th>\n",
              "      <th>active</th>\n",
              "    </tr>\n",
              "  </thead>\n",
              "  <tbody>\n",
              "    <tr>\n",
              "      <th>0</th>\n",
              "      <td>1</td>\n",
              "      <td>1</td>\n",
              "      <td>3.67</td>\n",
              "      <td>1</td>\n",
              "      <td>4</td>\n",
              "      <td>1</td>\n",
              "    </tr>\n",
              "    <tr>\n",
              "      <th>1</th>\n",
              "      <td>0</td>\n",
              "      <td>0</td>\n",
              "      <td>8.26</td>\n",
              "      <td>0</td>\n",
              "      <td>0</td>\n",
              "      <td>0</td>\n",
              "    </tr>\n",
              "    <tr>\n",
              "      <th>2</th>\n",
              "      <td>0</td>\n",
              "      <td>1</td>\n",
              "      <td>0.77</td>\n",
              "      <td>0</td>\n",
              "      <td>3</td>\n",
              "      <td>0</td>\n",
              "    </tr>\n",
              "    <tr>\n",
              "      <th>3</th>\n",
              "      <td>1</td>\n",
              "      <td>1</td>\n",
              "      <td>2.36</td>\n",
              "      <td>1</td>\n",
              "      <td>9</td>\n",
              "      <td>1</td>\n",
              "    </tr>\n",
              "    <tr>\n",
              "      <th>4</th>\n",
              "      <td>2</td>\n",
              "      <td>0</td>\n",
              "      <td>3.13</td>\n",
              "      <td>0</td>\n",
              "      <td>14</td>\n",
              "      <td>0</td>\n",
              "    </tr>\n",
              "  </tbody>\n",
              "</table>\n",
              "</div>"
            ],
            "text/plain": [
              "   city  phone  avg_dist  ultimate_black_user  trips_in_first_30_days  active\n",
              "0     1      1      3.67                    1                       4       1\n",
              "1     0      0      8.26                    0                       0       0\n",
              "2     0      1      0.77                    0                       3       0\n",
              "3     1      1      2.36                    1                       9       1\n",
              "4     2      0      3.13                    0                      14       0"
            ]
          },
          "metadata": {
            "tags": []
          },
          "execution_count": 96
        }
      ]
    },
    {
      "cell_type": "markdown",
      "metadata": {
        "id": "JH7pXZozTPtV",
        "colab_type": "text"
      },
      "source": [
        "### 6.5.3 Train test split"
      ]
    },
    {
      "cell_type": "code",
      "metadata": {
        "id": "vTYmULFiUq3V",
        "colab_type": "code",
        "colab": {
          "base_uri": "https://localhost:8080/",
          "height": 50
        },
        "outputId": "cf1fd95e-ea2f-43ff-a4a7-10bc2a5b6b66"
      },
      "source": [
        "x = df_model.drop('active',axis=1)\n",
        "y = df_model['active']\n",
        "print (x.shape)\n",
        "print (y.shape)"
      ],
      "execution_count": 97,
      "outputs": [
        {
          "output_type": "stream",
          "text": [
            "(49602, 5)\n",
            "(49602,)\n"
          ],
          "name": "stdout"
        }
      ]
    },
    {
      "cell_type": "code",
      "metadata": {
        "id": "RZ29N3CRTUSw",
        "colab_type": "code",
        "colab": {
          "base_uri": "https://localhost:8080/",
          "height": 83
        },
        "outputId": "9a978bc8-515d-489f-a533-9044f7539f96"
      },
      "source": [
        "x_train, x_test, y_train, y_test = train_test_split(x,y,test_size=0.3,random_state=0)\n",
        "print (x_train.shape)\n",
        "print (x_test.shape)\n",
        "print (y_train.shape)\n",
        "print (y_test.shape)"
      ],
      "execution_count": 98,
      "outputs": [
        {
          "output_type": "stream",
          "text": [
            "(34721, 5)\n",
            "(14881, 5)\n",
            "(34721,)\n",
            "(14881,)\n"
          ],
          "name": "stdout"
        }
      ]
    },
    {
      "cell_type": "markdown",
      "metadata": {
        "id": "GaAHFddyQy6n",
        "colab_type": "text"
      },
      "source": [
        "### 6.5.4 Scaling"
      ]
    },
    {
      "cell_type": "code",
      "metadata": {
        "id": "bYAWPdD7RgkO",
        "colab_type": "code",
        "colab": {
          "base_uri": "https://localhost:8080/",
          "height": 53
        },
        "outputId": "f508f6a2-2de0-4395-b44d-dfa1a24d610b"
      },
      "source": [
        "scaler = MinMaxScaler(feature_range = (0,1))\n",
        "x_train_scaled = scaler.fit_transform(x_train)\n",
        "x_test_scaled = scaler.transform(x_test)"
      ],
      "execution_count": 99,
      "outputs": [
        {
          "output_type": "execute_result",
          "data": {
            "text/plain": [
              "\"\\ndf_model['city'] = MinMaxScaler().fit_transform(df_model['city'])\\ndf_model['phone'] = MinMaxScaler().fit_transform(df_model['phone'])\\ndf_model['avg_dist'] = MinMaxScaler().fit_transform(df_model['avg_dist'])\\ndf_model['ultimate_black_user'] = MinMaxScaler().fit_transform(df_model['ultimate_black_user'])\\ndf_model['trips_in_first_30_days'] = MinMaxScaler().fit_transform(df_model['trips_in_first_30_days'])\\n\\ndf_model.head()\\n\""
            ]
          },
          "metadata": {
            "tags": []
          },
          "execution_count": 99
        }
      ]
    },
    {
      "cell_type": "code",
      "metadata": {
        "id": "gc1Q27eOW2dS",
        "colab_type": "code",
        "colab": {
          "base_uri": "https://localhost:8080/",
          "height": 133
        },
        "outputId": "eb0b4a14-3413-4ec0-de88-99b2a1d04e0e"
      },
      "source": [
        "x_train_scaled"
      ],
      "execution_count": 102,
      "outputs": [
        {
          "output_type": "execute_result",
          "data": {
            "text/plain": [
              "array([[1.        , 0.        , 0.26590538, 0.        , 0.01369863],\n",
              "       [0.        , 0.        , 0.12736855, 0.        , 0.        ],\n",
              "       [1.        , 0.        , 0.22524784, 0.        , 0.01369863],\n",
              "       ...,\n",
              "       [0.        , 1.        , 0.01568578, 0.        , 0.01369863],\n",
              "       [0.        , 0.        , 0.07265654, 0.        , 0.01369863],\n",
              "       [0.        , 1.        , 0.05320617, 0.        , 0.05479452]])"
            ]
          },
          "metadata": {
            "tags": []
          },
          "execution_count": 102
        }
      ]
    },
    {
      "cell_type": "markdown",
      "metadata": {
        "id": "k2_mYoB5QzJY",
        "colab_type": "text"
      },
      "source": [
        "### 6.5.5 Baseline model, prediction and evaluation"
      ]
    },
    {
      "cell_type": "markdown",
      "metadata": {
        "id": "XA8bEOwErezk",
        "colab_type": "text"
      },
      "source": [
        "Below, we create our baseline logistic regression model and make our initial prediction. "
      ]
    },
    {
      "cell_type": "code",
      "metadata": {
        "id": "DKudEWEyYTy5",
        "colab_type": "code",
        "colab": {}
      },
      "source": [
        "lr = LogisticRegression(random_state=0)\n",
        "model = lr.fit(x_train_scaled,y_train)"
      ],
      "execution_count": 0,
      "outputs": []
    },
    {
      "cell_type": "code",
      "metadata": {
        "id": "sd3X-csoZgHC",
        "colab_type": "code",
        "colab": {}
      },
      "source": [
        "prediction = model.predict(x_test_scaled)"
      ],
      "execution_count": 0,
      "outputs": []
    },
    {
      "cell_type": "code",
      "metadata": {
        "id": "_8ni8RH9ruhL",
        "colab_type": "code",
        "colab": {
          "base_uri": "https://localhost:8080/",
          "height": 33
        },
        "outputId": "f7dc3cb3-9c06-4e6d-c679-04447897b003"
      },
      "source": [
        "acc = accuracy_score(y_test,prediction)\n",
        "print ('Accuracy: ',acc)"
      ],
      "execution_count": 137,
      "outputs": [
        {
          "output_type": "stream",
          "text": [
            "Accuracy:  0.7001545595054096\n"
          ],
          "name": "stdout"
        }
      ]
    },
    {
      "cell_type": "code",
      "metadata": {
        "id": "H6VntM6IanGw",
        "colab_type": "code",
        "colab": {
          "base_uri": "https://localhost:8080/",
          "height": 329
        },
        "outputId": "53966cbb-706c-4a68-c51c-bdb4a91618d9"
      },
      "source": [
        "lr_probs = model.predict_proba(x_test_scaled)\n",
        "# keep probabilities for the positive outcome only\n",
        "lr_probs_pos = lr_probs[:,1]\n",
        "lr_probs_neg = lr_probs[:,0]\n",
        "\n",
        "# calculate scores\n",
        "lr_auc = roc_auc_score(y_test, prediction)\n",
        "lr_auc_pos = roc_auc_score(y_test, lr_probs_pos)\n",
        "lr_auc_neg = roc_auc_score(y_test, lr_probs_neg)\n",
        "\n",
        "# summarize scores\n",
        "print('Combined ROC AUC=%.3f' % (lr_auc))\n",
        "print('Positive class ROC AUC=%.3f' % (lr_auc_pos))\n",
        "print('Negative class ROC AUC=%.3f' % (lr_auc_neg))\n",
        "\n",
        "lr_fpr, lr_tpr, thresh = roc_curve(y_test, prediction)\n",
        "lr_fpr_neg, lr_tpr_neg, thresh = roc_curve(y_test, lr_probs[:,0])\n",
        "lr_fpr_pos, lr_tpr_pos, thresh = roc_curve(y_test, lr_probs_pos)\n",
        "# plot the roc curve for the model\n",
        "plt.plot(lr_fpr, lr_tpr, marker='.', label='Combined')\n",
        "plt.plot(lr_fpr_neg, lr_tpr_neg, marker='.', label='Active')\n",
        "plt.plot(lr_fpr_pos, lr_tpr_pos, marker='.', label='Inactive')\n",
        "# axis labels\n",
        "plt.xlabel('False Positive Rate')\n",
        "plt.ylabel('True Positive Rate')\n",
        "# show the legend\n",
        "plt.legend()\n",
        "# show the plot\n",
        "plt.show()"
      ],
      "execution_count": 138,
      "outputs": [
        {
          "output_type": "stream",
          "text": [
            "Combined ROC AUC=0.637\n",
            "Positive class ROC AUC=0.715\n",
            "Negative class ROC AUC=0.285\n"
          ],
          "name": "stdout"
        },
        {
          "output_type": "display_data",
          "data": {
            "image/png": "[encoded data removed]",
            "text/plain": [
              "<Figure size 432x288 with 1 Axes>"
            ]
          },
          "metadata": {
            "tags": []
          }
        }
      ]
    },
    {
      "cell_type": "markdown",
      "metadata": {
        "id": "-NvbhbVUroo1",
        "colab_type": "text"
      },
      "source": [
        "A ROC AUC score of 0.715 is decent. With an accuracy score of 0.7, we can see that there is no class imbalance issue with the dataset. However, we may still be able to improve these scores further by optimizing the model. "
      ]
    },
    {
      "cell_type": "code",
      "metadata": {
        "id": "0x0r9nFFbTre",
        "colab_type": "code",
        "colab": {
          "base_uri": "https://localhost:8080/",
          "height": 233
        },
        "outputId": "2e0df87b-d926-44a8-f967-39caf4f6af8f"
      },
      "source": [
        "print (classification_report(y_test,prediction,target_names=['Inactive','Active']))\n",
        "tn, fp, fn, tp = confusion_matrix(y_test,prediction).ravel()\n",
        "print (\"True negatives: \",tn)\n",
        "print ('False positives: ',fp)\n",
        "print ('False negatives: ',fn)\n",
        "print ('True positives: ',tp)"
      ],
      "execution_count": 139,
      "outputs": [
        {
          "output_type": "stream",
          "text": [
            "              precision    recall  f1-score   support\n",
            "\n",
            "    Inactive       0.72      0.87      0.79      9481\n",
            "      Active       0.64      0.41      0.50      5400\n",
            "\n",
            "    accuracy                           0.70     14881\n",
            "   macro avg       0.68      0.64      0.64     14881\n",
            "weighted avg       0.69      0.70      0.68     14881\n",
            "\n",
            "True negatives:  8218\n",
            "False positives:  1263\n",
            "False negatives:  3199\n",
            "True positives:  2201\n"
          ],
          "name": "stdout"
        }
      ]
    },
    {
      "cell_type": "markdown",
      "metadata": {
        "id": "bE5egW1QsRZF",
        "colab_type": "text"
      },
      "source": [
        "We can see that there are a large number of true negative values. This means that the model predicts inactive users pretty well. However, it does not predict active users that well with a low true positive value. It predicts less than 50% of the active users correctly. "
      ]
    },
    {
      "cell_type": "markdown",
      "metadata": {
        "id": "H4pv97lHQzV9",
        "colab_type": "text"
      },
      "source": [
        "### 6.5.6 Model optimization - grid search and cross validation"
      ]
    },
    {
      "cell_type": "markdown",
      "metadata": {
        "id": "8S98mz0muIo5",
        "colab_type": "text"
      },
      "source": [
        "Here we optimize the model by sweeping hyperparameters of the logistic regression model and using a 5-fold cross validation. The optimization is going to be evalauted using the ROC AUC metric in order to determine the best combination of parameters. We pick ROC AUC as this is the best metric to evaluate binary classifiction models. "
      ]
    },
    {
      "cell_type": "code",
      "metadata": {
        "colab_type": "code",
        "id": "ZX4CkmT7OwkA",
        "colab": {
          "base_uri": "https://localhost:8080/",
          "height": 100
        },
        "outputId": "d90fb4aa-ac72-476d-a87f-453c609e9987"
      },
      "source": [
        "params = {'penalty' : ['l1', 'l2'],\n",
        "    'C' : np.logspace(-4, 4, 20),\n",
        "    'solver' : ['liblinear','newton-cg', 'lbfgs', 'sag', 'saga']}\n",
        "\n",
        "clf = GridSearchCV(lr, param_grid = params, cv = 5, verbose=True, n_jobs=-1,scoring='roc_auc')\n",
        "best_clf = clf.fit(x_train_scaled, y_train)"
      ],
      "execution_count": 140,
      "outputs": [
        {
          "output_type": "stream",
          "text": [
            "Fitting 5 folds for each of 200 candidates, totalling 1000 fits\n"
          ],
          "name": "stdout"
        },
        {
          "output_type": "stream",
          "text": [
            "[Parallel(n_jobs=-1)]: Using backend LokyBackend with 2 concurrent workers.\n",
            "[Parallel(n_jobs=-1)]: Done 122 tasks      | elapsed:    5.4s\n",
            "[Parallel(n_jobs=-1)]: Done 722 tasks      | elapsed:   35.0s\n",
            "[Parallel(n_jobs=-1)]: Done 1000 out of 1000 | elapsed:   50.4s finished\n"
          ],
          "name": "stderr"
        }
      ]
    },
    {
      "cell_type": "code",
      "metadata": {
        "id": "dJGIOCvBQdWG",
        "colab_type": "code",
        "colab": {
          "base_uri": "https://localhost:8080/",
          "height": 133
        },
        "outputId": "7dcbebb0-1ac1-49a3-f60c-8f1186ba1ddd"
      },
      "source": [
        "print (clf.best_estimator_)\n",
        "print (clf.best_score_)\n",
        "print (clf.best_params_)\n",
        "#clf.cv_results_"
      ],
      "execution_count": 141,
      "outputs": [
        {
          "output_type": "stream",
          "text": [
            "LogisticRegression(C=10000.0, class_weight=None, dual=False, fit_intercept=True,\n",
            "                   intercept_scaling=1, l1_ratio=None, max_iter=100,\n",
            "                   multi_class='auto', n_jobs=None, penalty='l2',\n",
            "                   random_state=0, solver='lbfgs', tol=0.0001, verbose=0,\n",
            "                   warm_start=False)\n",
            "0.722260340554348\n",
            "{'C': 10000.0, 'penalty': 'l2', 'solver': 'lbfgs'}\n"
          ],
          "name": "stdout"
        }
      ]
    },
    {
      "cell_type": "markdown",
      "metadata": {
        "id": "hZDXfDQeuiCy",
        "colab_type": "text"
      },
      "source": [
        "The best parameters following the grid search algorithm is shown above. "
      ]
    },
    {
      "cell_type": "code",
      "metadata": {
        "id": "CRv3eJ5Ge-uZ",
        "colab_type": "code",
        "colab": {
          "base_uri": "https://localhost:8080/",
          "height": 396
        },
        "outputId": "fd00ae82-8139-4f12-9273-aece1eec93ae"
      },
      "source": [
        "lr = LogisticRegression(C=10000,penalty='l2',solver='lbfgs',random_state=0)\n",
        "model = lr.fit(x_train_scaled,y_train)\n",
        "prediction = model.predict(x_test_scaled)\n",
        "\n",
        "acc = accuracy_score(y_test,prediction)\n",
        "print (acc)\n",
        "prc = precision_score(y_test,prediction,average='micro')\n",
        "print (prc)\n",
        "rec = recall_score(y_test,prediction,average='micro')\n",
        "print (rec)\n",
        "f1 = f1_score(y_test,prediction,average='micro')\n",
        "print (f1)\n",
        "\n",
        "lr_probs = model.predict_proba(x_test_scaled)\n",
        "# keep probabilities for the positive outcome only\n",
        "lr_probs_pos = lr_probs[:,1]\n",
        "lr_probs_neg = lr_probs[:,0]\n",
        "\n",
        "# calculate scores\n",
        "lr_auc = roc_auc_score(y_test, prediction)\n",
        "lr_auc_pos = roc_auc_score(y_test, lr_probs_pos)\n",
        "lr_auc_neg = roc_auc_score(y_test, lr_probs_neg)\n",
        "\n",
        "# summarize scores\n",
        "print('Combined ROC AUC=%.3f' % (lr_auc))\n",
        "print('Positive class ROC AUC=%.3f' % (lr_auc_pos))\n",
        "print('Negative class ROC AUC=%.3f' % (lr_auc_neg))\n",
        "\n",
        "lr_fpr, lr_tpr, thresh = roc_curve(y_test, prediction)\n",
        "lr_fpr_neg, lr_tpr_neg, thresh = roc_curve(y_test, lr_probs[:,0])\n",
        "lr_fpr_pos, lr_tpr_pos, thresh = roc_curve(y_test, lr_probs_pos)\n",
        "# plot the roc curve for the model\n",
        "plt.plot(lr_fpr, lr_tpr, marker='.', label='Combined')\n",
        "plt.plot(lr_fpr_neg, lr_tpr_neg, marker='.', label='Inactive')\n",
        "plt.plot(lr_fpr_pos, lr_tpr_pos, marker='.', label='Active')\n",
        "# axis labels\n",
        "plt.xlabel('False Positive Rate')\n",
        "plt.ylabel('True Positive Rate')\n",
        "# show the legend\n",
        "plt.legend()\n",
        "# show the plot\n",
        "plt.show()"
      ],
      "execution_count": 142,
      "outputs": [
        {
          "output_type": "stream",
          "text": [
            "0.6999529601505275\n",
            "0.6999529601505275\n",
            "0.6999529601505275\n",
            "0.6999529601505275\n",
            "Combined ROC AUC=0.637\n",
            "Positive class ROC AUC=0.715\n",
            "Negative class ROC AUC=0.285\n"
          ],
          "name": "stdout"
        },
        {
          "output_type": "display_data",
          "data": {
            "image/png": "[encoded data removed]",
            "text/plain": [
              "<Figure size 432x288 with 1 Axes>"
            ]
          },
          "metadata": {
            "tags": []
          }
        }
      ]
    },
    {
      "cell_type": "markdown",
      "metadata": {
        "id": "-ZrfdFKpuneB",
        "colab_type": "text"
      },
      "source": [
        "After we applied the newly derived hyperparameters to the logistic regression model, we see little improvement as the ROC AUC score is still 0.715. "
      ]
    },
    {
      "cell_type": "code",
      "metadata": {
        "id": "0LecMZtUgZAP",
        "colab_type": "code",
        "colab": {}
      },
      "source": [
        "confusion = {'tn':[],'fp':[],'fn':[],'tp':[]}\n",
        "auc = [] \n",
        "acc = []\n",
        "pre = []\n",
        "rec = [] \n",
        "threshold = []\n",
        "ticks = ['0','0.1','0.2','0.3','0.4','0.5','0.6','0.7','0.8','0.9','1']\n",
        "for i in np.arange(0,1,0.01):\n",
        "    threshold.append(i)\n",
        "    # predict probabilities\n",
        "    lr_probs = model.predict_proba(x_test_scaled)\n",
        "    predictions = (lr_probs[:,1]>i).astype(int)\n",
        "    tn, fp, fn, tp = confusion_matrix(y_test,predictions).ravel()\n",
        "    confusion['tn'].append(tn)\n",
        "    confusion['fp'].append(fp)\n",
        "    confusion['fn'].append(fn)\n",
        "    confusion['tp'].append(tp)\n",
        "    acc.append(accuracy_score(y_test,predictions))\n",
        "    auc.append(roc_auc_score(y_test,predictions))\n",
        "    #pre.append(precision_score(y_test,predictions))\n",
        "    rec.append(recall_score(y_test,predictions))"
      ],
      "execution_count": 0,
      "outputs": []
    },
    {
      "cell_type": "code",
      "metadata": {
        "id": "rEM4QaTsg8mu",
        "colab_type": "code",
        "colab": {
          "base_uri": "https://localhost:8080/",
          "height": 592
        },
        "outputId": "84e4b0db-48a2-4c6d-dcba-78c12a919d16"
      },
      "source": [
        "plt.figure(figsize=(14,10))\n",
        "plt.subplot(2,2,1)\n",
        "plt.plot(threshold,confusion['tn'],label='True negative')\n",
        "plt.plot(threshold,confusion['fp'],label='False positive')\n",
        "plt.legend()\n",
        "plt.subplot(2,2,2)\n",
        "plt.plot(threshold,confusion['fn'],label='False negative')\n",
        "plt.plot(threshold,confusion['tp'],label='True positive')\n",
        "plt.legend()\n",
        "plt.subplot(2,2,3)\n",
        "plt.plot(threshold[:20],confusion['tn'][:20],label='True negative')\n",
        "plt.plot(threshold[:20],confusion['fp'][:20],label='False positive')\n",
        "plt.legend()\n",
        "plt.subplot(2,2,4)\n",
        "plt.plot(threshold[:20],confusion['fn'][:20],label='False negative')\n",
        "plt.plot(threshold[:20],confusion['tp'][:20],label='True positive')\n",
        "plt.legend()\n",
        "plt.show()"
      ],
      "execution_count": 144,
      "outputs": [
        {
          "output_type": "display_data",
          "data": {
            "image/png": "[encoded data removed]",
            "text/plain": [
              "<Figure size 1008x720 with 4 Axes>"
            ]
          },
          "metadata": {
            "tags": []
          }
        }
      ]
    },
    {
      "cell_type": "code",
      "metadata": {
        "id": "LGBEH1uphR4o",
        "colab_type": "code",
        "colab": {
          "base_uri": "https://localhost:8080/",
          "height": 183
        },
        "outputId": "dd29e1b7-ad43-492f-91c6-1a7497f007b6"
      },
      "source": [
        "print (classification_report(y_test,prediction,target_names=['Inactive','Active']))\n",
        "tn, fp, fn, tp = confusion_matrix(y_test,prediction).ravel()\n",
        "print (tn, fp, fn, tp)"
      ],
      "execution_count": 145,
      "outputs": [
        {
          "output_type": "stream",
          "text": [
            "              precision    recall  f1-score   support\n",
            "\n",
            "    Inactive       0.72      0.87      0.79      9481\n",
            "      Active       0.64      0.41      0.50      5400\n",
            "\n",
            "    accuracy                           0.70     14881\n",
            "   macro avg       0.68      0.64      0.64     14881\n",
            "weighted avg       0.69      0.70      0.68     14881\n",
            "\n",
            "8221 1260 3205 2195\n"
          ],
          "name": "stdout"
        }
      ]
    },
    {
      "cell_type": "markdown",
      "metadata": {
        "id": "WIlJSS_awoza",
        "colab_type": "text"
      },
      "source": [
        "# 6.6 Model insights"
      ]
    },
    {
      "cell_type": "markdown",
      "metadata": {
        "id": "YwHSR-qmx6GE",
        "colab_type": "text"
      },
      "source": [
        "We used a logistic regression model to predict retention (active and inactive users). Following hyperparameter tuning, a ROC AUC score of 0.715 was achieved. \n",
        "\n",
        "As the more important concern is predicting the inactive users accurately, the final model should be good enough. This model yielded 8221 true negative predictions out of a possible 9481 inactive cases which is a high accuracy rate for the inactive cases. In other words, the recall score is 87% for inactive users. \n",
        "\n",
        "**Why is it important to predict inactive users?**\n",
        "\n",
        "- We need to predict the users that were not retained to figure out what their behaviors are like so that the service can be catered more to their needs in an attempt to actually retain them. Therefore, it is important to predict the inactive users. \n",
        "\n",
        "- In a lot of cases, simply looking at activity during the first one month of signing up could indicate whether a user is likely to use the service just once or for a longer period of time. For example, as we saw in the EDA section, active users tend to have more trips in the first 30 days. This information can be used to flag possible users that may leave. \n",
        "\n",
        "**Why is it important to predict active users?**\n",
        "\n",
        "- Alternatively, it also important to predict active users to determine what are the characteristics of these users. \n"
      ]
    },
    {
      "cell_type": "code",
      "metadata": {
        "id": "HPjOntlQqKZ9",
        "colab_type": "code",
        "colab": {}
      },
      "source": [
        ""
      ],
      "execution_count": 0,
      "outputs": []
    }
  ]
}