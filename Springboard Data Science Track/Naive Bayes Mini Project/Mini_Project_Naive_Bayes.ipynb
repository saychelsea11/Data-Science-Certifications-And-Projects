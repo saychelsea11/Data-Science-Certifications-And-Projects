{
 "cells": [
  {
   "cell_type": "markdown",
   "metadata": {},
   "source": [
    "# Basic Text Classification with Naive Bayes\n",
    "***\n",
    "In the mini-project, you'll learn the basics of text analysis using a subset of movie reviews from the rotten tomatoes database. You'll also use a fundamental technique in Bayesian inference, called Naive Bayes. This mini-project is based on [Lab 10 of Harvard's CS109](https://github.com/cs109/2015lab10) class.  Please free to go to the original lab for additional exercises and solutions."
   ]
  },
  {
   "cell_type": "code",
   "execution_count": 40,
   "metadata": {},
   "outputs": [],
   "source": [
    "%matplotlib inline\n",
    "import numpy as np\n",
    "import scipy as sp\n",
    "import matplotlib as mpl\n",
    "import matplotlib.cm as cm\n",
    "import matplotlib.pyplot as plt\n",
    "import pandas as pd\n",
    "import seaborn as sns\n",
    "from six.moves import range\n",
    "\n",
    "# Setup Pandas\n",
    "pd.set_option('display.width', 500)\n",
    "pd.set_option('display.max_columns', 100)\n",
    "pd.set_option('display.notebook_repr_html', True)\n",
    "\n",
    "# Setup Seaborn\n",
    "sns.set_style(\"whitegrid\")\n",
    "sns.set_context(\"poster\")"
   ]
  },
  {
   "cell_type": "markdown",
   "metadata": {},
   "source": [
    "# Table of Contents\n",
    "\n",
    "* [Rotten Tomatoes Dataset](#Rotten-Tomatoes-Dataset)\n",
    "    * [Explore](#Explore)\n",
    "* [The Vector Space Model and a Search Engine](#The-Vector-Space-Model-and-a-Search-Engine)\n",
    "    * [In Code](#In-Code)\n",
    "* [Naive Bayes](#Naive-Bayes)\n",
    "    * [Multinomial Naive Bayes and Other Likelihood Functions](#Multinomial-Naive-Bayes-and-Other-Likelihood-Functions)\n",
    "    * [Picking Hyperparameters for Naive Bayes and Text Maintenance](#Picking-Hyperparameters-for-Naive-Bayes-and-Text-Maintenance)\n",
    "* [Interpretation](#Interpretation)\n"
   ]
  },
  {
   "cell_type": "markdown",
   "metadata": {},
   "source": [
    "## Rotten Tomatoes Dataset"
   ]
  },
  {
   "cell_type": "code",
   "execution_count": 41,
   "metadata": {},
   "outputs": [
    {
     "data": {
      "text/html": [
       "<div>\n",
       "<style scoped>\n",
       "    .dataframe tbody tr th:only-of-type {\n",
       "        vertical-align: middle;\n",
       "    }\n",
       "\n",
       "    .dataframe tbody tr th {\n",
       "        vertical-align: top;\n",
       "    }\n",
       "\n",
       "    .dataframe thead th {\n",
       "        text-align: right;\n",
       "    }\n",
       "</style>\n",
       "<table border=\"1\" class=\"dataframe\">\n",
       "  <thead>\n",
       "    <tr style=\"text-align: right;\">\n",
       "      <th></th>\n",
       "      <th>critic</th>\n",
       "      <th>fresh</th>\n",
       "      <th>imdb</th>\n",
       "      <th>publication</th>\n",
       "      <th>quote</th>\n",
       "      <th>review_date</th>\n",
       "      <th>rtid</th>\n",
       "      <th>title</th>\n",
       "    </tr>\n",
       "  </thead>\n",
       "  <tbody>\n",
       "    <tr>\n",
       "      <th>1</th>\n",
       "      <td>Derek Adams</td>\n",
       "      <td>fresh</td>\n",
       "      <td>114709</td>\n",
       "      <td>Time Out</td>\n",
       "      <td>So ingenious in concept, design and execution ...</td>\n",
       "      <td>2009-10-04</td>\n",
       "      <td>9559</td>\n",
       "      <td>Toy story</td>\n",
       "    </tr>\n",
       "    <tr>\n",
       "      <th>2</th>\n",
       "      <td>Richard Corliss</td>\n",
       "      <td>fresh</td>\n",
       "      <td>114709</td>\n",
       "      <td>TIME Magazine</td>\n",
       "      <td>The year's most inventive comedy.</td>\n",
       "      <td>2008-08-31</td>\n",
       "      <td>9559</td>\n",
       "      <td>Toy story</td>\n",
       "    </tr>\n",
       "    <tr>\n",
       "      <th>3</th>\n",
       "      <td>David Ansen</td>\n",
       "      <td>fresh</td>\n",
       "      <td>114709</td>\n",
       "      <td>Newsweek</td>\n",
       "      <td>A winning animated feature that has something ...</td>\n",
       "      <td>2008-08-18</td>\n",
       "      <td>9559</td>\n",
       "      <td>Toy story</td>\n",
       "    </tr>\n",
       "    <tr>\n",
       "      <th>4</th>\n",
       "      <td>Leonard Klady</td>\n",
       "      <td>fresh</td>\n",
       "      <td>114709</td>\n",
       "      <td>Variety</td>\n",
       "      <td>The film sports a provocative and appealing st...</td>\n",
       "      <td>2008-06-09</td>\n",
       "      <td>9559</td>\n",
       "      <td>Toy story</td>\n",
       "    </tr>\n",
       "    <tr>\n",
       "      <th>5</th>\n",
       "      <td>Jonathan Rosenbaum</td>\n",
       "      <td>fresh</td>\n",
       "      <td>114709</td>\n",
       "      <td>Chicago Reader</td>\n",
       "      <td>An entertaining computer-generated, hyperreali...</td>\n",
       "      <td>2008-03-10</td>\n",
       "      <td>9559</td>\n",
       "      <td>Toy story</td>\n",
       "    </tr>\n",
       "  </tbody>\n",
       "</table>\n",
       "</div>"
      ],
      "text/plain": [
       "               critic  fresh    imdb     publication                                              quote review_date  rtid      title\n",
       "1         Derek Adams  fresh  114709        Time Out  So ingenious in concept, design and execution ...  2009-10-04  9559  Toy story\n",
       "2     Richard Corliss  fresh  114709   TIME Magazine                  The year's most inventive comedy.  2008-08-31  9559  Toy story\n",
       "3         David Ansen  fresh  114709        Newsweek  A winning animated feature that has something ...  2008-08-18  9559  Toy story\n",
       "4       Leonard Klady  fresh  114709         Variety  The film sports a provocative and appealing st...  2008-06-09  9559  Toy story\n",
       "5  Jonathan Rosenbaum  fresh  114709  Chicago Reader  An entertaining computer-generated, hyperreali...  2008-03-10  9559  Toy story"
      ]
     },
     "execution_count": 41,
     "metadata": {},
     "output_type": "execute_result"
    }
   ],
   "source": [
    "critics = pd.read_csv('./critics.csv')\n",
    "#let's drop rows with missing quotes\n",
    "critics = critics[~critics.quote.isnull()]\n",
    "critics.head()"
   ]
  },
  {
   "cell_type": "markdown",
   "metadata": {},
   "source": [
    "### Explore"
   ]
  },
  {
   "cell_type": "code",
   "execution_count": 42,
   "metadata": {},
   "outputs": [
    {
     "name": "stdout",
     "output_type": "stream",
     "text": [
      "Number of reviews: 15561\n",
      "Number of critics: 623\n",
      "Number of movies:  1921\n"
     ]
    }
   ],
   "source": [
    "n_reviews = len(critics)\n",
    "n_movies = critics.rtid.unique().size\n",
    "n_critics = critics.critic.unique().size\n",
    "\n",
    "\n",
    "print(\"Number of reviews: {:d}\".format(n_reviews))\n",
    "print(\"Number of critics: {:d}\".format(n_critics))\n",
    "print(\"Number of movies:  {:d}\".format(n_movies))"
   ]
  },
  {
   "cell_type": "code",
   "execution_count": 43,
   "metadata": {},
   "outputs": [
    {
     "data": {
      "image/png": "[encoded data removed]",
      "text/plain": [
       "<Figure size 432x288 with 1 Axes>"
      ]
     },
     "metadata": {},
     "output_type": "display_data"
    }
   ],
   "source": [
    "df = critics.copy()\n",
    "df['fresh'] = df.fresh == 'fresh'\n",
    "grp = df.groupby('critic')\n",
    "counts = grp.critic.count()  # number of reviews by each critic\n",
    "means = grp.fresh.mean()     # average freshness for each critic\n",
    "\n",
    "means[counts > 100].hist(bins=10, edgecolor='w', lw=1)\n",
    "plt.xlabel(\"Average Rating per critic\")\n",
    "plt.ylabel(\"Number of Critics\")\n",
    "plt.yticks([0, 2, 4, 6, 8, 10]);"
   ]
  },
  {
   "cell_type": "markdown",
   "metadata": {},
   "source": [
    "<div class=\"span5 alert alert-info\">\n",
    "<h3>Exercise Set I</h3>\n",
    "<br/>\n",
    "<b>Exercise:</b> Look at the histogram above. Tell a story about the average ratings per critic. What shape does the distribution look like? What is interesting about the distribution? What might explain these interesting things?\n",
    "</div>"
   ]
  },
  {
   "cell_type": "markdown",
   "metadata": {},
   "source": [
    "The plot above is the average movie rating per critic with the criteria that only critics that have over 100 reviews are considered. Below, the filtered table for this criteria is shown with the frequency and mean columns. \n",
    "\n",
    "The histogram does not appear to be normally distributed and is slightly left skewed. The mean of this distribution is 0.59 whereas the median is 0.625 which further indicates that the histogram is slightly left skewed. \n",
    "\n",
    "Looking at the general pattern of the distribution, most of the ratings lie between 0.6 and 0.7 which in reality makes sense since these ratings indicate that the movies are neither exceptional nor terrible. \n",
    "\n",
    "As expected, the frequency tapers off at higher ratings. Conversely, the ratings have an upward trend at values of 0.3 to 0.5. However the interesting thing is that the point between 0.5 and 0.6 has a sharp drop. The expected trend would have been an upward trend all the way up to 0.6 and then a tapering down till about 0.8 and 0.9. "
   ]
  },
  {
   "cell_type": "code",
   "execution_count": 44,
   "metadata": {},
   "outputs": [
    {
     "data": {
      "text/html": [
       "<div>\n",
       "<style scoped>\n",
       "    .dataframe tbody tr th:only-of-type {\n",
       "        vertical-align: middle;\n",
       "    }\n",
       "\n",
       "    .dataframe tbody tr th {\n",
       "        vertical-align: top;\n",
       "    }\n",
       "\n",
       "    .dataframe thead tr th {\n",
       "        text-align: left;\n",
       "    }\n",
       "\n",
       "    .dataframe thead tr:last-of-type th {\n",
       "        text-align: right;\n",
       "    }\n",
       "</style>\n",
       "<table border=\"1\" class=\"dataframe\">\n",
       "  <thead>\n",
       "    <tr>\n",
       "      <th></th>\n",
       "      <th colspan=\"2\" halign=\"left\">fresh</th>\n",
       "    </tr>\n",
       "    <tr>\n",
       "      <th></th>\n",
       "      <th>count</th>\n",
       "      <th>mean</th>\n",
       "    </tr>\n",
       "    <tr>\n",
       "      <th>critic</th>\n",
       "      <th></th>\n",
       "      <th></th>\n",
       "    </tr>\n",
       "  </thead>\n",
       "  <tbody>\n",
       "    <tr>\n",
       "      <th>Bosley Crowther</th>\n",
       "      <td>141</td>\n",
       "      <td>0.695035</td>\n",
       "    </tr>\n",
       "    <tr>\n",
       "      <th>Dave Kehr</th>\n",
       "      <td>338</td>\n",
       "      <td>0.591716</td>\n",
       "    </tr>\n",
       "    <tr>\n",
       "      <th>Derek Adams</th>\n",
       "      <td>151</td>\n",
       "      <td>0.615894</td>\n",
       "    </tr>\n",
       "    <tr>\n",
       "      <th>Desson Thomson</th>\n",
       "      <td>391</td>\n",
       "      <td>0.588235</td>\n",
       "    </tr>\n",
       "    <tr>\n",
       "      <th>Edward Guthmann</th>\n",
       "      <td>119</td>\n",
       "      <td>0.638655</td>\n",
       "    </tr>\n",
       "  </tbody>\n",
       "</table>\n",
       "</div>"
      ],
      "text/plain": [
       "                fresh          \n",
       "                count      mean\n",
       "critic                         \n",
       "Bosley Crowther   141  0.695035\n",
       "Dave Kehr         338  0.591716\n",
       "Derek Adams       151  0.615894\n",
       "Desson Thomson    391  0.588235\n",
       "Edward Guthmann   119  0.638655"
      ]
     },
     "execution_count": 44,
     "metadata": {},
     "output_type": "execute_result"
    }
   ],
   "source": [
    "df = critics.copy()\n",
    "df['fresh'] = df.fresh == 'fresh'\n",
    "grp = df.groupby('critic')\n",
    "counts = grp.critic.count()  # number of reviews by each critic\n",
    "means = grp.fresh.mean()     # average freshness for each critic\n",
    "\n",
    "mean_counts = df[['fresh','critic']].groupby('critic').agg(['count','mean'])\n",
    "mean_counts[mean_counts['fresh']['count']>100].head()"
   ]
  },
  {
   "cell_type": "code",
   "execution_count": 45,
   "metadata": {},
   "outputs": [
    {
     "name": "stdout",
     "output_type": "stream",
     "text": [
      "Mean of average ratings per critic:  0.5973196238943227\n",
      "Median of average ratings per critic:  0.625\n"
     ]
    }
   ],
   "source": [
    "print (\"Mean of average ratings per critic: \",np.mean(mean_counts['fresh']['mean']))\n",
    "print (\"Median of average ratings per critic: \",np.median(mean_counts['fresh']['mean']))"
   ]
  },
  {
   "cell_type": "markdown",
   "metadata": {},
   "source": [
    "## The Vector Space Model and a Search Engine"
   ]
  },
  {
   "cell_type": "markdown",
   "metadata": {},
   "source": [
    "All the diagrams here are snipped from [*Introduction to Information Retrieval* by Manning et. al.]( http://nlp.stanford.edu/IR-book/) which is a great resource on text processing. For additional information on text mining and natural language processing, see [*Foundations of Statistical Natural Language Processing* by Manning and Schutze](http://nlp.stanford.edu/fsnlp/).\n",
    "\n",
    "Also check out Python packages [`nltk`](http://www.nltk.org/), [`spaCy`](https://spacy.io/), [`pattern`](http://www.clips.ua.ac.be/pattern), and their associated resources. Also see [`word2vec`](https://en.wikipedia.org/wiki/Word2vec).\n",
    "\n",
    "Let us define the vector derived from document $d$ by $\\bar V(d)$. What does this mean? Each document is treated as a vector containing information about the words contained in it. Each vector has the same length and each entry \"slot\" in the vector contains some kind of data about the words that appear in the document such as presence/absence (1/0), count (an integer) or some other statistic. Each vector has the same length because each document shared the same vocabulary across the full collection of documents -- this collection is called a *corpus*.\n",
    "\n",
    "To define the vocabulary, we take a union of all words we have seen in all documents. We then just associate an array index with them. So \"hello\" may be at index 5 and \"world\" at index 99.\n",
    "\n",
    "Suppose we have the following corpus:\n",
    "\n",
    "`A Fox one day spied a beautiful bunch of ripe grapes hanging from a vine trained along the branches of a tree. The grapes seemed ready to burst with juice, and the Fox's mouth watered as he gazed longingly at them.`\n",
    "\n",
    "Suppose we treat each sentence as a document $d$. The vocabulary (often called the *lexicon*) is the following:\n",
    "\n",
    "$V = \\left\\{\\right.$ `a, along, and, as, at, beautiful, branches, bunch, burst, day, fox, fox's, from, gazed, grapes, hanging, he, juice, longingly, mouth, of, one, ready, ripe, seemed, spied, the, them, to, trained, tree, vine, watered, with`$\\left.\\right\\}$\n",
    "\n",
    "Then the document\n",
    "\n",
    "`A Fox one day spied a beautiful bunch of ripe grapes hanging from a vine trained along the branches of a tree`\n",
    "\n",
    "may be represented as the following sparse vector of word counts:\n",
    "\n",
    "$$\\bar V(d) = \\left( 4,1,0,0,0,1,1,1,0,1,1,0,1,0,1,1,0,0,0,0,2,1,0,1,0,0,1,0,0,1,1,1,0,0 \\right)$$\n",
    "\n",
    "or more succinctly as\n",
    "\n",
    "`[(0, 4), (1, 1), (5, 1), (6, 1), (7, 1), (9, 1), (10, 1), (12, 1), (14, 1), (15, 1), (20, 2), (21, 1), (23, 1),`\n",
    "`(26, 1), (29,1), (30, 1), (31, 1)]`\n",
    "\n",
    "along with a dictionary\n",
    "\n",
    "``\n",
    "{\n",
    "    0: a, 1: along, 5: beautiful, 6: branches, 7: bunch, 9: day, 10: fox, 12: from, 14: grapes, 15: hanging, 19: mouth, 20: of, 21: one, 23: ripe, 24: seemed, 25: spied, 26: the, 29:trained, 30: tree, 31: vine, \n",
    "}\n",
    "``\n",
    "\n",
    "Then, a set of documents becomes, in the usual `sklearn` style, a sparse matrix with rows being sparse arrays representing documents and columns representing the features/words in the vocabulary.\n",
    "\n",
    "Notice that this representation loses the relative ordering of the terms in the document. That is \"cat ate rat\" and \"rat ate cat\" are the same. Thus, this representation is also known as the Bag-Of-Words representation.\n",
    "\n",
    "Here is another example, from the book quoted above, although the matrix is transposed here so that documents are columns:\n",
    "\n",
    "![novel terms](terms.png)\n",
    "\n",
    "Such a matrix is also catted a Term-Document Matrix. Here, the terms being indexed could be stemmed before indexing; for instance, `jealous` and `jealousy` after stemming are the same feature. One could also make use of other \"Natural Language Processing\" transformations in constructing the vocabulary. We could use Lemmatization, which reduces words to lemmas: work, working, worked would all reduce to work. We could remove \"stopwords\" from our vocabulary, such as common words like \"the\". We could look for particular parts of speech, such as adjectives. This is often done in Sentiment Analysis. And so on. It all depends on our application.\n",
    "\n",
    "From the book:\n",
    ">The standard way of quantifying the similarity between two documents $d_1$ and $d_2$  is to compute the cosine similarity of their vector representations $\\bar V(d_1)$ and $\\bar V(d_2)$:\n",
    "\n",
    "$$S_{12} = \\frac{\\bar V(d_1) \\cdot \\bar V(d_2)}{|\\bar V(d_1)| \\times |\\bar V(d_2)|}$$\n",
    "\n",
    "![Vector Space Model](vsm.png)\n",
    "\n",
    "\n",
    ">There is a far more compelling reason to represent documents as vectors: we can also view a query as a vector. Consider the query q = jealous gossip. This query turns into the unit vector $\\bar V(q)$ = (0, 0.707, 0.707) on the three coordinates below. \n",
    "\n",
    "![novel terms](terms2.png)\n",
    "\n",
    ">The key idea now: to assign to each document d a score equal to the dot product:\n",
    "\n",
    "$$\\bar V(q) \\cdot \\bar V(d)$$\n",
    "\n",
    "Then we can use this simple Vector Model as a Search engine."
   ]
  },
  {
   "cell_type": "markdown",
   "metadata": {},
   "source": [
    "### In Code"
   ]
  },
  {
   "cell_type": "code",
   "execution_count": 46,
   "metadata": {},
   "outputs": [
    {
     "name": "stdout",
     "output_type": "stream",
     "text": [
      "Original text is\n",
      "Hop on pop\n",
      "Hop off pop\n",
      "Hop Hop hop\n",
      "\n",
      "Transformed text vector is \n",
      "[[1 0 1 1]\n",
      " [1 1 0 1]\n",
      " [3 0 0 0]]\n",
      "\n",
      "Words for each feature:\n",
      "['hop', 'off', 'on', 'pop']\n"
     ]
    }
   ],
   "source": [
    "from sklearn.feature_extraction.text import CountVectorizer\n",
    "\n",
    "text = ['Hop on pop', 'Hop off pop', 'Hop Hop hop']\n",
    "print(\"Original text is\\n{}\".format('\\n'.join(text)))\n",
    "\n",
    "vectorizer = CountVectorizer(min_df=0)\n",
    "\n",
    "# call `fit` to build the vocabulary\n",
    "vectorizer.fit(text)\n",
    "\n",
    "# call `transform` to convert text to a bag of words\n",
    "x = vectorizer.transform(text)\n",
    "\n",
    "# CountVectorizer uses a sparse array to save memory, but it's easier in this assignment to \n",
    "# convert back to a \"normal\" numpy array\n",
    "x = x.toarray()\n",
    "\n",
    "print(\"\")\n",
    "print(\"Transformed text vector is \\n{}\".format(x))\n",
    "\n",
    "# `get_feature_names` tracks which word is associated with each column of the transformed x\n",
    "print(\"\")\n",
    "print(\"Words for each feature:\")\n",
    "print(vectorizer.get_feature_names())\n",
    "\n",
    "# Notice that the bag of words treatment doesn't preserve information about the *order* of words, \n",
    "# just their frequency"
   ]
  },
  {
   "cell_type": "code",
   "execution_count": 47,
   "metadata": {},
   "outputs": [],
   "source": [
    "def make_xy(critics, vectorizer=None):\n",
    "    #Your code here    \n",
    "    if vectorizer is None:\n",
    "        vectorizer = CountVectorizer()\n",
    "    X = vectorizer.fit_transform(critics.quote)\n",
    "    X = X.tocsc()  # some versions of sklearn return COO format\n",
    "    y = (critics.fresh == 'fresh').values.astype(np.int)\n",
    "    return X, y\n",
    "X, y = make_xy(critics)"
   ]
  },
  {
   "cell_type": "code",
   "execution_count": 48,
   "metadata": {},
   "outputs": [
    {
     "data": {
      "text/plain": [
       "1    9482\n",
       "0    6079\n",
       "dtype: int64"
      ]
     },
     "execution_count": 48,
     "metadata": {},
     "output_type": "execute_result"
    }
   ],
   "source": [
    "pd.Series(y).value_counts()"
   ]
  },
  {
   "cell_type": "markdown",
   "metadata": {},
   "source": [
    "## Naive Bayes"
   ]
  },
  {
   "cell_type": "markdown",
   "metadata": {},
   "source": [
    "From Bayes' Theorem, we have that\n",
    "\n",
    "$$P(c \\vert f) = \\frac{P(c \\cap f)}{P(f)}$$\n",
    "\n",
    "where $c$ represents a *class* or category, and $f$ represents a feature vector, such as $\\bar V(d)$ as above. **We are computing the probability that a document (or whatever we are classifying) belongs to category *c* given the features in the document.** $P(f)$ is really just a normalization constant, so the literature usually writes Bayes' Theorem in context of Naive Bayes as\n",
    "\n",
    "$$P(c \\vert f) \\propto P(f \\vert c) P(c) $$\n",
    "\n",
    "$P(c)$ is called the *prior* and is simply the probability of seeing class $c$. But what is $P(f \\vert c)$? This is the probability that we see feature set $f$ given that this document is actually in class $c$. This is called the *likelihood* and comes from the data. One of the major assumptions of the Naive Bayes model is that the features are *conditionally independent* given the class. While the presence of a particular discriminative word may uniquely identify the document as being part of class $c$ and thus violate general feature independence, conditional independence means that the presence of that term is independent of all the other words that appear *within that class*. This is a very important distinction. Recall that if two events are independent, then:\n",
    "\n",
    "$$P(A \\cap B) = P(A) \\cdot P(B)$$\n",
    "\n",
    "Thus, conditional independence implies\n",
    "\n",
    "$$P(f \\vert c)  = \\prod_i P(f_i | c) $$\n",
    "\n",
    "where $f_i$ is an individual feature (a word in this example).\n",
    "\n",
    "To make a classification, we then choose the class $c$ such that $P(c \\vert f)$ is maximal.\n",
    "\n",
    "There is a small caveat when computing these probabilities. For [floating point underflow](http://nlp.stanford.edu/IR-book/html/htmledition/naive-bayes-text-classification-1.html) we change the product into a sum by going into log space. This is called the LogSumExp trick. So:\n",
    "\n",
    "$$\\log P(f \\vert c)  = \\sum_i \\log P(f_i \\vert c) $$\n",
    "\n",
    "There is another caveat. What if we see a term that didn't exist in the training data? This means that $P(f_i \\vert c) = 0$ for that term, and thus $P(f \\vert c)  = \\prod_i P(f_i | c) = 0$, which doesn't help us at all. Instead of using zeros, we add a small negligible value called $\\alpha$ to each count. This is called Laplace Smoothing.\n",
    "\n",
    "$$P(f_i \\vert c) = \\frac{N_{ic}+\\alpha}{N_c + \\alpha N_i}$$\n",
    "\n",
    "where $N_{ic}$ is the number of times feature $i$ was seen in class $c$, $N_c$ is the number of times class $c$ was seen and $N_i$ is the number of times feature $i$ was seen globally. $\\alpha$ is sometimes called a regularization parameter."
   ]
  },
  {
   "cell_type": "markdown",
   "metadata": {},
   "source": [
    "### Multinomial Naive Bayes and Other Likelihood Functions\n",
    "\n",
    "Since we are modeling word counts, we are using variation of Naive Bayes called Multinomial Naive Bayes. This is because the likelihood function actually takes the form of the multinomial distribution.\n",
    "\n",
    "$$P(f \\vert c) = \\frac{\\left( \\sum_i f_i \\right)!}{\\prod_i f_i!} \\prod_{f_i} P(f_i \\vert c)^{f_i} \\propto \\prod_{i} P(f_i \\vert c)$$\n",
    "\n",
    "where the nasty term out front is absorbed as a normalization constant such that probabilities sum to 1.\n",
    "\n",
    "There are many other variations of Naive Bayes, all which depend on what type of value $f_i$ takes. If $f_i$ is continuous, we may be able to use *Gaussian Naive Bayes*. First compute the mean and variance for each class $c$. Then the likelihood, $P(f \\vert c)$ is given as follows\n",
    "\n",
    "$$P(f_i = v \\vert c) = \\frac{1}{\\sqrt{2\\pi \\sigma^2_c}} e^{- \\frac{\\left( v - \\mu_c \\right)^2}{2 \\sigma^2_c}}$$"
   ]
  },
  {
   "cell_type": "markdown",
   "metadata": {},
   "source": [
    "<div class=\"span5 alert alert-info\">\n",
    "<h3>Exercise Set II</h3>\n",
    "\n",
    "<p><b>Exercise:</b> Implement a simple Naive Bayes classifier:</p>\n",
    "\n",
    "<ol>\n",
    "<li> split the data set into a training and test set\n",
    "<li> Use `scikit-learn`'s `MultinomialNB()` classifier with default parameters.\n",
    "<li> train the classifier over the training set and test on the test set\n",
    "<li> print the accuracy scores for both the training and the test sets\n",
    "</ol>\n",
    "\n",
    "What do you notice? Is this a good classifier? If not, why not?\n",
    "</div>"
   ]
  },
  {
   "cell_type": "code",
   "execution_count": 49,
   "metadata": {},
   "outputs": [],
   "source": [
    "from sklearn.model_selection import train_test_split\n",
    "from sklearn.naive_bayes import MultinomialNB\n",
    "from sklearn.metrics import accuracy_score"
   ]
  },
  {
   "cell_type": "code",
   "execution_count": 50,
   "metadata": {},
   "outputs": [],
   "source": [
    "#your turn\n",
    "x_train,x_test,y_train,y_test = train_test_split(X,y,random_state=0)"
   ]
  },
  {
   "cell_type": "code",
   "execution_count": 51,
   "metadata": {},
   "outputs": [],
   "source": [
    "mnb = MultinomialNB()"
   ]
  },
  {
   "cell_type": "code",
   "execution_count": 52,
   "metadata": {},
   "outputs": [],
   "source": [
    "model = mnb.fit(x_train,y_train)"
   ]
  },
  {
   "cell_type": "code",
   "execution_count": 53,
   "metadata": {},
   "outputs": [],
   "source": [
    "#Prediction using test set\n",
    "predict = model.predict(x_test)\n",
    "\n",
    "#Prediction using training set\n",
    "predict_train = model.predict(x_train)"
   ]
  },
  {
   "cell_type": "code",
   "execution_count": 54,
   "metadata": {},
   "outputs": [
    {
     "name": "stdout",
     "output_type": "stream",
     "text": [
      "Train set accuracy:  0.9212510711225365\n",
      "Test set accuracy:  0.7707530197892573\n"
     ]
    }
   ],
   "source": [
    "print (\"Train set accuracy: \",accuracy_score(y_train,predict_train))\n",
    "print (\"Test set accuracy: \",accuracy_score(y_test,predict))"
   ]
  },
  {
   "cell_type": "markdown",
   "metadata": {},
   "source": [
    "It's a decent classifier with a test set accuracy score of 0.77. This could possibly be improved with parameter tuning and cross validation. \n",
    "\n",
    "Since the training set accuracy score is 0.92, that's an indication that the model might be overfitting the data. Therefore, some sort of regularization technique could be used to generalize the model some more. "
   ]
  },
  {
   "cell_type": "markdown",
   "metadata": {},
   "source": [
    "### Picking Hyperparameters for Naive Bayes and Text Maintenance"
   ]
  },
  {
   "cell_type": "markdown",
   "metadata": {},
   "source": [
    "We need to know what value to use for $\\alpha$, and we also need to know which words to include in the vocabulary. As mentioned earlier, some words are obvious stopwords. Other words appear so infrequently that they serve as noise, and other words in addition to stopwords appear so frequently that they may also serve as noise."
   ]
  },
  {
   "cell_type": "markdown",
   "metadata": {},
   "source": [
    "First, let's find an appropriate value for `min_df` for the `CountVectorizer`. `min_df` can be either an integer or a float/decimal. If it is an integer, `min_df` represents the minimum number of documents a word must appear in for it to be included in the vocabulary. If it is a float, it represents the minimum *percentage* of documents a word must appear in to be included in the vocabulary. From the documentation:"
   ]
  },
  {
   "cell_type": "markdown",
   "metadata": {},
   "source": [
    ">min_df: When building the vocabulary ignore terms that have a document frequency strictly lower than the given threshold. This value is also called cut-off in the literature. If float, the parameter represents a proportion of documents, integer absolute counts. This parameter is ignored if vocabulary is not None."
   ]
  },
  {
   "cell_type": "markdown",
   "metadata": {},
   "source": [
    "<div class=\"span5 alert alert-info\">\n",
    "<h3>Exercise Set III</h3>\n",
    "\n",
    "<p><b>Exercise:</b> Construct the cumulative distribution of document frequencies (df). The $x$-axis is a document count $x_i$ and the $y$-axis is the percentage of words that appear less than $x_i$ times. For example, at $x=5$, plot a point representing the percentage or number of words that appear in 5 or fewer documents.</p>\n",
    "\n",
    "<p><b>Exercise:</b> Look for the point at which the curve begins climbing steeply. This may be a good value for `min_df`. If we were interested in also picking `max_df`, we would likely pick the value where the curve starts to plateau. What value did you choose?</p>\n",
    "</div>"
   ]
  },
  {
   "cell_type": "code",
   "execution_count": 55,
   "metadata": {},
   "outputs": [],
   "source": [
    "# Your turn.\n"
   ]
  },
  {
   "cell_type": "code",
   "execution_count": 56,
   "metadata": {},
   "outputs": [
    {
     "data": {
      "text/plain": [
       "(-100, 500)"
      ]
     },
     "execution_count": 56,
     "metadata": {},
     "output_type": "execute_result"
    },
    {
     "data": {
      "image/png": "[encoded data removed]",
      "text/plain": [
       "<Figure size 1080x432 with 3 Axes>"
      ]
     },
     "metadata": {},
     "output_type": "display_data"
    }
   ],
   "source": [
    "doc_freq = np.array(X.sum(axis=0))[0]\n",
    "plt.figure(figsize=(15,6))\n",
    "plt.subplot(1,3,1)\n",
    "plt.scatter(doc_freq,sp.stats.norm.cdf(doc_freq,np.mean(doc_freq),np.std(doc_freq)),alpha=0.3)\n",
    "plt.subplot(1,3,2)\n",
    "plt.scatter(doc_freq,sp.stats.norm.cdf(doc_freq,np.mean(doc_freq),np.std(doc_freq)),alpha=0.3)\n",
    "plt.xlim([-100,2000])\n",
    "plt.subplot(1,3,3)\n",
    "plt.scatter(doc_freq,sp.stats.norm.cdf(doc_freq,np.mean(doc_freq),np.std(doc_freq)),alpha=0.3,s=1)\n",
    "plt.xlim([-100,500])\n",
    "#plt.axvline(5,color='red',alpha=0.7)\n",
    "#plt.axvline(10,color='red',alpha=0.7)\n",
    "#plt.axvline(20,color='red',alpha=0.7)\n",
    "#plt.axvline(40,color='red',alpha=0.7)\n"
   ]
  },
  {
   "cell_type": "code",
   "execution_count": 57,
   "metadata": {},
   "outputs": [
    {
     "name": "stderr",
     "output_type": "stream",
     "text": [
      "/home/ec2-user/anaconda3/envs/tensorflow_p36/lib/python3.6/site-packages/matplotlib/axes/_axes.py:6521: MatplotlibDeprecationWarning: \n",
      "The 'normed' kwarg was deprecated in Matplotlib 2.1 and will be removed in 3.1. Use 'density' instead.\n",
      "  alternative=\"'density'\", removal=\"3.1\")\n"
     ]
    },
    {
     "data": {
      "text/plain": [
       "(-1, 100)"
      ]
     },
     "execution_count": 57,
     "metadata": {},
     "output_type": "execute_result"
    },
    {
     "data": {
      "image/png": "[encoded data removed]",
      "text/plain": [
       "<Figure size 432x288 with 1 Axes>"
      ]
     },
     "metadata": {},
     "output_type": "display_data"
    }
   ],
   "source": [
    "df = np.array(X.sum(axis=0))[0]\n",
    "c = pd.Series(df)\n",
    "y = np.arange(c.sum())\n",
    "plt.hist(c,bins=y,normed=1, histtype='step', color='r', cumulative=True, linewidth=1.5)\n",
    "plt.xlim(-1,100) "
   ]
  },
  {
   "cell_type": "code",
   "execution_count": 58,
   "metadata": {},
   "outputs": [
    {
     "name": "stderr",
     "output_type": "stream",
     "text": [
      "/home/ec2-user/anaconda3/envs/tensorflow_p36/lib/python3.6/site-packages/matplotlib/axes/_axes.py:6521: MatplotlibDeprecationWarning: \n",
      "The 'normed' kwarg was deprecated in Matplotlib 2.1 and will be removed in 3.1. Use 'density' instead.\n",
      "  alternative=\"'density'\", removal=\"3.1\")\n"
     ]
    },
    {
     "data": {
      "text/plain": [
       "(-1, 100)"
      ]
     },
     "execution_count": 58,
     "metadata": {},
     "output_type": "execute_result"
    },
    {
     "data": {
      "image/png": "[encoded data removed]",
      "text/plain": [
       "<Figure size 432x288 with 1 Axes>"
      ]
     },
     "metadata": {},
     "output_type": "display_data"
    }
   ],
   "source": [
    "plt.hist(c,normed=1,histtype='step', color='r', cumulative=True, linewidth=1.5,bins=100000)\n",
    "plt.xlim(-1,100) "
   ]
  },
  {
   "cell_type": "code",
   "execution_count": 59,
   "metadata": {},
   "outputs": [
    {
     "data": {
      "text/plain": [
       "(-1, 100)"
      ]
     },
     "execution_count": 59,
     "metadata": {},
     "output_type": "execute_result"
    },
    {
     "data": {
      "image/png": "[encoded data removed]",
      "text/plain": [
       "<Figure size 432x288 with 1 Axes>"
      ]
     },
     "metadata": {},
     "output_type": "display_data"
    }
   ],
   "source": [
    "plt.hist(c)\n",
    "plt.xlim(-1,100) "
   ]
  },
  {
   "cell_type": "code",
   "execution_count": 60,
   "metadata": {},
   "outputs": [],
   "source": [
    "from sklearn.model_selection import KFold\n",
    "def cv_score(clf, X, y, scorefunc):\n",
    "    result = 0.\n",
    "    nfold = 5\n",
    "    for train, test in KFold(nfold).split(X): # split data into train/test groups, 5 times\n",
    "        clf.fit(X[train], y[train]) # fit the classifier, passed is as clf.\n",
    "        result += scorefunc(clf, X[test], y[test]) # evaluate score function on held-out data\n",
    "    return result / nfold # average"
   ]
  },
  {
   "cell_type": "markdown",
   "metadata": {},
   "source": [
    "We use the log-likelihood as the score here in `scorefunc`. The higher the log-likelihood, the better. Indeed, what we do in `cv_score` above is to implement the cross-validation part of `GridSearchCV`.\n",
    "\n",
    "The custom scoring function `scorefunc` allows us to use different metrics depending on the decision risk we care about (precision, accuracy, profit etc.) directly on the validation set. You will often find people using `roc_auc`, precision, recall, or `F1-score` as the scoring function."
   ]
  },
  {
   "cell_type": "code",
   "execution_count": 61,
   "metadata": {},
   "outputs": [],
   "source": [
    "def log_likelihood(clf, x, y):\n",
    "    prob = clf.predict_log_proba(x)\n",
    "    rotten = y == 0\n",
    "    fresh = ~rotten\n",
    "    return prob[rotten, 0].sum() + prob[fresh, 1].sum()"
   ]
  },
  {
   "cell_type": "markdown",
   "metadata": {},
   "source": [
    "We'll cross-validate over the regularization parameter $\\alpha$."
   ]
  },
  {
   "cell_type": "markdown",
   "metadata": {},
   "source": [
    "Let's set up the train and test masks first, and then we can run the cross-validation procedure."
   ]
  },
  {
   "cell_type": "code",
   "execution_count": 62,
   "metadata": {},
   "outputs": [],
   "source": [
    "from sklearn.model_selection import train_test_split\n",
    "_, itest = train_test_split(range(critics.shape[0]), train_size=0.7)\n",
    "mask = np.zeros(critics.shape[0], dtype=np.bool)\n",
    "mask[itest] = True"
   ]
  },
  {
   "cell_type": "code",
   "execution_count": 63,
   "metadata": {},
   "outputs": [
    {
     "data": {
      "text/plain": [
       "[15221,\n",
       " 3892,\n",
       " 13739,\n",
       " 9067,\n",
       " 11099,\n",
       " 1354,\n",
       " 13096,\n",
       " 14533,\n",
       " 4296,\n",
       " 10669,\n",
       " 4338,\n",
       " 6986,\n",
       " 10284,\n",
       " 13351,\n",
       " 11141,\n",
       " 2527,\n",
       " 3763,\n",
       " 1260,\n",
       " 1299,\n",
       " 15041,\n",
       " 1492,\n",
       " 3047,\n",
       " 6120,\n",
       " 13535,\n",
       " 3169,\n",
       " 1637,\n",
       " 3288,\n",
       " 164,\n",
       " 9035,\n",
       " 2958,\n",
       " 8165,\n",
       " 2161,\n",
       " 3049,\n",
       " 2345,\n",
       " 3642,\n",
       " 13371,\n",
       " 2630,\n",
       " 3666,\n",
       " 15401,\n",
       " 3879,\n",
       " 2742,\n",
       " 6295,\n",
       " 10478,\n",
       " 5764,\n",
       " 8036,\n",
       " 1466,\n",
       " 10812,\n",
       " 10743,\n",
       " 4684,\n",
       " 11172,\n",
       " 3962,\n",
       " 4593,\n",
       " 7175,\n",
       " 876,\n",
       " 3770,\n",
       " 284,\n",
       " 15018,\n",
       " 8890,\n",
       " 2980,\n",
       " 11490,\n",
       " 6616,\n",
       " 902,\n",
       " 7320,\n",
       " 4931,\n",
       " 13587,\n",
       " 15169,\n",
       " 9646,\n",
       " 6279,\n",
       " 11753,\n",
       " 5914,\n",
       " 1761,\n",
       " 14033,\n",
       " 7767,\n",
       " 7954,\n",
       " 1701,\n",
       " 2575,\n",
       " 10883,\n",
       " 14010,\n",
       " 13529,\n",
       " 9505,\n",
       " 5728,\n",
       " 4750,\n",
       " 7539,\n",
       " 10819,\n",
       " 6270,\n",
       " 14280,\n",
       " 10822,\n",
       " 5957,\n",
       " 9322,\n",
       " 7568,\n",
       " 3386,\n",
       " 3065,\n",
       " 11600,\n",
       " 6274,\n",
       " 1602,\n",
       " 3506,\n",
       " 11188,\n",
       " 6809,\n",
       " 14728,\n",
       " 1051,\n",
       " 7091,\n",
       " 7898,\n",
       " 3511,\n",
       " 10766,\n",
       " 1940,\n",
       " 14348,\n",
       " 3282,\n",
       " 5831,\n",
       " 15203,\n",
       " 11640,\n",
       " 6789,\n",
       " 3867,\n",
       " 3912,\n",
       " 12172,\n",
       " 338,\n",
       " 14750,\n",
       " 6403,\n",
       " 13838,\n",
       " 14494,\n",
       " 5838,\n",
       " 12710,\n",
       " 7365,\n",
       " 8693,\n",
       " 8263,\n",
       " 7905,\n",
       " 9925,\n",
       " 12396,\n",
       " 12643,\n",
       " 11821,\n",
       " 8813,\n",
       " 6831,\n",
       " 7080,\n",
       " 6663,\n",
       " 6615,\n",
       " 10985,\n",
       " 12360,\n",
       " 6378,\n",
       " 6128,\n",
       " 8220,\n",
       " 15179,\n",
       " 3693,\n",
       " 13393,\n",
       " 4489,\n",
       " 8816,\n",
       " 8079,\n",
       " 5763,\n",
       " 11459,\n",
       " 2664,\n",
       " 885,\n",
       " 1781,\n",
       " 4355,\n",
       " 9187,\n",
       " 9963,\n",
       " 10821,\n",
       " 13073,\n",
       " 3784,\n",
       " 1265,\n",
       " 10641,\n",
       " 9650,\n",
       " 2437,\n",
       " 9845,\n",
       " 5665,\n",
       " 12477,\n",
       " 109,\n",
       " 495,\n",
       " 1543,\n",
       " 357,\n",
       " 14086,\n",
       " 1504,\n",
       " 15307,\n",
       " 12048,\n",
       " 12181,\n",
       " 7867,\n",
       " 3756,\n",
       " 1644,\n",
       " 5894,\n",
       " 9732,\n",
       " 2286,\n",
       " 5047,\n",
       " 12032,\n",
       " 10626,\n",
       " 11777,\n",
       " 3703,\n",
       " 6772,\n",
       " 825,\n",
       " 8553,\n",
       " 13975,\n",
       " 1442,\n",
       " 11521,\n",
       " 14814,\n",
       " 9230,\n",
       " 592,\n",
       " 1900,\n",
       " 6059,\n",
       " 3714,\n",
       " 4343,\n",
       " 5584,\n",
       " 4813,\n",
       " 6722,\n",
       " 5905,\n",
       " 11822,\n",
       " 2307,\n",
       " 8848,\n",
       " 2248,\n",
       " 3423,\n",
       " 2204,\n",
       " 6174,\n",
       " 5158,\n",
       " 3473,\n",
       " 4658,\n",
       " 13559,\n",
       " 12778,\n",
       " 5523,\n",
       " 14661,\n",
       " 6893,\n",
       " 7110,\n",
       " 10008,\n",
       " 6454,\n",
       " 8029,\n",
       " 452,\n",
       " 3722,\n",
       " 7829,\n",
       " 9294,\n",
       " 4146,\n",
       " 13086,\n",
       " 14054,\n",
       " 11710,\n",
       " 2791,\n",
       " 12442,\n",
       " 15122,\n",
       " 9704,\n",
       " 7561,\n",
       " 11614,\n",
       " 130,\n",
       " 3540,\n",
       " 5016,\n",
       " 4791,\n",
       " 13764,\n",
       " 11587,\n",
       " 8642,\n",
       " 10144,\n",
       " 4613,\n",
       " 3346,\n",
       " 1386,\n",
       " 13444,\n",
       " 3486,\n",
       " 2417,\n",
       " 1654,\n",
       " 9913,\n",
       " 2974,\n",
       " 9671,\n",
       " 14738,\n",
       " 2638,\n",
       " 14799,\n",
       " 4946,\n",
       " 11295,\n",
       " 2686,\n",
       " 635,\n",
       " 8704,\n",
       " 6760,\n",
       " 9337,\n",
       " 5192,\n",
       " 3363,\n",
       " 11577,\n",
       " 8377,\n",
       " 9031,\n",
       " 1949,\n",
       " 8351,\n",
       " 11189,\n",
       " 7882,\n",
       " 14288,\n",
       " 9380,\n",
       " 3750,\n",
       " 960,\n",
       " 12051,\n",
       " 12053,\n",
       " 12014,\n",
       " 10829,\n",
       " 3946,\n",
       " 12928,\n",
       " 2835,\n",
       " 14293,\n",
       " 2930,\n",
       " 13159,\n",
       " 2979,\n",
       " 13388,\n",
       " 12511,\n",
       " 2247,\n",
       " 6904,\n",
       " 10901,\n",
       " 7322,\n",
       " 3888,\n",
       " 15182,\n",
       " 1233,\n",
       " 5185,\n",
       " 1573,\n",
       " 4041,\n",
       " 7660,\n",
       " 4872,\n",
       " 9589,\n",
       " 440,\n",
       " 1167,\n",
       " 14931,\n",
       " 14916,\n",
       " 13184,\n",
       " 11485,\n",
       " 10722,\n",
       " 1825,\n",
       " 8356,\n",
       " 13584,\n",
       " 5900,\n",
       " 10275,\n",
       " 9739,\n",
       " 7643,\n",
       " 5598,\n",
       " 10700,\n",
       " 10727,\n",
       " 11382,\n",
       " 10477,\n",
       " 4402,\n",
       " 13938,\n",
       " 2593,\n",
       " 456,\n",
       " 13024,\n",
       " 10152,\n",
       " 2566,\n",
       " 11606,\n",
       " 8803,\n",
       " 11651,\n",
       " 6895,\n",
       " 2817,\n",
       " 10605,\n",
       " 4229,\n",
       " 6272,\n",
       " 8925,\n",
       " 6727,\n",
       " 1158,\n",
       " 3765,\n",
       " 9621,\n",
       " 6289,\n",
       " 1830,\n",
       " 884,\n",
       " 5211,\n",
       " 14055,\n",
       " 7315,\n",
       " 10263,\n",
       " 1789,\n",
       " 606,\n",
       " 2152,\n",
       " 342,\n",
       " 12993,\n",
       " 1589,\n",
       " 6138,\n",
       " 6982,\n",
       " 2959,\n",
       " 15377,\n",
       " 9003,\n",
       " 2915,\n",
       " 9736,\n",
       " 4273,\n",
       " 11494,\n",
       " 14708,\n",
       " 12008,\n",
       " 5405,\n",
       " 9538,\n",
       " 12621,\n",
       " 4434,\n",
       " 12122,\n",
       " 4,\n",
       " 15100,\n",
       " 7523,\n",
       " 11683,\n",
       " 4676,\n",
       " 5872,\n",
       " 15362,\n",
       " 13304,\n",
       " 12961,\n",
       " 4834,\n",
       " 15521,\n",
       " 14652,\n",
       " 13845,\n",
       " 14852,\n",
       " 7916,\n",
       " 872,\n",
       " 10069,\n",
       " 12407,\n",
       " 11835,\n",
       " 13060,\n",
       " 5222,\n",
       " 14106,\n",
       " 10534,\n",
       " 6559,\n",
       " 7833,\n",
       " 9626,\n",
       " 6445,\n",
       " 644,\n",
       " 8491,\n",
       " 6443,\n",
       " 4893,\n",
       " 1763,\n",
       " 1966,\n",
       " 7891,\n",
       " 561,\n",
       " 2057,\n",
       " 7177,\n",
       " 5034,\n",
       " 270,\n",
       " 15066,\n",
       " 7135,\n",
       " 10861,\n",
       " 12541,\n",
       " 14518,\n",
       " 11867,\n",
       " 974,\n",
       " 9221,\n",
       " 978,\n",
       " 14123,\n",
       " 13882,\n",
       " 6734,\n",
       " 8798,\n",
       " 14547,\n",
       " 7448,\n",
       " 2326,\n",
       " 10665,\n",
       " 1218,\n",
       " 5695,\n",
       " 9938,\n",
       " 12968,\n",
       " 10080,\n",
       " 11667,\n",
       " 5854,\n",
       " 2102,\n",
       " 4290,\n",
       " 2869,\n",
       " 14104,\n",
       " 15297,\n",
       " 9427,\n",
       " 8943,\n",
       " 10325,\n",
       " 12295,\n",
       " 13808,\n",
       " 3931,\n",
       " 5437,\n",
       " 14046,\n",
       " 12228,\n",
       " 7062,\n",
       " 5136,\n",
       " 7781,\n",
       " 9433,\n",
       " 7680,\n",
       " 10011,\n",
       " 6950,\n",
       " 11406,\n",
       " 11492,\n",
       " 2371,\n",
       " 6284,\n",
       " 13263,\n",
       " 68,\n",
       " 1303,\n",
       " 4135,\n",
       " 4235,\n",
       " 3808,\n",
       " 79,\n",
       " 7648,\n",
       " 1719,\n",
       " 6689,\n",
       " 1135,\n",
       " 12568,\n",
       " 11510,\n",
       " 8154,\n",
       " 2675,\n",
       " 14825,\n",
       " 3648,\n",
       " 8266,\n",
       " 899,\n",
       " 4627,\n",
       " 7375,\n",
       " 11965,\n",
       " 1877,\n",
       " 8007,\n",
       " 10868,\n",
       " 6752,\n",
       " 15000,\n",
       " 13367,\n",
       " 3811,\n",
       " 8471,\n",
       " 11056,\n",
       " 14189,\n",
       " 12757,\n",
       " 6577,\n",
       " 3909,\n",
       " 4211,\n",
       " 9281,\n",
       " 4528,\n",
       " 7420,\n",
       " 11119,\n",
       " 3662,\n",
       " 8616,\n",
       " 944,\n",
       " 13758,\n",
       " 11872,\n",
       " 4880,\n",
       " 4671,\n",
       " 10647,\n",
       " 13900,\n",
       " 12790,\n",
       " 3120,\n",
       " 14510,\n",
       " 1108,\n",
       " 12512,\n",
       " 10103,\n",
       " 4666,\n",
       " 5313,\n",
       " 3167,\n",
       " 6740,\n",
       " 1538,\n",
       " 4006,\n",
       " 9847,\n",
       " 15349,\n",
       " 7053,\n",
       " 4174,\n",
       " 677,\n",
       " 13496,\n",
       " 10649,\n",
       " 10946,\n",
       " 9766,\n",
       " 1803,\n",
       " 8938,\n",
       " 948,\n",
       " 14913,\n",
       " 8506,\n",
       " 3300,\n",
       " 288,\n",
       " 11742,\n",
       " 7430,\n",
       " 8711,\n",
       " 13503,\n",
       " 14207,\n",
       " 2810,\n",
       " 5156,\n",
       " 3634,\n",
       " 816,\n",
       " 4187,\n",
       " 10377,\n",
       " 9431,\n",
       " 12311,\n",
       " 1343,\n",
       " 3754,\n",
       " 6223,\n",
       " 7655,\n",
       " 12989,\n",
       " 9734,\n",
       " 2024,\n",
       " 14444,\n",
       " 30,\n",
       " 7572,\n",
       " 8808,\n",
       " 5419,\n",
       " 9755,\n",
       " 14953,\n",
       " 9748,\n",
       " 14889,\n",
       " 2481,\n",
       " 1885,\n",
       " 12195,\n",
       " 939,\n",
       " 916,\n",
       " 6186,\n",
       " 1518,\n",
       " 12307,\n",
       " 8437,\n",
       " 2494,\n",
       " 9581,\n",
       " 5347,\n",
       " 9595,\n",
       " 11914,\n",
       " 1042,\n",
       " 4998,\n",
       " 2052,\n",
       " 5939,\n",
       " 5124,\n",
       " 12698,\n",
       " 9387,\n",
       " 10919,\n",
       " 4256,\n",
       " 9369,\n",
       " 9241,\n",
       " 12449,\n",
       " 5794,\n",
       " 12111,\n",
       " 9897,\n",
       " 10425,\n",
       " 13379,\n",
       " 50,\n",
       " 7331,\n",
       " 2174,\n",
       " 10858,\n",
       " 15370,\n",
       " 1948,\n",
       " 11479,\n",
       " 6865,\n",
       " 9489,\n",
       " 11740,\n",
       " 8385,\n",
       " 7409,\n",
       " 12631,\n",
       " 10304,\n",
       " 12682,\n",
       " 13163,\n",
       " 2517,\n",
       " 7301,\n",
       " 1272,\n",
       " 3637,\n",
       " 3757,\n",
       " 5110,\n",
       " 11475,\n",
       " 2508,\n",
       " 3586,\n",
       " 14036,\n",
       " 372,\n",
       " 6148,\n",
       " 3926,\n",
       " 3375,\n",
       " 279,\n",
       " 6143,\n",
       " 691,\n",
       " 13457,\n",
       " 7256,\n",
       " 3610,\n",
       " 11192,\n",
       " 5,\n",
       " 6005,\n",
       " 9367,\n",
       " 2285,\n",
       " 10150,\n",
       " 6288,\n",
       " 7163,\n",
       " 3395,\n",
       " 12963,\n",
       " 11310,\n",
       " 7001,\n",
       " 8578,\n",
       " 4092,\n",
       " 9665,\n",
       " 1853,\n",
       " 13722,\n",
       " 3147,\n",
       " 13342,\n",
       " 3866,\n",
       " 3820,\n",
       " 7784,\n",
       " 11410,\n",
       " 1232,\n",
       " 1165,\n",
       " 12448,\n",
       " 4075,\n",
       " 14944,\n",
       " 8866,\n",
       " 4954,\n",
       " 12751,\n",
       " 2321,\n",
       " 2430,\n",
       " 366,\n",
       " 3529,\n",
       " 9476,\n",
       " 2799,\n",
       " 3682,\n",
       " 4914,\n",
       " 13643,\n",
       " 6184,\n",
       " 14640,\n",
       " 9220,\n",
       " 14994,\n",
       " 13527,\n",
       " 11591,\n",
       " 14559,\n",
       " 12505,\n",
       " 13600,\n",
       " 8773,\n",
       " 8012,\n",
       " 8122,\n",
       " 2372,\n",
       " 11960,\n",
       " 10009,\n",
       " 12478,\n",
       " 15519,\n",
       " 4379,\n",
       " 4373,\n",
       " 10146,\n",
       " 7889,\n",
       " 2927,\n",
       " 14773,\n",
       " 4130,\n",
       " 6512,\n",
       " 14012,\n",
       " 1636,\n",
       " 14256,\n",
       " 59,\n",
       " 2833,\n",
       " 2018,\n",
       " 1514,\n",
       " 12894,\n",
       " 13428,\n",
       " 14375,\n",
       " 6101,\n",
       " 7693,\n",
       " 3401,\n",
       " 11004,\n",
       " 1074,\n",
       " 1727,\n",
       " 2533,\n",
       " 15386,\n",
       " 6847,\n",
       " 2571,\n",
       " 12774,\n",
       " 8092,\n",
       " 3773,\n",
       " 4905,\n",
       " 15239,\n",
       " 5711,\n",
       " 6110,\n",
       " 8548,\n",
       " 1432,\n",
       " 5717,\n",
       " 14468,\n",
       " 6618,\n",
       " 2665,\n",
       " 3277,\n",
       " 9857,\n",
       " 5328,\n",
       " 1726,\n",
       " 4930,\n",
       " 12103,\n",
       " 11498,\n",
       " 10045,\n",
       " 6746,\n",
       " 3633,\n",
       " 3464,\n",
       " 14718,\n",
       " 15310,\n",
       " 975,\n",
       " 9256,\n",
       " 1775,\n",
       " 4140,\n",
       " 4052,\n",
       " 10857,\n",
       " 3364,\n",
       " 10403,\n",
       " 1248,\n",
       " 3366,\n",
       " 1161,\n",
       " 7362,\n",
       " 10369,\n",
       " 7627,\n",
       " 5429,\n",
       " 43,\n",
       " 4201,\n",
       " 12542,\n",
       " 426,\n",
       " 1992,\n",
       " 15350,\n",
       " 15435,\n",
       " 14149,\n",
       " 723,\n",
       " 7585,\n",
       " 8360,\n",
       " 9425,\n",
       " 1739,\n",
       " 4751,\n",
       " 10765,\n",
       " 3551,\n",
       " 8237,\n",
       " 6203,\n",
       " 14492,\n",
       " 7835,\n",
       " 12020,\n",
       " 4586,\n",
       " 58,\n",
       " 6764,\n",
       " 12058,\n",
       " 5981,\n",
       " 8193,\n",
       " 3302,\n",
       " 15366,\n",
       " 12615,\n",
       " 1136,\n",
       " 12126,\n",
       " 13940,\n",
       " 12732,\n",
       " 8281,\n",
       " 77,\n",
       " 10070,\n",
       " 9995,\n",
       " 5236,\n",
       " 3299,\n",
       " 9830,\n",
       " 12609,\n",
       " 1562,\n",
       " 7701,\n",
       " 12766,\n",
       " 4062,\n",
       " 7441,\n",
       " 10503,\n",
       " 1592,\n",
       " 9071,\n",
       " 2237,\n",
       " 10724,\n",
       " 8687,\n",
       " 1075,\n",
       " 1864,\n",
       " 7750,\n",
       " 10168,\n",
       " 3818,\n",
       " 11548,\n",
       " 7257,\n",
       " 3249,\n",
       " 8794,\n",
       " 4808,\n",
       " 2197,\n",
       " 12496,\n",
       " 9365,\n",
       " 6665,\n",
       " 8246,\n",
       " 4340,\n",
       " 3320,\n",
       " 5170,\n",
       " 10607,\n",
       " 534,\n",
       " 2200,\n",
       " 9308,\n",
       " 13419,\n",
       " 6418,\n",
       " 1004,\n",
       " 1203,\n",
       " 10112,\n",
       " 9514,\n",
       " 605,\n",
       " 8609,\n",
       " 15471,\n",
       " 3197,\n",
       " 5837,\n",
       " 6034,\n",
       " 6902,\n",
       " 12349,\n",
       " 2456,\n",
       " 14250,\n",
       " 15046,\n",
       " 5798,\n",
       " 11643,\n",
       " 7183,\n",
       " 8822,\n",
       " 3632,\n",
       " 4394,\n",
       " 14028,\n",
       " 11819,\n",
       " 684,\n",
       " 5692,\n",
       " 9585,\n",
       " 13473,\n",
       " 5346,\n",
       " 10476,\n",
       " 13160,\n",
       " 7353,\n",
       " 972,\n",
       " 11028,\n",
       " 14647,\n",
       " 8398,\n",
       " 8727,\n",
       " 10233,\n",
       " 11060,\n",
       " 3240,\n",
       " 12692,\n",
       " 12716,\n",
       " 1973,\n",
       " 1236,\n",
       " 12086,\n",
       " 11350,\n",
       " 7491,\n",
       " 10116,\n",
       " 9584,\n",
       " 5397,\n",
       " 14266,\n",
       " 13557,\n",
       " 5754,\n",
       " 5329,\n",
       " 8342,\n",
       " 1224,\n",
       " 13654,\n",
       " 1601,\n",
       " 7085,\n",
       " 8785,\n",
       " 2509,\n",
       " 10174,\n",
       " 11953,\n",
       " 1177,\n",
       " 7715,\n",
       " 6460,\n",
       " 1826,\n",
       " 12242,\n",
       " 4360,\n",
       " 676,\n",
       " 259,\n",
       " 3953,\n",
       " 4303,\n",
       " 14766,\n",
       " 3548,\n",
       " 1935,\n",
       " 7225,\n",
       " 7171,\n",
       " 3844,\n",
       " 13598,\n",
       " 11741,\n",
       " 9141,\n",
       " 2478,\n",
       " 14828,\n",
       " 4821,\n",
       " 9554,\n",
       " 8284,\n",
       " 11347,\n",
       " 510,\n",
       " 11408,\n",
       " 1001,\n",
       " 8740,\n",
       " 444,\n",
       " 9197,\n",
       " 7500,\n",
       " 2340,\n",
       " 12281,\n",
       " 8481,\n",
       " 4292,\n",
       " 1134,\n",
       " 12877,\n",
       " 6685,\n",
       " 14013,\n",
       " 6495,\n",
       " 12972,\n",
       " 2967,\n",
       " 10705,\n",
       " 4319,\n",
       " 6921,\n",
       " 3042,\n",
       " 11734,\n",
       " 5164,\n",
       " 5468,\n",
       " 5853,\n",
       " 6050,\n",
       " 13479,\n",
       " 12077,\n",
       " 1053,\n",
       " 11959,\n",
       " 2007,\n",
       " 11198,\n",
       " 5081,\n",
       " 6167,\n",
       " 2318,\n",
       " 14741,\n",
       " 9218,\n",
       " 1339,\n",
       " 13961,\n",
       " 8589,\n",
       " 6603,\n",
       " 2261,\n",
       " 8501,\n",
       " 6724,\n",
       " 8916,\n",
       " 9568,\n",
       " 4428,\n",
       " 4955,\n",
       " 2613,\n",
       " 7450,\n",
       " 12890,\n",
       " 382,\n",
       " 1207,\n",
       " 222,\n",
       " 11158,\n",
       " 7690,\n",
       " 6111,\n",
       " 14287,\n",
       " 2224,\n",
       " 6557,\n",
       " 265,\n",
       " 13299,\n",
       " 8116,\n",
       " 4186,\n",
       " 3070,\n",
       " 13325,\n",
       " 14845,\n",
       " 4224,\n",
       " 10685,\n",
       " 4769,\n",
       " 9956,\n",
       " 256,\n",
       " 13332,\n",
       " 1679,\n",
       " 1271,\n",
       " 8021,\n",
       " 9146,\n",
       " 14528,\n",
       " 9210,\n",
       " 8177,\n",
       " ...]"
      ]
     },
     "execution_count": 63,
     "metadata": {},
     "output_type": "execute_result"
    }
   ],
   "source": [
    "itest"
   ]
  },
  {
   "cell_type": "markdown",
   "metadata": {},
   "source": [
    "<div class=\"span5 alert alert-info\">\n",
    "<h3>Exercise Set IV</h3>\n",
    "\n",
    "<p><b>Exercise:</b> What does using the function `log_likelihood` as the score mean? What are we trying to optimize for?</p>\n",
    "\n",
    "<p><b>Exercise:</b> Without writing any code, what do you think would happen if you choose a value of $\\alpha$ that is too high?</p>\n",
    "\n",
    "<p><b>Exercise:</b> Using the skeleton code below, find the best values of the parameter `alpha`, and use the value of `min_df` you chose in the previous exercise set. Use the `cv_score` function above with the `log_likelihood` function for scoring.</p>\n",
    "</div>"
   ]
  },
  {
   "cell_type": "markdown",
   "metadata": {},
   "source": [
    "Using 'log-likelihood' as the score for cross-validation means that we are optimizing the model based on this score. This is the metric that will distinguish between the merit of different models. \n",
    "\n",
    "The alpha value is used in the calculation of probability of seeing a feature given a certain class. In case the frequency of a certain feature from the training set is 0 in the test set, the probability of observing that value would become 0 without the alpha parameter. Therefore, a negligibly small alpha value is used to show a very low probability of observing this term. If a large value of alpha was used, the probability would move towards a value of 1 as the alpha term would dominate in both the numerator and denominator. A value of 1 for such terms is a faulty value as we would want this term to have a very low probability (close to 0). Therefore, this could inject errors into the model and lead to incorrect predictions. "
   ]
  },
  {
   "cell_type": "code",
   "execution_count": 64,
   "metadata": {},
   "outputs": [
    {
     "name": "stdout",
     "output_type": "stream",
     "text": [
      "-944.2330472734586\n",
      "-628.3663978202877\n",
      "-1078.3550479900682\n",
      "-1326.3857067791826\n",
      "-1416.4313394101985\n"
     ]
    }
   ],
   "source": [
    "from sklearn.naive_bayes import MultinomialNB\n",
    "\n",
    "#the grid of parameters to search over\n",
    "alphas = [.1, 1, 5, 10, 50]\n",
    "best_min_df = 2 # YOUR TURN: put your value of min_df here.\n",
    "\n",
    "#Find the best value for alpha and min_df, and the best classifier\n",
    "best_alpha = None\n",
    "maxscore=-np.inf\n",
    "for alpha in alphas:        \n",
    "    vectorizer = CountVectorizer(min_df=best_min_df)       \n",
    "    Xthis, ythis = make_xy(critics, vectorizer)\n",
    "    Xtrainthis = Xthis[mask]\n",
    "    ytrainthis = ythis[mask]\n",
    "    # your turn\n",
    "    mnb = MultinomialNB(alpha=alpha)\n",
    "    score = cv_score(mnb, Xtrainthis, ytrainthis, log_likelihood)\n",
    "    print (score)\n",
    "    if  score > maxscore:\n",
    "        maxscore = score\n",
    "        best_alpha = alpha"
   ]
  },
  {
   "cell_type": "code",
   "execution_count": 65,
   "metadata": {},
   "outputs": [
    {
     "name": "stdout",
     "output_type": "stream",
     "text": [
      "alpha: 1\n"
     ]
    }
   ],
   "source": [
    "print(\"alpha: {}\".format(best_alpha))"
   ]
  },
  {
   "cell_type": "markdown",
   "metadata": {},
   "source": [
    "<div class=\"span5 alert alert-info\">\n",
    "<h3>Exercise Set V: Working with the Best Parameters</h3>\n",
    "\n",
    "<p><b>Exercise:</b> Using the best value of  `alpha` you just found, calculate the accuracy on the training and test sets. Is this classifier better? Why (not)?</p>\n",
    "\n",
    "</div>"
   ]
  },
  {
   "cell_type": "code",
   "execution_count": 66,
   "metadata": {},
   "outputs": [
    {
     "name": "stdout",
     "output_type": "stream",
     "text": [
      "Accuracy on training data: 0.932320\n",
      "Accuracy on test data:     0.734576\n"
     ]
    }
   ],
   "source": [
    "vectorizer = CountVectorizer(min_df=best_min_df)\n",
    "X, y = make_xy(critics, vectorizer)\n",
    "xtrain=X[mask]\n",
    "ytrain=y[mask]\n",
    "xtest=X[~mask]\n",
    "ytest=y[~mask]\n",
    "\n",
    "clf = MultinomialNB(alpha=best_alpha).fit(xtrain, ytrain)\n",
    "\n",
    "#your turn. Print the accuracy on the test and training dataset\n",
    "training_accuracy = clf.score(xtrain, ytrain)\n",
    "test_accuracy = clf.score(xtest, ytest)\n",
    "\n",
    "print(\"Accuracy on training data: {:2f}\".format(training_accuracy))\n",
    "print(\"Accuracy on test data:     {:2f}\".format(test_accuracy))"
   ]
  },
  {
   "cell_type": "code",
   "execution_count": 67,
   "metadata": {},
   "outputs": [
    {
     "name": "stdout",
     "output_type": "stream",
     "text": [
      "[[2306 2003]\n",
      " [ 888 5695]]\n"
     ]
    }
   ],
   "source": [
    "from sklearn.metrics import confusion_matrix\n",
    "print(confusion_matrix(ytest, clf.predict(xtest)))"
   ]
  },
  {
   "cell_type": "markdown",
   "metadata": {},
   "source": [
    "Both train and test set scores dropped from previous values. Therefore the model does not perform better. "
   ]
  },
  {
   "cell_type": "markdown",
   "metadata": {},
   "source": [
    "## Interpretation"
   ]
  },
  {
   "cell_type": "markdown",
   "metadata": {},
   "source": [
    "### What are the strongly predictive features?\n",
    "\n",
    "We use a neat trick to identify strongly predictive features (i.e. words). \n",
    "\n",
    "* first, create a data set such that each row has exactly one feature. This is represented by the identity matrix.\n",
    "* use the trained classifier to make predictions on this matrix\n",
    "* sort the rows by predicted probabilities, and pick the top and bottom $K$ rows"
   ]
  },
  {
   "cell_type": "code",
   "execution_count": 68,
   "metadata": {},
   "outputs": [
    {
     "name": "stdout",
     "output_type": "stream",
     "text": [
      "Good words\t     P(fresh | word)\n",
      "            powerful 0.97\n",
      "               witty 0.95\n",
      "         beautifully 0.95\n",
      "              finest 0.94\n",
      "             delight 0.94\n",
      "              superb 0.94\n",
      "              stands 0.94\n",
      "            touching 0.94\n",
      "          remarkable 0.94\n",
      "         brilliantly 0.93\n",
      "Bad words\t     P(fresh | word)\n",
      "             tedious 0.14\n",
      "            sluggish 0.14\n",
      "         forgettable 0.14\n",
      "          uninspired 0.12\n",
      "           resembles 0.12\n",
      "     disappointingly 0.12\n",
      "              dreary 0.11\n",
      "              nobody 0.11\n",
      "             unfunny 0.08\n",
      "                dull 0.05\n"
     ]
    }
   ],
   "source": [
    "words = np.array(vectorizer.get_feature_names())\n",
    "\n",
    "x = np.eye(xtest.shape[1]) #Identiy matrix using the number of features/columns. Each row then has exactly one feature\n",
    "probs = clf.predict_log_proba(x)[:, 0]\n",
    "ind = np.argsort(probs) #Provides the indexes of the sorted array\n",
    "\n",
    "good_words = words[ind[:10]]\n",
    "bad_words = words[ind[-10:]]\n",
    "\n",
    "good_prob = probs[ind[:10]]\n",
    "bad_prob = probs[ind[-10:]]\n",
    "\n",
    "print(\"Good words\\t     P(fresh | word)\")\n",
    "for w, p in zip(good_words, good_prob):\n",
    "    print(\"{:>20}\".format(w), \"{:.2f}\".format(1 - np.exp(p)))\n",
    "    \n",
    "print(\"Bad words\\t     P(fresh | word)\")\n",
    "for w, p in zip(bad_words, bad_prob):\n",
    "    print(\"{:>20}\".format(w), \"{:.2f}\".format(1 - np.exp(p)))"
   ]
  },
  {
   "cell_type": "markdown",
   "metadata": {},
   "source": [
    "### Analyzing the probabilities further"
   ]
  },
  {
   "cell_type": "code",
   "execution_count": 69,
   "metadata": {},
   "outputs": [
    {
     "name": "stdout",
     "output_type": "stream",
     "text": [
      "Rotten probabilties:  [-0.74490404 -0.74490404 -0.90623463 ... -0.74490404 -0.9780851\n",
      " -1.46295858]\n",
      "Bag of words:  ['000' '007' '10' ... 'zorro' 'zucker' 'zwick']\n",
      "First log prob of rotten class:  -0.7449040370642432\n",
      "First exp of rotten class:  0.4747798590229958\n",
      "First 1-exp of rotten class:  0.5252201409770042\n",
      "First log prob of fresh class:  -0.7449040370642432\n",
      "First exp of rotten class:  0.4747798590229958\n",
      "First 1-exp of rotten class:  0.5252201409770042\n"
     ]
    },
    {
     "data": {
      "text/plain": [
       "[<matplotlib.lines.Line2D at 0x7fa172249518>]"
      ]
     },
     "execution_count": 69,
     "metadata": {},
     "output_type": "execute_result"
    },
    {
     "data": {
      "image/png": "[encoded data removed]",
      "text/plain": [
       "<Figure size 432x288 with 1 Axes>"
      ]
     },
     "metadata": {},
     "output_type": "display_data"
    }
   ],
   "source": [
    "print (\"Rotten probabilties: \",clf.predict_log_proba(x)[:,0])\n",
    "print (\"Bag of words: \",words)\n",
    "print (\"First log prob of rotten class: \",clf.predict_log_proba(x)[:,0][0])\n",
    "print (\"First exp of rotten class: \",np.exp(clf.predict_log_proba(x)[:,0][0]))\n",
    "print (\"First 1-exp of rotten class: \",1-np.exp(clf.predict_log_proba(x)[:,0][0]))\n",
    "print (\"First log prob of fresh class: \",clf.predict_log_proba(x)[:,0][1])\n",
    "print (\"First exp of rotten class: \",np.exp(clf.predict_log_proba(x)[:,0][1]))\n",
    "print (\"First 1-exp of rotten class: \",1-np.exp(clf.predict_log_proba(x)[:,0][1]))\n",
    "plt.plot(clf.predict_log_proba(x)[:,0])"
   ]
  },
  {
   "cell_type": "markdown",
   "metadata": {},
   "source": [
    "### Feature importance extraction from Stack Overflow\n",
    "\n",
    "You can get the important of each word out of the fit model by using the coefs_ or feature_log_prob_ attributes. For example\n",
    "\n",
    "neg_class_prob_sorted = NB_optimal.feature_log_prob_[0, :].argsort()\n",
    "\n",
    "pos_class_prob_sorted = NB_optimal.feature_log_prob_[1, :].argsort()\n",
    "\n",
    "print(np.take(count_vect.get_feature_names(), neg_class_prob_sorted[:10]))\n",
    "\n",
    "print(np.take(count_vect.get_feature_names(), pos_class_prob_sorted[:10]))\n",
    "Prints the top ten most predictive words for each of your classes."
   ]
  },
  {
   "cell_type": "code",
   "execution_count": 70,
   "metadata": {},
   "outputs": [
    {
     "data": {
      "text/plain": [
       "array([[ -9.61829128, -10.02375638,  -8.9251441 , ..., -10.71690357,\n",
       "        -10.02375638, -10.71690357],\n",
       "       [-10.01071133, -10.41617644,  -9.02988208, ..., -11.10932362,\n",
       "        -10.01071133, -10.01071133]])"
      ]
     },
     "execution_count": 70,
     "metadata": {},
     "output_type": "execute_result"
    }
   ],
   "source": [
    "clf.feature_log_prob_"
   ]
  },
  {
   "cell_type": "markdown",
   "metadata": {},
   "source": [
    "<div class=\"span5 alert alert-info\">\n",
    "<h3>Exercise Set VI</h3>\n",
    "\n",
    "<p><b>Exercise:</b> Why does this method work? What does the probability for each row in the identity matrix represent</p>\n",
    "\n",
    "</div>"
   ]
  },
  {
   "cell_type": "markdown",
   "metadata": {},
   "source": [
    "From what I understand, the probability in each row is actually the log probability. The standard probability values ([0,1]) can be retrieved by applying the exponential function to the log probabilities. "
   ]
  },
  {
   "cell_type": "markdown",
   "metadata": {},
   "source": [
    "The above exercise is an example of *feature selection*. There are many other feature selection methods. A list of feature selection methods available in `sklearn` is [here](http://scikit-learn.org/stable/modules/classes.html#module-sklearn.feature_selection). The most common feature selection technique for text mining is the chi-squared $\\left( \\chi^2 \\right)$ [method](http://nlp.stanford.edu/IR-book/html/htmledition/feature-selectionchi2-feature-selection-1.html)."
   ]
  },
  {
   "cell_type": "markdown",
   "metadata": {},
   "source": [
    "### Prediction Errors\n",
    "\n",
    "We can see mis-predictions as well."
   ]
  },
  {
   "cell_type": "code",
   "execution_count": 71,
   "metadata": {},
   "outputs": [
    {
     "name": "stdout",
     "output_type": "stream",
     "text": [
      "[ True  True  True ...  True  True  True]\n",
      "[1 1 1 ... 1 1 1]\n"
     ]
    }
   ],
   "source": [
    "x, y = make_xy(critics, vectorizer)\n",
    "\n",
    "probs_fresh = clf.predict_proba(x)[:,1] > 0.5\n",
    "print (probs_fresh)\n",
    "print (y)\n"
   ]
  },
  {
   "cell_type": "code",
   "execution_count": 72,
   "metadata": {},
   "outputs": [
    {
     "name": "stdout",
     "output_type": "stream",
     "text": [
      "Mis-predicted Rotten quotes\n",
      "---------------------------\n",
      "Pale Rider does nothing to disprove the wisdom that this genre is best left to the revival houses. A double feature of Shane and Eastwood's High Plains Drifter will do just fine, thanks.\n",
      "\n",
      "Working from an Elmore Leonard novel, Tarantino has created a gangster fiction that is never larger than life and sometimes smaller.\n",
      "\n",
      "Mr. Rodriguez demonstrates his talents more clearly than ever -- he's visually inventive, quick-witted and a fabulous editor -- while still hampering himself with sophomoric material.\n",
      "\n",
      "At best, it is fun. But \"fun\" is not an aesthetic experience: fun remains on the surface. I have nothing against the surface. But it belongs where it is and shouldn't be taken for anything else.\n",
      "\n",
      "This pacifist spirit of brotherhood echoes the heroics in Princess Mononoke and other anime titles, but the artistic gap between the Miyazaki masterpiece and this project is huge.\n",
      "\n",
      "Mis-predicted Fresh quotes\n",
      "--------------------------\n",
      "Certain, probably arrested, personalities (like mine) just find this kind of sh*t pretty funny and any attempt to talk your way around that is, as Cartman would say, blowing bubbles out your *ss.\n",
      "\n",
      "The players, who include Simon Callow, Kristin Scott Thomas, Rowan Atkinson and Sophie Thompson, exude comedic brightness as they go about their gossipy, farcical, self-deprecating, sorry-about-that-old-chap, just-being-English business.\n",
      "\n",
      "It isn't without some zip, though you have to wonder why the producers bothered when the censors demanded that the dancers be shown only from the neck up.\n",
      "\n",
      "Weighed down by a dull setup featuring Ralph 'Karate Kid' Macchio, the movie gets a much-needed charge from Pesci, a bundle of bandy-legged impudence as Macchio's lawyer cousin, Vincent Gambini.\n",
      "\n",
      "This one is neither crude clowning nor crude prejudice, but a literate and knowingly directed satire which lands many a shrewd crack about phony Five Year Plans, collective farms, Communist jargon and pseudo-scientific gab.\n",
      "\n"
     ]
    }
   ],
   "source": [
    "x, y = make_xy(critics, vectorizer)\n",
    "\n",
    "prob = clf.predict_proba(x)[:, 0]\n",
    "predict = clf.predict(x)\n",
    "\n",
    "bad_rotten = np.argsort(prob[y == 0])[:5]\n",
    "bad_fresh = np.argsort(prob[y == 1])[-5:]\n",
    "\n",
    "print(\"Mis-predicted Rotten quotes\")\n",
    "print('---------------------------')\n",
    "for row in bad_rotten:\n",
    "    print(critics[y == 0].quote.iloc[row])\n",
    "    print(\"\")\n",
    "\n",
    "print(\"Mis-predicted Fresh quotes\")\n",
    "print('--------------------------')\n",
    "for row in bad_fresh:\n",
    "    print(critics[y == 1].quote.iloc[row])\n",
    "    print(\"\")"
   ]
  },
  {
   "cell_type": "markdown",
   "metadata": {},
   "source": [
    "<div class=\"span5 alert alert-info\">\n",
    "<h3>Exercise Set VII: Predicting the Freshness for a New Review</h3>\n",
    "<br/>\n",
    "<div>\n",
    "<b>Exercise:</b>\n",
    "<ul>\n",
    "<li> Using your best trained classifier, predict the freshness of the following sentence: *'This movie is not remarkable, touching, or superb in any way'*\n",
    "<li> Is the result what you'd expect? Why (not)?\n",
    "</ul>\n",
    "</div>\n",
    "</div>"
   ]
  },
  {
   "cell_type": "code",
   "execution_count": 103,
   "metadata": {},
   "outputs": [],
   "source": [
    "#your turn\n",
    "#sent = ['plot was uninspiring']\n",
    "sent = ['This movie is not remarkable, touching, or superb in any way']\n",
    "vect = CountVectorizer()\n",
    "vect.fit(critics.quote)\n",
    "x = vect.transform(sent)"
   ]
  },
  {
   "cell_type": "code",
   "execution_count": 104,
   "metadata": {},
   "outputs": [
    {
     "data": {
      "text/plain": [
       "array([1])"
      ]
     },
     "execution_count": 104,
     "metadata": {},
     "output_type": "execute_result"
    }
   ],
   "source": [
    "pred = model.predict(x)\n",
    "pred"
   ]
  },
  {
   "cell_type": "markdown",
   "metadata": {},
   "source": [
    "The prediction was 'fresh'. Although, from the sentiment used in the quote, it is a negative review. Therefore, the prediction was wrong.\n",
    "\n",
    "One reason for this could be due to the context and the placement of certain words. It is possible that the model is looking at words like remarkable, touching and superb as positive words but not taking into account the word 'not'."
   ]
  },
  {
   "cell_type": "markdown",
   "metadata": {},
   "source": [
    "### Aside: TF-IDF Weighting for Term Importance\n",
    "\n",
    "TF-IDF stands for \n",
    "\n",
    "`Term-Frequency X Inverse Document Frequency`.\n",
    "\n",
    "In the standard `CountVectorizer` model above, we used just the term frequency in a document of words in our vocabulary. In TF-IDF, we weight this term frequency by the inverse of its popularity in all documents. For example, if the word \"movie\" showed up in all the documents, it would not have much predictive value. It could actually be considered a stopword. By weighing its counts by 1 divided by its overall frequency, we downweight it. We can then use this TF-IDF weighted features as inputs to any classifier. **TF-IDF is essentially a measure of term importance, and of how discriminative a word is in a corpus.** There are a variety of nuances involved in computing TF-IDF, mainly involving where to add the smoothing term to avoid division by 0, or log of 0 errors. The formula for TF-IDF in `scikit-learn` differs from that of most textbooks: \n",
    "\n",
    "$$\\mbox{TF-IDF}(t, d) = \\mbox{TF}(t, d)\\times \\mbox{IDF}(t) = n_{td} \\log{\\left( \\frac{\\vert D \\vert}{\\vert d : t \\in d \\vert} + 1 \\right)}$$\n",
    "\n",
    "where $n_{td}$ is the number of times term $t$ occurs in document $d$, $\\vert D \\vert$ is the number of documents, and $\\vert d : t \\in d \\vert$ is the number of documents that contain $t$"
   ]
  },
  {
   "cell_type": "code",
   "execution_count": null,
   "metadata": {
    "collapsed": true
   },
   "outputs": [],
   "source": [
    "# http://scikit-learn.org/dev/modules/feature_extraction.html#text-feature-extraction\n",
    "# http://scikit-learn.org/dev/modules/classes.html#text-feature-extraction-ref\n",
    "from sklearn.feature_extraction.text import TfidfVectorizer\n",
    "tfidfvectorizer = TfidfVectorizer(min_df=1, stop_words='english')\n",
    "Xtfidf=tfidfvectorizer.fit_transform(critics.quote)"
   ]
  },
  {
   "cell_type": "markdown",
   "metadata": {},
   "source": [
    "<div class=\"span5 alert alert-info\">\n",
    "<h3>Exercise Set VIII: Enrichment <b>(Optional)</b></h3>\n",
    "\n",
    "<p>\n",
    "There are several additional things we could try. Try some of these as exercises:\n",
    "<ol>\n",
    "<li> Build a Naive Bayes model where the features are n-grams instead of words. N-grams are phrases containing n words next to each other: a bigram contains 2 words, a trigram contains 3 words, and 6-gram contains 6 words. This is useful because \"not good\" and \"so good\" mean very different things. On the other hand, as n increases, the model does not scale well since the feature set becomes more sparse.\n",
    "<li> Try a model besides Naive Bayes, one that would allow for interactions between words -- for example, a Random Forest classifier.\n",
    "<li> Try adding supplemental features -- information about genre, director, cast, etc.\n",
    "<li> Use word2vec or [Latent Dirichlet Allocation](https://en.wikipedia.org/wiki/Latent_Dirichlet_allocation) to group words into topics and use those topics for prediction.\n",
    "<li> Use TF-IDF weighting instead of word counts.\n",
    "</ol>\n",
    "</p>\n",
    "\n",
    "<b>Exercise:</b> Try at least one of these ideas to improve the model (or any other ideas of your own). Implement here and report on the result. \n",
    "</div>"
   ]
  },
  {
   "cell_type": "code",
   "execution_count": null,
   "metadata": {
    "collapsed": true
   },
   "outputs": [],
   "source": [
    "# Your turn"
   ]
  }
 ],
 "metadata": {
  "kernelspec": {
   "display_name": "conda_tensorflow_p36",
   "language": "python",
   "name": "conda_tensorflow_p36"
  },
  "language_info": {
   "codemirror_mode": {
    "name": "ipython",
    "version": 3
   },
   "file_extension": ".py",
   "mimetype": "text/x-python",
   "name": "python",
   "nbconvert_exporter": "python",
   "pygments_lexer": "ipython3",
   "version": "3.6.5"
  }
 },
 "nbformat": 4,
 "nbformat_minor": 1
}
