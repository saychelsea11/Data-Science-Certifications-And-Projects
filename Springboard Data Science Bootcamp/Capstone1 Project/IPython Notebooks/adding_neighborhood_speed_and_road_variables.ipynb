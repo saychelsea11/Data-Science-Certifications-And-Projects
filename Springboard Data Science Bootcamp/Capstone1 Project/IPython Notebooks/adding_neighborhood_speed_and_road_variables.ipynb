{
 "cells": [
  {
   "cell_type": "markdown",
   "metadata": {},
   "source": [
    "# 1. Importing libraries"
   ]
  },
  {
   "cell_type": "code",
   "execution_count": 256,
   "metadata": {},
   "outputs": [],
   "source": [
    "import pandas as pd\n",
    "import numpy as np\n",
    "import requests\n",
    "from bs4 import BeautifulSoup\n",
    "import time\n",
    "import seaborn as sns\n",
    "import matplotlib.pyplot as plt\n",
    "import warnings\n",
    "warnings.filterwarnings('ignore')\n",
    "import json\n",
    "import pprint\n",
    "import re"
   ]
  },
  {
   "cell_type": "markdown",
   "metadata": {},
   "source": [
    "# 2. Loading the cleaned dataset"
   ]
  },
  {
   "cell_type": "code",
   "execution_count": 257,
   "metadata": {},
   "outputs": [
    {
     "name": "stdout",
     "output_type": "stream",
     "text": [
      "(205394, 27)\n"
     ]
    },
    {
     "data": {
      "text/html": [
       "<div>\n",
       "<style scoped>\n",
       "    .dataframe tbody tr th:only-of-type {\n",
       "        vertical-align: middle;\n",
       "    }\n",
       "\n",
       "    .dataframe tbody tr th {\n",
       "        vertical-align: top;\n",
       "    }\n",
       "\n",
       "    .dataframe thead th {\n",
       "        text-align: right;\n",
       "    }\n",
       "</style>\n",
       "<table border=\"1\" class=\"dataframe\">\n",
       "  <thead>\n",
       "    <tr style=\"text-align: right;\">\n",
       "      <th></th>\n",
       "      <th>Longitude</th>\n",
       "      <th>Latitude</th>\n",
       "      <th>Status</th>\n",
       "      <th>Address Type</th>\n",
       "      <th>Severity Description</th>\n",
       "      <th>Collision Type</th>\n",
       "      <th>Number of People Involved</th>\n",
       "      <th>Number of Pedestrians Involved</th>\n",
       "      <th>Number of Bicycles Involved</th>\n",
       "      <th>Number of Vehicles Involved</th>\n",
       "      <th>...</th>\n",
       "      <th>Weather</th>\n",
       "      <th>Road Condition</th>\n",
       "      <th>Light Condition</th>\n",
       "      <th>STATE Collision Description</th>\n",
       "      <th>Hit Parked Car</th>\n",
       "      <th>Year</th>\n",
       "      <th>Month</th>\n",
       "      <th>Date</th>\n",
       "      <th>Hour</th>\n",
       "      <th>Minute</th>\n",
       "    </tr>\n",
       "  </thead>\n",
       "  <tbody>\n",
       "    <tr>\n",
       "      <th>0</th>\n",
       "      <td>-122.292141</td>\n",
       "      <td>47.536087</td>\n",
       "      <td>Matched</td>\n",
       "      <td>Block</td>\n",
       "      <td>Property Damage Only Collision</td>\n",
       "      <td>Sideswipe</td>\n",
       "      <td>2</td>\n",
       "      <td>0</td>\n",
       "      <td>0</td>\n",
       "      <td>2</td>\n",
       "      <td>...</td>\n",
       "      <td>Raining</td>\n",
       "      <td>Wet</td>\n",
       "      <td>Daylight</td>\n",
       "      <td>From same direction - both going straight - bo...</td>\n",
       "      <td>N</td>\n",
       "      <td>2018</td>\n",
       "      <td>12</td>\n",
       "      <td>12</td>\n",
       "      <td>15</td>\n",
       "      <td>49</td>\n",
       "    </tr>\n",
       "    <tr>\n",
       "      <th>1</th>\n",
       "      <td>-122.335422</td>\n",
       "      <td>47.598752</td>\n",
       "      <td>Matched</td>\n",
       "      <td>Block</td>\n",
       "      <td>Property Damage Only Collision</td>\n",
       "      <td>Other</td>\n",
       "      <td>1</td>\n",
       "      <td>0</td>\n",
       "      <td>0</td>\n",
       "      <td>1</td>\n",
       "      <td>...</td>\n",
       "      <td>Raining</td>\n",
       "      <td>Wet</td>\n",
       "      <td>Dark - Street Lights On</td>\n",
       "      <td>Fixed object</td>\n",
       "      <td>N</td>\n",
       "      <td>2018</td>\n",
       "      <td>12</td>\n",
       "      <td>16</td>\n",
       "      <td>2</td>\n",
       "      <td>44</td>\n",
       "    </tr>\n",
       "    <tr>\n",
       "      <th>2</th>\n",
       "      <td>-122.331579</td>\n",
       "      <td>47.598746</td>\n",
       "      <td>Matched</td>\n",
       "      <td>Block</td>\n",
       "      <td>Property Damage Only Collision</td>\n",
       "      <td>Sideswipe</td>\n",
       "      <td>2</td>\n",
       "      <td>0</td>\n",
       "      <td>0</td>\n",
       "      <td>2</td>\n",
       "      <td>...</td>\n",
       "      <td>Overcast</td>\n",
       "      <td>Dry</td>\n",
       "      <td>Daylight</td>\n",
       "      <td>From same direction - both going straight - bo...</td>\n",
       "      <td>N</td>\n",
       "      <td>2018</td>\n",
       "      <td>12</td>\n",
       "      <td>17</td>\n",
       "      <td>13</td>\n",
       "      <td>26</td>\n",
       "    </tr>\n",
       "    <tr>\n",
       "      <th>3</th>\n",
       "      <td>-122.334188</td>\n",
       "      <td>47.571578</td>\n",
       "      <td>Matched</td>\n",
       "      <td>Block</td>\n",
       "      <td>Property Damage Only Collision</td>\n",
       "      <td>Other</td>\n",
       "      <td>2</td>\n",
       "      <td>0</td>\n",
       "      <td>0</td>\n",
       "      <td>1</td>\n",
       "      <td>...</td>\n",
       "      <td>Raining</td>\n",
       "      <td>Wet</td>\n",
       "      <td>Dark - Street Lights On</td>\n",
       "      <td>Fixed object</td>\n",
       "      <td>N</td>\n",
       "      <td>2018</td>\n",
       "      <td>12</td>\n",
       "      <td>20</td>\n",
       "      <td>2</td>\n",
       "      <td>25</td>\n",
       "    </tr>\n",
       "    <tr>\n",
       "      <th>5</th>\n",
       "      <td>-122.337348</td>\n",
       "      <td>47.520472</td>\n",
       "      <td>Matched</td>\n",
       "      <td>Block</td>\n",
       "      <td>Injury Collision</td>\n",
       "      <td>Sideswipe</td>\n",
       "      <td>2</td>\n",
       "      <td>0</td>\n",
       "      <td>0</td>\n",
       "      <td>2</td>\n",
       "      <td>...</td>\n",
       "      <td>Clear or Partly Cloudy</td>\n",
       "      <td>Dry</td>\n",
       "      <td>Dark - Street Lights On</td>\n",
       "      <td>From same direction - both going straight - bo...</td>\n",
       "      <td>N</td>\n",
       "      <td>2018</td>\n",
       "      <td>12</td>\n",
       "      <td>14</td>\n",
       "      <td>17</td>\n",
       "      <td>33</td>\n",
       "    </tr>\n",
       "  </tbody>\n",
       "</table>\n",
       "<p>5 rows × 27 columns</p>\n",
       "</div>"
      ],
      "text/plain": [
       "    Longitude   Latitude   Status Address Type  \\\n",
       "0 -122.292141  47.536087  Matched        Block   \n",
       "1 -122.335422  47.598752  Matched        Block   \n",
       "2 -122.331579  47.598746  Matched        Block   \n",
       "3 -122.334188  47.571578  Matched        Block   \n",
       "5 -122.337348  47.520472  Matched        Block   \n",
       "\n",
       "             Severity Description Collision Type  Number of People Involved  \\\n",
       "0  Property Damage Only Collision      Sideswipe                          2   \n",
       "1  Property Damage Only Collision          Other                          1   \n",
       "2  Property Damage Only Collision      Sideswipe                          2   \n",
       "3  Property Damage Only Collision          Other                          2   \n",
       "5                Injury Collision      Sideswipe                          2   \n",
       "\n",
       "   Number of Pedestrians Involved  Number of Bicycles Involved  \\\n",
       "0                               0                            0   \n",
       "1                               0                            0   \n",
       "2                               0                            0   \n",
       "3                               0                            0   \n",
       "5                               0                            0   \n",
       "\n",
       "   Number of Vehicles Involved  ...                 Weather  Road Condition  \\\n",
       "0                            2  ...                 Raining             Wet   \n",
       "1                            1  ...                 Raining             Wet   \n",
       "2                            2  ...                Overcast             Dry   \n",
       "3                            1  ...                 Raining             Wet   \n",
       "5                            2  ...  Clear or Partly Cloudy             Dry   \n",
       "\n",
       "           Light Condition                        STATE Collision Description  \\\n",
       "0                 Daylight  From same direction - both going straight - bo...   \n",
       "1  Dark - Street Lights On                                       Fixed object   \n",
       "2                 Daylight  From same direction - both going straight - bo...   \n",
       "3  Dark - Street Lights On                                       Fixed object   \n",
       "5  Dark - Street Lights On  From same direction - both going straight - bo...   \n",
       "\n",
       "  Hit Parked Car  Year Month Date Hour Minute  \n",
       "0              N  2018    12   12   15     49  \n",
       "1              N  2018    12   16    2     44  \n",
       "2              N  2018    12   17   13     26  \n",
       "3              N  2018    12   20    2     25  \n",
       "5              N  2018    12   14   17     33  \n",
       "\n",
       "[5 rows x 27 columns]"
      ]
     },
     "execution_count": 257,
     "metadata": {},
     "output_type": "execute_result"
    }
   ],
   "source": [
    "df = pd.read_csv('cleaned_dataset.csv',index_col=0)\n",
    "print (df.shape)\n",
    "df.head()"
   ]
  },
  {
   "cell_type": "markdown",
   "metadata": {},
   "source": [
    "# 3. Adding *Neighborhood* variable"
   ]
  },
  {
   "cell_type": "markdown",
   "metadata": {
    "collapsed": true
   },
   "source": [
    "### Installing *reverse_geocoder* library: The library takes in the latitude and longitude of a location as arguments and returns address type information such as *neighborhood*, *county*, *city* and *country*. "
   ]
  },
  {
   "cell_type": "code",
   "execution_count": 1,
   "metadata": {},
   "outputs": [],
   "source": [
    "#Installing and importing the reverse_geocoder library which converts coordinates to addresses\n",
    "#!pip install reverse_geocoder"
   ]
  },
  {
   "cell_type": "code",
   "execution_count": 5,
   "metadata": {},
   "outputs": [],
   "source": [
    "import reverse_geocoder as rg"
   ]
  },
  {
   "cell_type": "markdown",
   "metadata": {},
   "source": [
    "### Collecting addresses from latitude and longitude data"
   ]
  },
  {
   "cell_type": "code",
   "execution_count": null,
   "metadata": {},
   "outputs": [],
   "source": [
    "start = time.time()\n",
    "try:\n",
    "    df['Neighborhood'] = df.loc[:,['Latitude','Longitude']].iloc[687,:].apply(lambda x: rg.search((x[0],x[1]))[0]['name'],axis='columns')\n",
    "except:\n",
    "    print (\"Error during neighborhood retrieval\")\n",
    "print (time.time()-start)"
   ]
  },
  {
   "cell_type": "markdown",
   "metadata": {},
   "source": [
    "Above is an example for extracting neighborhood information using coordinates. Below, a snippet of the extracted coordinates are shown. "
   ]
  },
  {
   "cell_type": "code",
   "execution_count": 12,
   "metadata": {},
   "outputs": [
    {
     "data": {
      "text/plain": [
       "Seattle                63913\n",
       "Shoreline              13492\n",
       "White Center           10817\n",
       "Lake Forest Park        2961\n",
       "Bryn Mawr-Skyway        2511\n",
       "Riverton                2164\n",
       "Mercer Island           1850\n",
       "Boulevard Park           842\n",
       "Inglewood-Finn Hill      800\n",
       "Yarrow Point             392\n",
       "Medina                   230\n",
       "Tukwila                   28\n",
       "Name: Neighborhood, dtype: int64"
      ]
     },
     "execution_count": 12,
     "metadata": {},
     "output_type": "execute_result"
    }
   ],
   "source": [
    "df['Neighborhood'].value_counts()"
   ]
  },
  {
   "cell_type": "markdown",
   "metadata": {},
   "source": [
    "Exporting the neighborhood variable"
   ]
  },
  {
   "cell_type": "code",
   "execution_count": null,
   "metadata": {},
   "outputs": [],
   "source": [
    "#df['Neighborhood'].to_csv('Neighborhood_variable.csv')"
   ]
  },
  {
   "cell_type": "code",
   "execution_count": 12,
   "metadata": {},
   "outputs": [],
   "source": [
    "#Importing cleaned dataset with neighborhood variable added\n",
    "#df.to_csv(\"Cleaned_data_with_neighborhood_variable.csv\")"
   ]
  },
  {
   "cell_type": "markdown",
   "metadata": {},
   "source": [
    "# 4. Adding *Speed* and *Road Class* variables using the *tomtom* API"
   ]
  },
  {
   "cell_type": "markdown",
   "metadata": {},
   "source": [
    "Defining functions below in order to automate the retrieval of free flow speed and road type data using the *Tomtom API*, and also extracting traffic congestion plus road length data using the *Traffic API* from *HERE.com* "
   ]
  },
  {
   "cell_type": "code",
   "execution_count": 241,
   "metadata": {},
   "outputs": [],
   "source": [
    "def get_speed(lat,lon):\n",
    "    url = 'https://api.tomtom.com/traffic/services/4/flowSegmentData/absolute/10/xml?key=bCvOmybucnuOOwZCNZIiakuB9mWP6AAg&point='+str(lat)+','+str(lon)\n",
    "    r = requests.get(url)\n",
    "    c = r.content\n",
    "    soup = BeautifulSoup(c)\n",
    "    point = soup.find_all('freeflowspeed')\n",
    "    if len(point) == 1:\n",
    "        return (point[0].text)\n",
    "    else:\n",
    "        return np.nan\n",
    "    \n",
    "def get_road(lat,lon):\n",
    "    url = 'https://api.tomtom.com/traffic/services/4/flowSegmentData/absolute/10/xml?key=bCvOmybucnuOOwZCNZIiakuB9mWP6AAg&point='+str(lat)+','+str(lon)\n",
    "    r = requests.get(url)\n",
    "    c = r.content\n",
    "    soup = BeautifulSoup(c)\n",
    "    point = soup.find_all('frc')\n",
    "    if len(point) == 1:\n",
    "        return (point[0].text)\n",
    "    else:\n",
    "        return np.nan\n",
    "\n",
    "def get_here(lat,lon):\n",
    "    url = 'https://traffic.api.here.com/traffic/6.1/flow.json?prox='+str(lat)+'%2C'+str(lon)+'%2C100&app_id=ZcPmh3qkaqe8UolMckOK&app_code=eIBFxxngmjKt76AjVOM9SA'\n",
    "    r = requests.get(url)\n",
    "    response = re.findall('\\d\\d\\d',str(r))\n",
    "    if (int(response[0]))!=200:\n",
    "        return 999,999\n",
    "    else:\n",
    "        here_data = r.json()\n",
    "        jam = here_data['RWS'][0]['RW'][0]['FIS'][0]['FI'][0]['CF'][0]['JF']\n",
    "        length = here_data['RWS'][0]['RW'][0]['FIS'][0]['FI'][0]['TMC']['LE']\n",
    "        return jam,length\n",
    "    "
   ]
  },
  {
   "cell_type": "markdown",
   "metadata": {},
   "source": [
    "The commands for extracting the speed, road length and road congestion data is shown below. They are commented out since the allowable API transactions for this data is limited. This data was extracted in subsets done over perdiods of several hours to ensure that the data was being extracted properly without any errors. \n",
    "\n",
    "Noticed that oftentimes an empty list would be returned when a certain speed value was not found using the *tomtom* API. According to the API, this error sometimes happens if the coordinates provided are too far from any known roads. \n",
    "\n",
    "In order to overcome this error, we included a condition inside the *get_speed()* function which checks whether the returned *freeflowspeed* value has a length of 0 or 1. If the length is 0 that indicates an error, in which case we simply return a null value. \n",
    "\n",
    "For the road variables from HERE, we checked whether the API response code was 200 (successful) otherwise, we would catch the error and manually include a value of 999 for those instances in order to prevent disruption of the automated API calling process. The 999 values were later filtered as outliers. "
   ]
  },
  {
   "cell_type": "code",
   "execution_count": null,
   "metadata": {},
   "outputs": [],
   "source": [
    "#speed = df[['Latitude','Longitude']].iloc[100000:205394,:].apply(lambda x: get_speed(x[0],x[1]),axis=1)\n",
    "#road = df[['Latitude','Longitude']].iloc[:50000,:].apply(lambda x: get_road(x[0],x[1]),axis=1)"
   ]
  },
  {
   "cell_type": "code",
   "execution_count": 19,
   "metadata": {},
   "outputs": [
    {
     "data": {
      "text/plain": [
       "(105394,)"
      ]
     },
     "execution_count": 19,
     "metadata": {},
     "output_type": "execute_result"
    }
   ],
   "source": [
    "speed = pd.Series(speed)\n",
    "speed.head()\n",
    "speed.shape"
   ]
  },
  {
   "cell_type": "markdown",
   "metadata": {},
   "source": [
    "Exporting speed variable"
   ]
  },
  {
   "cell_type": "code",
   "execution_count": 20,
   "metadata": {},
   "outputs": [],
   "source": [
    "#speed.to_csv('Speed_variable_100000_to_205394.csv')"
   ]
  },
  {
   "cell_type": "markdown",
   "metadata": {},
   "source": [
    "## 5. Concatenating the *Speed* lists and adding combined variable to main dataset"
   ]
  },
  {
   "cell_type": "code",
   "execution_count": 259,
   "metadata": {},
   "outputs": [],
   "source": [
    "import glob"
   ]
  },
  {
   "cell_type": "code",
   "execution_count": 265,
   "metadata": {},
   "outputs": [
    {
     "data": {
      "text/plain": [
       "['speed_data_files/Speed_variable_17500_to_30000.csv',\n",
       " 'speed_data_files/Speed_variable_5000_to_7500.csv',\n",
       " 'speed_data_files/Speed_variable_12500_to_15000.csv',\n",
       " 'speed_data_files/Speed_variable_30000_to_100000.csv',\n",
       " 'speed_data_files/Speed_variable_2500_to_5000.csv',\n",
       " 'speed_data_files/Speed_variable_7500_to_10000.csv',\n",
       " 'speed_data_files/Speed_variable_0_to_1000.csv',\n",
       " 'speed_data_files/Speed_variable_10000_to_12500.csv',\n",
       " 'speed_data_files/Speed_variable_100000_to_205394.csv',\n",
       " 'speed_data_files/Speed_variable_1000_to_2500.csv',\n",
       " 'speed_data_files/Speed_variable_15000_to_17500.csv',\n",
       " 'speed_data_files/Speed_variable_0_to_999.csv']"
      ]
     },
     "execution_count": 265,
     "metadata": {},
     "output_type": "execute_result"
    }
   ],
   "source": [
    "glob.glob(\"speed_data_files/*.csv\")"
   ]
  },
  {
   "cell_type": "code",
   "execution_count": 266,
   "metadata": {},
   "outputs": [],
   "source": [
    "#Reading all the speed data into dataframes\n",
    "df1 = pd.read_csv(\"speed_data_files/Speed_variable_0_to_999.csv\",header=None,index_col=0)\n",
    "df2 = pd.read_csv(\"speed_data_files/Speed_variable_1000_to_2500.csv\",header=None,index_col=0)\n",
    "df3 = pd.read_csv(\"speed_data_files/Speed_variable_2500_to_5000.csv\",header=None,index_col=0)\n",
    "df4 = pd.read_csv(\"speed_data_files/Speed_variable_5000_to_7500.csv\",header=None,index_col=0)\n",
    "df5 = pd.read_csv(\"speed_data_files/Speed_variable_7500_to_10000.csv\",header=None,index_col=0)\n",
    "df6 = pd.read_csv(\"speed_data_files/Speed_variable_10000_to_12500.csv\",header=None,index_col=0)\n",
    "df7 = pd.read_csv(\"speed_data_files/Speed_variable_12500_to_15000.csv\",header=None,index_col=0)\n",
    "df8 = pd.read_csv(\"speed_data_files/Speed_variable_15000_to_17500.csv\",header=None,index_col=0)\n",
    "df9 = pd.read_csv(\"speed_data_files/Speed_variable_17500_to_30000.csv\",header=None,index_col=0)\n",
    "df10 = pd.read_csv(\"speed_data_files/Speed_variable_30000_to_100000.csv\",header=None,index_col=0)\n",
    "df11 = pd.read_csv(\"speed_data_files/Speed_variable_100000_to_205394.csv\",header=None,index_col=0)"
   ]
  },
  {
   "cell_type": "code",
   "execution_count": 269,
   "metadata": {},
   "outputs": [],
   "source": [
    "#df_speed = df1[29].append(df2[1]).append(df3).append(df4).append(df5).append(df6).append(df7).append(df8)\n",
    "speed_combined = df1.append(df2).append(df3).append(df4).append(df5).append(df6).append(df7).append(df8).append(df9).append(df10).append(df11)"
   ]
  },
  {
   "cell_type": "code",
   "execution_count": 270,
   "metadata": {},
   "outputs": [
    {
     "name": "stdout",
     "output_type": "stream",
     "text": [
      "(205394, 1)\n"
     ]
    }
   ],
   "source": [
    "print (speed_combined.shape)"
   ]
  },
  {
   "cell_type": "code",
   "execution_count": 275,
   "metadata": {},
   "outputs": [
    {
     "data": {
      "text/html": [
       "<div>\n",
       "<style scoped>\n",
       "    .dataframe tbody tr th:only-of-type {\n",
       "        vertical-align: middle;\n",
       "    }\n",
       "\n",
       "    .dataframe tbody tr th {\n",
       "        vertical-align: top;\n",
       "    }\n",
       "\n",
       "    .dataframe thead th {\n",
       "        text-align: right;\n",
       "    }\n",
       "</style>\n",
       "<table border=\"1\" class=\"dataframe\">\n",
       "  <thead>\n",
       "    <tr style=\"text-align: right;\">\n",
       "      <th></th>\n",
       "      <th>1</th>\n",
       "    </tr>\n",
       "    <tr>\n",
       "      <th>0</th>\n",
       "      <th></th>\n",
       "    </tr>\n",
       "  </thead>\n",
       "  <tbody>\n",
       "    <tr>\n",
       "      <th>0</th>\n",
       "      <td>48.0</td>\n",
       "    </tr>\n",
       "    <tr>\n",
       "      <th>1</th>\n",
       "      <td>85.0</td>\n",
       "    </tr>\n",
       "    <tr>\n",
       "      <th>2</th>\n",
       "      <td>13.0</td>\n",
       "    </tr>\n",
       "    <tr>\n",
       "      <th>3</th>\n",
       "      <td>58.0</td>\n",
       "    </tr>\n",
       "    <tr>\n",
       "      <th>5</th>\n",
       "      <td>55.0</td>\n",
       "    </tr>\n",
       "  </tbody>\n",
       "</table>\n",
       "</div>"
      ],
      "text/plain": [
       "      1\n",
       "0      \n",
       "0  48.0\n",
       "1  85.0\n",
       "2  13.0\n",
       "3  58.0\n",
       "5  55.0"
      ]
     },
     "execution_count": 275,
     "metadata": {},
     "output_type": "execute_result"
    }
   ],
   "source": [
    "speed_combined.head()"
   ]
  },
  {
   "cell_type": "code",
   "execution_count": 276,
   "metadata": {},
   "outputs": [],
   "source": [
    "df['Speed'] = speed_combined"
   ]
  },
  {
   "cell_type": "code",
   "execution_count": 182,
   "metadata": {},
   "outputs": [],
   "source": [
    "df_speed['Speed'] = speed_combined"
   ]
  },
  {
   "cell_type": "markdown",
   "metadata": {},
   "source": [
    "## 6. Retrieving traffic congestion and road length data"
   ]
  },
  {
   "cell_type": "markdown",
   "metadata": {},
   "source": [
    "Using the HERE API to retrieve traffic congestion data in the form of a *jam factor* whose value ranges from 0 to 10 where a 10 indicates the highest congestion while a 0 indicates no congestion. \n",
    "\n",
    "We are also retreiving the road length information for the given route. Once again, the procedure below for making the API calls is commented out due to the limited API calls that can be made. "
   ]
  },
  {
   "cell_type": "code",
   "execution_count": null,
   "metadata": {},
   "outputs": [],
   "source": [
    "#jam_len = df[['Latitude','Longitude']].iloc[100000:205394,:].apply(lambda x: get_here(x[0],x[1]),axis=1)\n",
    "#jam_len.shape"
   ]
  },
  {
   "cell_type": "code",
   "execution_count": 244,
   "metadata": {},
   "outputs": [],
   "source": [
    "jam_len = list(zip(*jam_len))"
   ]
  },
  {
   "cell_type": "code",
   "execution_count": 245,
   "metadata": {},
   "outputs": [
    {
     "name": "stdout",
     "output_type": "stream",
     "text": [
      "105394 105394\n"
     ]
    }
   ],
   "source": [
    "congestion = pd.Series(list(jam_len[0]))\n",
    "road_length = pd.Series(list(jam_len[1]))\n",
    "print (len(congestion),len(road_length))"
   ]
  },
  {
   "cell_type": "code",
   "execution_count": 246,
   "metadata": {},
   "outputs": [],
   "source": [
    "df['Traffic Congestion'] = congestion \n",
    "df['Road Length'] = road_length"
   ]
  },
  {
   "cell_type": "markdown",
   "metadata": {},
   "source": [
    "Doing some initial analysis for the road length and congestion variables"
   ]
  },
  {
   "cell_type": "code",
   "execution_count": 250,
   "metadata": {},
   "outputs": [],
   "source": [
    "#df_filtered = df[(df['Traffic Congestion']<900) & (df['Traffic Congestion']>-1) ]\n",
    "df_filtered = df[(df['Traffic Congestion']<900)]"
   ]
  },
  {
   "cell_type": "code",
   "execution_count": 251,
   "metadata": {},
   "outputs": [
    {
     "data": {
      "image/png": "[encoded data removed]",
      "text/plain": [
       "<Figure size 432x288 with 1 Axes>"
      ]
     },
     "metadata": {},
     "output_type": "display_data"
    }
   ],
   "source": [
    "plt.hist(df_filtered['Traffic Congestion'])\n",
    "plt.show()"
   ]
  },
  {
   "cell_type": "code",
   "execution_count": 252,
   "metadata": {},
   "outputs": [
    {
     "data": {
      "image/png": "[encoded data removed]",
      "text/plain": [
       "<Figure size 432x288 with 1 Axes>"
      ]
     },
     "metadata": {},
     "output_type": "display_data"
    }
   ],
   "source": [
    "sns.boxplot(x='Severity Description',y='Traffic Congestion',data=df_filtered)\n",
    "plt.xticks(rotation=90)\n",
    "plt.show()"
   ]
  },
  {
   "cell_type": "code",
   "execution_count": 253,
   "metadata": {},
   "outputs": [
    {
     "data": {
      "text/html": [
       "<div>\n",
       "<style scoped>\n",
       "    .dataframe tbody tr th:only-of-type {\n",
       "        vertical-align: middle;\n",
       "    }\n",
       "\n",
       "    .dataframe tbody tr th {\n",
       "        vertical-align: top;\n",
       "    }\n",
       "\n",
       "    .dataframe thead tr th {\n",
       "        text-align: left;\n",
       "    }\n",
       "\n",
       "    .dataframe thead tr:last-of-type th {\n",
       "        text-align: right;\n",
       "    }\n",
       "</style>\n",
       "<table border=\"1\" class=\"dataframe\">\n",
       "  <thead>\n",
       "    <tr>\n",
       "      <th></th>\n",
       "      <th colspan=\"5\" halign=\"left\">Traffic Congestion</th>\n",
       "    </tr>\n",
       "    <tr>\n",
       "      <th></th>\n",
       "      <th>count</th>\n",
       "      <th>mean</th>\n",
       "      <th>median</th>\n",
       "      <th>min</th>\n",
       "      <th>max</th>\n",
       "    </tr>\n",
       "    <tr>\n",
       "      <th>Severity Description</th>\n",
       "      <th></th>\n",
       "      <th></th>\n",
       "      <th></th>\n",
       "      <th></th>\n",
       "      <th></th>\n",
       "    </tr>\n",
       "  </thead>\n",
       "  <tbody>\n",
       "    <tr>\n",
       "      <th>Fatality Collision</th>\n",
       "      <td>169</td>\n",
       "      <td>1.121939</td>\n",
       "      <td>0.955770</td>\n",
       "      <td>-1.0</td>\n",
       "      <td>10.0</td>\n",
       "    </tr>\n",
       "    <tr>\n",
       "      <th>Injury Collision</th>\n",
       "      <td>27202</td>\n",
       "      <td>0.851570</td>\n",
       "      <td>0.493610</td>\n",
       "      <td>-1.0</td>\n",
       "      <td>10.0</td>\n",
       "    </tr>\n",
       "    <tr>\n",
       "      <th>Property Damage Only Collision</th>\n",
       "      <td>66048</td>\n",
       "      <td>0.849586</td>\n",
       "      <td>0.483350</td>\n",
       "      <td>-1.0</td>\n",
       "      <td>10.0</td>\n",
       "    </tr>\n",
       "    <tr>\n",
       "      <th>Serious Injury Collision</th>\n",
       "      <td>1538</td>\n",
       "      <td>0.887626</td>\n",
       "      <td>0.608475</td>\n",
       "      <td>-1.0</td>\n",
       "      <td>10.0</td>\n",
       "    </tr>\n",
       "    <tr>\n",
       "      <th>Unknown</th>\n",
       "      <td>6941</td>\n",
       "      <td>0.926961</td>\n",
       "      <td>0.635920</td>\n",
       "      <td>-1.0</td>\n",
       "      <td>10.0</td>\n",
       "    </tr>\n",
       "  </tbody>\n",
       "</table>\n",
       "</div>"
      ],
      "text/plain": [
       "                               Traffic Congestion                           \\\n",
       "                                            count      mean    median  min   \n",
       "Severity Description                                                         \n",
       "Fatality Collision                            169  1.121939  0.955770 -1.0   \n",
       "Injury Collision                            27202  0.851570  0.493610 -1.0   \n",
       "Property Damage Only Collision              66048  0.849586  0.483350 -1.0   \n",
       "Serious Injury Collision                     1538  0.887626  0.608475 -1.0   \n",
       "Unknown                                      6941  0.926961  0.635920 -1.0   \n",
       "\n",
       "                                      \n",
       "                                 max  \n",
       "Severity Description                  \n",
       "Fatality Collision              10.0  \n",
       "Injury Collision                10.0  \n",
       "Property Damage Only Collision  10.0  \n",
       "Serious Injury Collision        10.0  \n",
       "Unknown                         10.0  "
      ]
     },
     "execution_count": 253,
     "metadata": {},
     "output_type": "execute_result"
    }
   ],
   "source": [
    "df_filtered[['Severity Description','Traffic Congestion']].groupby(['Severity Description']).agg(['count','mean','median','min','max'])"
   ]
  },
  {
   "cell_type": "code",
   "execution_count": 232,
   "metadata": {},
   "outputs": [
    {
     "data": {
      "image/png": "[encoded data removed]",
      "text/plain": [
       "<Figure size 432x288 with 1 Axes>"
      ]
     },
     "metadata": {},
     "output_type": "display_data"
    }
   ],
   "source": [
    "sns.boxplot(x='Severity Description',y='Road Length',data=df_filtered)\n",
    "plt.xticks(rotation=90)\n",
    "plt.show()"
   ]
  },
  {
   "cell_type": "code",
   "execution_count": 233,
   "metadata": {},
   "outputs": [
    {
     "data": {
      "text/html": [
       "<div>\n",
       "<style scoped>\n",
       "    .dataframe tbody tr th:only-of-type {\n",
       "        vertical-align: middle;\n",
       "    }\n",
       "\n",
       "    .dataframe tbody tr th {\n",
       "        vertical-align: top;\n",
       "    }\n",
       "\n",
       "    .dataframe thead tr th {\n",
       "        text-align: left;\n",
       "    }\n",
       "\n",
       "    .dataframe thead tr:last-of-type th {\n",
       "        text-align: right;\n",
       "    }\n",
       "</style>\n",
       "<table border=\"1\" class=\"dataframe\">\n",
       "  <thead>\n",
       "    <tr>\n",
       "      <th></th>\n",
       "      <th colspan=\"5\" halign=\"left\">Road Length</th>\n",
       "    </tr>\n",
       "    <tr>\n",
       "      <th></th>\n",
       "      <th>count</th>\n",
       "      <th>mean</th>\n",
       "      <th>median</th>\n",
       "      <th>min</th>\n",
       "      <th>max</th>\n",
       "    </tr>\n",
       "    <tr>\n",
       "      <th>Severity Description</th>\n",
       "      <th></th>\n",
       "      <th></th>\n",
       "      <th></th>\n",
       "      <th></th>\n",
       "      <th></th>\n",
       "    </tr>\n",
       "  </thead>\n",
       "  <tbody>\n",
       "    <tr>\n",
       "      <th>Fatality Collision</th>\n",
       "      <td>159</td>\n",
       "      <td>0.705890</td>\n",
       "      <td>0.61153</td>\n",
       "      <td>0.01262</td>\n",
       "      <td>2.07470</td>\n",
       "    </tr>\n",
       "    <tr>\n",
       "      <th>Injury Collision</th>\n",
       "      <td>25799</td>\n",
       "      <td>0.719657</td>\n",
       "      <td>0.64112</td>\n",
       "      <td>0.00981</td>\n",
       "      <td>2.75415</td>\n",
       "    </tr>\n",
       "    <tr>\n",
       "      <th>Property Damage Only Collision</th>\n",
       "      <td>62800</td>\n",
       "      <td>0.718704</td>\n",
       "      <td>0.63599</td>\n",
       "      <td>0.00981</td>\n",
       "      <td>2.75415</td>\n",
       "    </tr>\n",
       "    <tr>\n",
       "      <th>Serious Injury Collision</th>\n",
       "      <td>1458</td>\n",
       "      <td>0.723935</td>\n",
       "      <td>0.64112</td>\n",
       "      <td>0.01036</td>\n",
       "      <td>2.22400</td>\n",
       "    </tr>\n",
       "    <tr>\n",
       "      <th>Unknown</th>\n",
       "      <td>6469</td>\n",
       "      <td>0.716565</td>\n",
       "      <td>0.63599</td>\n",
       "      <td>0.00981</td>\n",
       "      <td>2.75415</td>\n",
       "    </tr>\n",
       "  </tbody>\n",
       "</table>\n",
       "</div>"
      ],
      "text/plain": [
       "                               Road Length                              \\\n",
       "                                     count      mean   median      min   \n",
       "Severity Description                                                     \n",
       "Fatality Collision                     159  0.705890  0.61153  0.01262   \n",
       "Injury Collision                     25799  0.719657  0.64112  0.00981   \n",
       "Property Damage Only Collision       62800  0.718704  0.63599  0.00981   \n",
       "Serious Injury Collision              1458  0.723935  0.64112  0.01036   \n",
       "Unknown                               6469  0.716565  0.63599  0.00981   \n",
       "\n",
       "                                         \n",
       "                                    max  \n",
       "Severity Description                     \n",
       "Fatality Collision              2.07470  \n",
       "Injury Collision                2.75415  \n",
       "Property Damage Only Collision  2.75415  \n",
       "Serious Injury Collision        2.22400  \n",
       "Unknown                         2.75415  "
      ]
     },
     "execution_count": 233,
     "metadata": {},
     "output_type": "execute_result"
    }
   ],
   "source": [
    "df_filtered[['Severity Description','Road Length']].groupby(['Severity Description']).agg(['count','mean','median','min','max'])"
   ]
  },
  {
   "cell_type": "markdown",
   "metadata": {},
   "source": [
    "Exporting the road congestion and road length data to CSV files"
   ]
  },
  {
   "cell_type": "code",
   "execution_count": 254,
   "metadata": {},
   "outputs": [],
   "source": [
    "congestion.to_csv('Congestion_variable_100000_to_205934.csv')\n",
    "road_length.to_csv('Road_length_variable_100000_to_205934.csv')"
   ]
  },
  {
   "cell_type": "code",
   "execution_count": 289,
   "metadata": {},
   "outputs": [],
   "source": [
    "#Reading in the traffic congestion and road length variables\n",
    "df_cong_1 = pd.read_csv(\"Congestion_variable_0_to_100000.csv\",header=None,index_col=0)\n",
    "df_cong_2 = pd.read_csv(\"Congestion_variable_100000_to_205934.csv\",header=None,index_col=0)\n",
    "df_road_len_1 = pd.read_csv(\"Road_length_variable_0_to_100000.csv\",header=None,index_col=0)\n",
    "df_road_len_2 = pd.read_csv(\"Road_length_variable_100000_to_205934.csv\",header=None,index_col=0)"
   ]
  },
  {
   "cell_type": "code",
   "execution_count": 294,
   "metadata": {},
   "outputs": [
    {
     "name": "stdout",
     "output_type": "stream",
     "text": [
      "         1\n",
      "0         \n",
      "0  2.36674\n",
      "1 -1.00000\n",
      "2 -1.00000\n",
      "3  0.00000\n",
      "4  1.57819\n",
      "(205394, 1)\n",
      "         1\n",
      "0         \n",
      "0  0.56104\n",
      "1  0.36276\n",
      "2  0.36276\n",
      "3  1.73291\n",
      "4  0.74738\n",
      "(205394, 1)\n"
     ]
    }
   ],
   "source": [
    "#Combining congestion and road length variables\n",
    "df_cong = df_cong_1.append(df_cong_2)\n",
    "df_road_len = df_road_len_1.append(df_road_len_2)\n",
    "print (df_cong.head())\n",
    "print (df_cong.shape)\n",
    "print (df_road_len.head())\n",
    "print (df_road_len.shape)"
   ]
  },
  {
   "cell_type": "markdown",
   "metadata": {},
   "source": [
    "## 7. Adding the road length and congestion variables to the original cleaned dataset. "
   ]
  },
  {
   "cell_type": "code",
   "execution_count": 307,
   "metadata": {},
   "outputs": [],
   "source": [
    "#Adding variables to original dataset\n",
    "df['Road Congestion'] = list(df_cong[1])\n",
    "df['Road Length'] = list(df_road_len[1])"
   ]
  },
  {
   "cell_type": "code",
   "execution_count": 308,
   "metadata": {},
   "outputs": [
    {
     "data": {
      "text/html": [
       "<div>\n",
       "<style scoped>\n",
       "    .dataframe tbody tr th:only-of-type {\n",
       "        vertical-align: middle;\n",
       "    }\n",
       "\n",
       "    .dataframe tbody tr th {\n",
       "        vertical-align: top;\n",
       "    }\n",
       "\n",
       "    .dataframe thead th {\n",
       "        text-align: right;\n",
       "    }\n",
       "</style>\n",
       "<table border=\"1\" class=\"dataframe\">\n",
       "  <thead>\n",
       "    <tr style=\"text-align: right;\">\n",
       "      <th></th>\n",
       "      <th>Longitude</th>\n",
       "      <th>Latitude</th>\n",
       "      <th>Status</th>\n",
       "      <th>Address Type</th>\n",
       "      <th>Severity Description</th>\n",
       "      <th>Collision Type</th>\n",
       "      <th>Number of People Involved</th>\n",
       "      <th>Number of Pedestrians Involved</th>\n",
       "      <th>Number of Bicycles Involved</th>\n",
       "      <th>Number of Vehicles Involved</th>\n",
       "      <th>...</th>\n",
       "      <th>STATE Collision Description</th>\n",
       "      <th>Hit Parked Car</th>\n",
       "      <th>Year</th>\n",
       "      <th>Month</th>\n",
       "      <th>Date</th>\n",
       "      <th>Hour</th>\n",
       "      <th>Minute</th>\n",
       "      <th>Speed</th>\n",
       "      <th>Road Congestion</th>\n",
       "      <th>Road Length</th>\n",
       "    </tr>\n",
       "  </thead>\n",
       "  <tbody>\n",
       "    <tr>\n",
       "      <th>0</th>\n",
       "      <td>-122.292141</td>\n",
       "      <td>47.536087</td>\n",
       "      <td>Matched</td>\n",
       "      <td>Block</td>\n",
       "      <td>Property Damage Only Collision</td>\n",
       "      <td>Sideswipe</td>\n",
       "      <td>2</td>\n",
       "      <td>0</td>\n",
       "      <td>0</td>\n",
       "      <td>2</td>\n",
       "      <td>...</td>\n",
       "      <td>From same direction - both going straight - bo...</td>\n",
       "      <td>N</td>\n",
       "      <td>2018</td>\n",
       "      <td>12</td>\n",
       "      <td>12</td>\n",
       "      <td>15</td>\n",
       "      <td>49</td>\n",
       "      <td>48.0</td>\n",
       "      <td>2.36674</td>\n",
       "      <td>0.56104</td>\n",
       "    </tr>\n",
       "    <tr>\n",
       "      <th>1</th>\n",
       "      <td>-122.335422</td>\n",
       "      <td>47.598752</td>\n",
       "      <td>Matched</td>\n",
       "      <td>Block</td>\n",
       "      <td>Property Damage Only Collision</td>\n",
       "      <td>Other</td>\n",
       "      <td>1</td>\n",
       "      <td>0</td>\n",
       "      <td>0</td>\n",
       "      <td>1</td>\n",
       "      <td>...</td>\n",
       "      <td>Fixed object</td>\n",
       "      <td>N</td>\n",
       "      <td>2018</td>\n",
       "      <td>12</td>\n",
       "      <td>16</td>\n",
       "      <td>2</td>\n",
       "      <td>44</td>\n",
       "      <td>85.0</td>\n",
       "      <td>-1.00000</td>\n",
       "      <td>0.36276</td>\n",
       "    </tr>\n",
       "    <tr>\n",
       "      <th>2</th>\n",
       "      <td>-122.331579</td>\n",
       "      <td>47.598746</td>\n",
       "      <td>Matched</td>\n",
       "      <td>Block</td>\n",
       "      <td>Property Damage Only Collision</td>\n",
       "      <td>Sideswipe</td>\n",
       "      <td>2</td>\n",
       "      <td>0</td>\n",
       "      <td>0</td>\n",
       "      <td>2</td>\n",
       "      <td>...</td>\n",
       "      <td>From same direction - both going straight - bo...</td>\n",
       "      <td>N</td>\n",
       "      <td>2018</td>\n",
       "      <td>12</td>\n",
       "      <td>17</td>\n",
       "      <td>13</td>\n",
       "      <td>26</td>\n",
       "      <td>13.0</td>\n",
       "      <td>-1.00000</td>\n",
       "      <td>0.36276</td>\n",
       "    </tr>\n",
       "    <tr>\n",
       "      <th>3</th>\n",
       "      <td>-122.334188</td>\n",
       "      <td>47.571578</td>\n",
       "      <td>Matched</td>\n",
       "      <td>Block</td>\n",
       "      <td>Property Damage Only Collision</td>\n",
       "      <td>Other</td>\n",
       "      <td>2</td>\n",
       "      <td>0</td>\n",
       "      <td>0</td>\n",
       "      <td>1</td>\n",
       "      <td>...</td>\n",
       "      <td>Fixed object</td>\n",
       "      <td>N</td>\n",
       "      <td>2018</td>\n",
       "      <td>12</td>\n",
       "      <td>20</td>\n",
       "      <td>2</td>\n",
       "      <td>25</td>\n",
       "      <td>58.0</td>\n",
       "      <td>0.00000</td>\n",
       "      <td>1.73291</td>\n",
       "    </tr>\n",
       "    <tr>\n",
       "      <th>5</th>\n",
       "      <td>-122.337348</td>\n",
       "      <td>47.520472</td>\n",
       "      <td>Matched</td>\n",
       "      <td>Block</td>\n",
       "      <td>Injury Collision</td>\n",
       "      <td>Sideswipe</td>\n",
       "      <td>2</td>\n",
       "      <td>0</td>\n",
       "      <td>0</td>\n",
       "      <td>2</td>\n",
       "      <td>...</td>\n",
       "      <td>From same direction - both going straight - bo...</td>\n",
       "      <td>N</td>\n",
       "      <td>2018</td>\n",
       "      <td>12</td>\n",
       "      <td>14</td>\n",
       "      <td>17</td>\n",
       "      <td>33</td>\n",
       "      <td>55.0</td>\n",
       "      <td>1.57819</td>\n",
       "      <td>0.74738</td>\n",
       "    </tr>\n",
       "  </tbody>\n",
       "</table>\n",
       "<p>5 rows × 30 columns</p>\n",
       "</div>"
      ],
      "text/plain": [
       "    Longitude   Latitude   Status Address Type  \\\n",
       "0 -122.292141  47.536087  Matched        Block   \n",
       "1 -122.335422  47.598752  Matched        Block   \n",
       "2 -122.331579  47.598746  Matched        Block   \n",
       "3 -122.334188  47.571578  Matched        Block   \n",
       "5 -122.337348  47.520472  Matched        Block   \n",
       "\n",
       "             Severity Description Collision Type  Number of People Involved  \\\n",
       "0  Property Damage Only Collision      Sideswipe                          2   \n",
       "1  Property Damage Only Collision          Other                          1   \n",
       "2  Property Damage Only Collision      Sideswipe                          2   \n",
       "3  Property Damage Only Collision          Other                          2   \n",
       "5                Injury Collision      Sideswipe                          2   \n",
       "\n",
       "   Number of Pedestrians Involved  Number of Bicycles Involved  \\\n",
       "0                               0                            0   \n",
       "1                               0                            0   \n",
       "2                               0                            0   \n",
       "3                               0                            0   \n",
       "5                               0                            0   \n",
       "\n",
       "   Number of Vehicles Involved  ...  \\\n",
       "0                            2  ...   \n",
       "1                            1  ...   \n",
       "2                            2  ...   \n",
       "3                            1  ...   \n",
       "5                            2  ...   \n",
       "\n",
       "                         STATE Collision Description  Hit Parked Car  Year  \\\n",
       "0  From same direction - both going straight - bo...               N  2018   \n",
       "1                                       Fixed object               N  2018   \n",
       "2  From same direction - both going straight - bo...               N  2018   \n",
       "3                                       Fixed object               N  2018   \n",
       "5  From same direction - both going straight - bo...               N  2018   \n",
       "\n",
       "  Month Date Hour Minute Speed Road Congestion Road Length  \n",
       "0    12   12   15     49  48.0         2.36674     0.56104  \n",
       "1    12   16    2     44  85.0        -1.00000     0.36276  \n",
       "2    12   17   13     26  13.0        -1.00000     0.36276  \n",
       "3    12   20    2     25  58.0         0.00000     1.73291  \n",
       "5    12   14   17     33  55.0         1.57819     0.74738  \n",
       "\n",
       "[5 rows x 30 columns]"
      ]
     },
     "execution_count": 308,
     "metadata": {},
     "output_type": "execute_result"
    }
   ],
   "source": [
    "df.head()"
   ]
  },
  {
   "cell_type": "code",
   "execution_count": 315,
   "metadata": {},
   "outputs": [
    {
     "data": {
      "text/plain": [
       "(205394, 31)"
      ]
     },
     "execution_count": 315,
     "metadata": {},
     "output_type": "execute_result"
    }
   ],
   "source": [
    "df.shape"
   ]
  },
  {
   "cell_type": "code",
   "execution_count": 316,
   "metadata": {},
   "outputs": [
    {
     "data": {
      "text/plain": [
       "Index(['Longitude', 'Latitude', 'Status', 'Address Type',\n",
       "       'Severity Description', 'Collision Type', 'Number of People Involved',\n",
       "       'Number of Pedestrians Involved', 'Number of Bicycles Involved',\n",
       "       'Number of Vehicles Involved', 'Number of Injuries',\n",
       "       'Number of Serious Injuries', 'Number of Fatalities',\n",
       "       'Incident Date and Time', 'Junction Type', 'SDOT Collision Description',\n",
       "       'DUI', 'Weather', 'Road Condition', 'Light Condition',\n",
       "       'STATE Collision Description', 'Hit Parked Car', 'Year', 'Month',\n",
       "       'Date', 'Hour', 'Minute', 'Speed', 'Road Congestion', 'Road Length',\n",
       "       'Neighborhood'],\n",
       "      dtype='object')"
      ]
     },
     "execution_count": 316,
     "metadata": {},
     "output_type": "execute_result"
    }
   ],
   "source": [
    "df.columns"
   ]
  },
  {
   "cell_type": "markdown",
   "metadata": {},
   "source": [
    "Finally, exporting the entire dataset with the added variables for further analysis. "
   ]
  },
  {
   "cell_type": "code",
   "execution_count": 317,
   "metadata": {},
   "outputs": [],
   "source": [
    "df.to_csv('Cleaned_dataset_with_added_variables.csv')"
   ]
  }
 ],
 "metadata": {
  "kernelspec": {
   "display_name": "conda_python3",
   "language": "python",
   "name": "conda_python3"
  },
  "language_info": {
   "codemirror_mode": {
    "name": "ipython",
    "version": 3
   },
   "file_extension": ".py",
   "mimetype": "text/x-python",
   "name": "python",
   "nbconvert_exporter": "python",
   "pygments_lexer": "ipython3",
   "version": "3.6.5"
  }
 },
 "nbformat": 4,
 "nbformat_minor": 2
}
